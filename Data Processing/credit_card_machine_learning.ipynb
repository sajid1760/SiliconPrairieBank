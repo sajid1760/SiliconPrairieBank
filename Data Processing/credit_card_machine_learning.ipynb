{
 "cells": [
  {
   "cell_type": "code",
   "execution_count": 2,
   "id": "7637ad65",
   "metadata": {},
   "outputs": [
    {
     "data": {
      "text/html": [
       "<style>.container { width:100% !important; }</style>"
      ],
      "text/plain": [
       "<IPython.core.display.HTML object>"
      ]
     },
     "metadata": {},
     "output_type": "display_data"
    }
   ],
   "source": [
    "from IPython.display import display, HTML\n",
    "display(HTML(\"<style>.container { width:100% !important; }</style>\"))"
   ]
  },
  {
   "cell_type": "code",
   "execution_count": 3,
   "id": "a150b2ab",
   "metadata": {},
   "outputs": [],
   "source": [
    "import pandas as pd\n",
    "import numpy as np\n",
    "import sklearn as sk"
   ]
  },
  {
   "cell_type": "code",
   "execution_count": 133,
   "id": "99e1dd00",
   "metadata": {},
   "outputs": [
    {
     "data": {
      "text/html": [
       "<div>\n",
       "<style scoped>\n",
       "    .dataframe tbody tr th:only-of-type {\n",
       "        vertical-align: middle;\n",
       "    }\n",
       "\n",
       "    .dataframe tbody tr th {\n",
       "        vertical-align: top;\n",
       "    }\n",
       "\n",
       "    .dataframe thead th {\n",
       "        text-align: right;\n",
       "    }\n",
       "</style>\n",
       "<table border=\"1\" class=\"dataframe\">\n",
       "  <thead>\n",
       "    <tr style=\"text-align: right;\">\n",
       "      <th></th>\n",
       "      <th>ID</th>\n",
       "      <th>Gender</th>\n",
       "      <th>Own_car</th>\n",
       "      <th>Own_property</th>\n",
       "      <th>Work_phone</th>\n",
       "      <th>Phone</th>\n",
       "      <th>Email</th>\n",
       "      <th>Unemployed</th>\n",
       "      <th>Num_children</th>\n",
       "      <th>Num_family</th>\n",
       "      <th>Account_length</th>\n",
       "      <th>Total_income</th>\n",
       "      <th>Age</th>\n",
       "      <th>Years_employed</th>\n",
       "      <th>Income_type</th>\n",
       "      <th>Education_type</th>\n",
       "      <th>Family_status</th>\n",
       "      <th>Housing_type</th>\n",
       "      <th>Occupation_type</th>\n",
       "      <th>Target</th>\n",
       "    </tr>\n",
       "  </thead>\n",
       "  <tbody>\n",
       "    <tr>\n",
       "      <th>0</th>\n",
       "      <td>5008804</td>\n",
       "      <td>1</td>\n",
       "      <td>1</td>\n",
       "      <td>1</td>\n",
       "      <td>1</td>\n",
       "      <td>0</td>\n",
       "      <td>0</td>\n",
       "      <td>0</td>\n",
       "      <td>0</td>\n",
       "      <td>2</td>\n",
       "      <td>15</td>\n",
       "      <td>427500.0</td>\n",
       "      <td>32.868574</td>\n",
       "      <td>12.435574</td>\n",
       "      <td>Working</td>\n",
       "      <td>Higher education</td>\n",
       "      <td>Civil marriage</td>\n",
       "      <td>Rented apartment</td>\n",
       "      <td>Other</td>\n",
       "      <td>1</td>\n",
       "    </tr>\n",
       "    <tr>\n",
       "      <th>1</th>\n",
       "      <td>5008806</td>\n",
       "      <td>1</td>\n",
       "      <td>1</td>\n",
       "      <td>1</td>\n",
       "      <td>0</td>\n",
       "      <td>0</td>\n",
       "      <td>0</td>\n",
       "      <td>0</td>\n",
       "      <td>0</td>\n",
       "      <td>2</td>\n",
       "      <td>29</td>\n",
       "      <td>112500.0</td>\n",
       "      <td>58.793815</td>\n",
       "      <td>3.104787</td>\n",
       "      <td>Working</td>\n",
       "      <td>Secondary / secondary special</td>\n",
       "      <td>Married</td>\n",
       "      <td>House / apartment</td>\n",
       "      <td>Security staff</td>\n",
       "      <td>0</td>\n",
       "    </tr>\n",
       "    <tr>\n",
       "      <th>2</th>\n",
       "      <td>5008808</td>\n",
       "      <td>0</td>\n",
       "      <td>0</td>\n",
       "      <td>1</td>\n",
       "      <td>0</td>\n",
       "      <td>1</td>\n",
       "      <td>1</td>\n",
       "      <td>0</td>\n",
       "      <td>0</td>\n",
       "      <td>1</td>\n",
       "      <td>4</td>\n",
       "      <td>270000.0</td>\n",
       "      <td>52.321403</td>\n",
       "      <td>8.353354</td>\n",
       "      <td>Commercial associate</td>\n",
       "      <td>Secondary / secondary special</td>\n",
       "      <td>Single / not married</td>\n",
       "      <td>House / apartment</td>\n",
       "      <td>Sales staff</td>\n",
       "      <td>0</td>\n",
       "    </tr>\n",
       "    <tr>\n",
       "      <th>3</th>\n",
       "      <td>5008812</td>\n",
       "      <td>0</td>\n",
       "      <td>0</td>\n",
       "      <td>1</td>\n",
       "      <td>0</td>\n",
       "      <td>0</td>\n",
       "      <td>0</td>\n",
       "      <td>1</td>\n",
       "      <td>0</td>\n",
       "      <td>1</td>\n",
       "      <td>20</td>\n",
       "      <td>283500.0</td>\n",
       "      <td>61.504343</td>\n",
       "      <td>0.000000</td>\n",
       "      <td>Pensioner</td>\n",
       "      <td>Higher education</td>\n",
       "      <td>Separated</td>\n",
       "      <td>House / apartment</td>\n",
       "      <td>Other</td>\n",
       "      <td>0</td>\n",
       "    </tr>\n",
       "    <tr>\n",
       "      <th>4</th>\n",
       "      <td>5008815</td>\n",
       "      <td>1</td>\n",
       "      <td>1</td>\n",
       "      <td>1</td>\n",
       "      <td>1</td>\n",
       "      <td>1</td>\n",
       "      <td>1</td>\n",
       "      <td>0</td>\n",
       "      <td>0</td>\n",
       "      <td>2</td>\n",
       "      <td>5</td>\n",
       "      <td>270000.0</td>\n",
       "      <td>46.193967</td>\n",
       "      <td>2.105450</td>\n",
       "      <td>Working</td>\n",
       "      <td>Higher education</td>\n",
       "      <td>Married</td>\n",
       "      <td>House / apartment</td>\n",
       "      <td>Accountants</td>\n",
       "      <td>0</td>\n",
       "    </tr>\n",
       "  </tbody>\n",
       "</table>\n",
       "</div>"
      ],
      "text/plain": [
       "        ID  Gender  Own_car  Own_property  Work_phone  Phone  Email  \\\n",
       "0  5008804       1        1             1           1      0      0   \n",
       "1  5008806       1        1             1           0      0      0   \n",
       "2  5008808       0        0             1           0      1      1   \n",
       "3  5008812       0        0             1           0      0      0   \n",
       "4  5008815       1        1             1           1      1      1   \n",
       "\n",
       "   Unemployed  Num_children  Num_family  Account_length  Total_income  \\\n",
       "0           0             0           2              15      427500.0   \n",
       "1           0             0           2              29      112500.0   \n",
       "2           0             0           1               4      270000.0   \n",
       "3           1             0           1              20      283500.0   \n",
       "4           0             0           2               5      270000.0   \n",
       "\n",
       "         Age  Years_employed           Income_type  \\\n",
       "0  32.868574       12.435574               Working   \n",
       "1  58.793815        3.104787               Working   \n",
       "2  52.321403        8.353354  Commercial associate   \n",
       "3  61.504343        0.000000             Pensioner   \n",
       "4  46.193967        2.105450               Working   \n",
       "\n",
       "                  Education_type         Family_status       Housing_type  \\\n",
       "0               Higher education        Civil marriage   Rented apartment   \n",
       "1  Secondary / secondary special               Married  House / apartment   \n",
       "2  Secondary / secondary special  Single / not married  House / apartment   \n",
       "3               Higher education             Separated  House / apartment   \n",
       "4               Higher education               Married  House / apartment   \n",
       "\n",
       "  Occupation_type  Target  \n",
       "0           Other       1  \n",
       "1  Security staff       0  \n",
       "2     Sales staff       0  \n",
       "3           Other       0  \n",
       "4     Accountants       0  "
      ]
     },
     "execution_count": 133,
     "metadata": {},
     "output_type": "execute_result"
    }
   ],
   "source": [
    "dfcc5 = pd.read_csv(\"credit_card/clean_data.csv\")\n",
    "dfcc5.head()"
   ]
  },
  {
   "cell_type": "code",
   "execution_count": 139,
   "id": "829ad43a",
   "metadata": {},
   "outputs": [
    {
     "data": {
      "text/plain": [
       "0    8426\n",
       "1    1283\n",
       "Name: Target, dtype: int64"
      ]
     },
     "execution_count": 139,
     "metadata": {},
     "output_type": "execute_result"
    }
   ],
   "source": [
    "dfcc5.Target.value_counts()"
   ]
  },
  {
   "cell_type": "code",
   "execution_count": 132,
   "id": "3e3f81aa",
   "metadata": {},
   "outputs": [
    {
     "data": {
      "text/plain": [
       "Index(['ID', 'Gender', 'Own_car', 'Own_property', 'Unemployed', 'Num_children',\n",
       "       'Num_family', 'Account_length', 'Total_income', 'Age', 'Years_employed',\n",
       "       'Income_type', 'Education_type', 'Family_status', 'Housing_type',\n",
       "       'Occupation_type', 'Target'],\n",
       "      dtype='object')"
      ]
     },
     "execution_count": 132,
     "metadata": {},
     "output_type": "execute_result"
    }
   ],
   "source": [
    "dfcc.columns"
   ]
  },
  {
   "cell_type": "code",
   "execution_count": 131,
   "id": "a09c3233",
   "metadata": {},
   "outputs": [
    {
     "name": "stdout",
     "output_type": "stream",
     "text": [
      "<class 'pandas.core.frame.DataFrame'>\n",
      "RangeIndex: 9709 entries, 0 to 9708\n",
      "Data columns (total 17 columns):\n",
      " #   Column           Non-Null Count  Dtype  \n",
      "---  ------           --------------  -----  \n",
      " 0   ID               9709 non-null   int64  \n",
      " 1   Gender           9709 non-null   int64  \n",
      " 2   Own_car          9709 non-null   int64  \n",
      " 3   Own_property     9709 non-null   int64  \n",
      " 4   Unemployed       9709 non-null   int64  \n",
      " 5   Num_children     9709 non-null   int64  \n",
      " 6   Num_family       9709 non-null   int64  \n",
      " 7   Account_length   9709 non-null   int64  \n",
      " 8   Total_income     9709 non-null   float64\n",
      " 9   Age              9709 non-null   float64\n",
      " 10  Years_employed   9709 non-null   float64\n",
      " 11  Income_type      9709 non-null   object \n",
      " 12  Education_type   9709 non-null   object \n",
      " 13  Family_status    9709 non-null   object \n",
      " 14  Housing_type     9709 non-null   object \n",
      " 15  Occupation_type  9709 non-null   object \n",
      " 16  Target           9709 non-null   int64  \n",
      "dtypes: float64(3), int64(9), object(5)\n",
      "memory usage: 1.3+ MB\n"
     ]
    }
   ],
   "source": [
    "dfcc.info()"
   ]
  },
  {
   "cell_type": "code",
   "execution_count": 5,
   "id": "410fdc7c",
   "metadata": {},
   "outputs": [
    {
     "data": {
      "text/plain": [
       "0    6323\n",
       "1    3386\n",
       "Name: Gender, dtype: int64"
      ]
     },
     "execution_count": 5,
     "metadata": {},
     "output_type": "execute_result"
    }
   ],
   "source": [
    "dfcc.Gender.value_counts()"
   ]
  },
  {
   "cell_type": "code",
   "execution_count": 6,
   "id": "e5cfdf7b",
   "metadata": {},
   "outputs": [
    {
     "data": {
      "text/html": [
       "<div>\n",
       "<style scoped>\n",
       "    .dataframe tbody tr th:only-of-type {\n",
       "        vertical-align: middle;\n",
       "    }\n",
       "\n",
       "    .dataframe tbody tr th {\n",
       "        vertical-align: top;\n",
       "    }\n",
       "\n",
       "    .dataframe thead th {\n",
       "        text-align: right;\n",
       "    }\n",
       "</style>\n",
       "<table border=\"1\" class=\"dataframe\">\n",
       "  <thead>\n",
       "    <tr style=\"text-align: right;\">\n",
       "      <th></th>\n",
       "      <th>ID</th>\n",
       "      <th>Own_car</th>\n",
       "      <th>Own_property</th>\n",
       "      <th>Work_phone</th>\n",
       "      <th>Phone</th>\n",
       "      <th>Email</th>\n",
       "      <th>Unemployed</th>\n",
       "      <th>Num_children</th>\n",
       "      <th>Num_family</th>\n",
       "      <th>Account_length</th>\n",
       "      <th>Total_income</th>\n",
       "      <th>Age</th>\n",
       "      <th>Years_employed</th>\n",
       "      <th>Target</th>\n",
       "    </tr>\n",
       "    <tr>\n",
       "      <th>Gender</th>\n",
       "      <th></th>\n",
       "      <th></th>\n",
       "      <th></th>\n",
       "      <th></th>\n",
       "      <th></th>\n",
       "      <th></th>\n",
       "      <th></th>\n",
       "      <th></th>\n",
       "      <th></th>\n",
       "      <th></th>\n",
       "      <th></th>\n",
       "      <th></th>\n",
       "      <th></th>\n",
       "      <th></th>\n",
       "    </tr>\n",
       "  </thead>\n",
       "  <tbody>\n",
       "    <tr>\n",
       "      <th>0</th>\n",
       "      <td>5.075674e+06</td>\n",
       "      <td>0.24229</td>\n",
       "      <td>0.690811</td>\n",
       "      <td>0.199589</td>\n",
       "      <td>0.294006</td>\n",
       "      <td>0.086193</td>\n",
       "      <td>0.221572</td>\n",
       "      <td>0.392377</td>\n",
       "      <td>2.129053</td>\n",
       "      <td>27.372766</td>\n",
       "      <td>166644.609204</td>\n",
       "      <td>45.257156</td>\n",
       "      <td>5.795746</td>\n",
       "      <td>0.128420</td>\n",
       "    </tr>\n",
       "    <tr>\n",
       "      <th>1</th>\n",
       "      <td>5.076909e+06</td>\n",
       "      <td>0.60189</td>\n",
       "      <td>0.635558</td>\n",
       "      <td>0.250738</td>\n",
       "      <td>0.275842</td>\n",
       "      <td>0.090077</td>\n",
       "      <td>0.087123</td>\n",
       "      <td>0.479622</td>\n",
       "      <td>2.282634</td>\n",
       "      <td>27.078263</td>\n",
       "      <td>208461.511223</td>\n",
       "      <td>41.033303</td>\n",
       "      <td>5.420072</td>\n",
       "      <td>0.139102</td>\n",
       "    </tr>\n",
       "  </tbody>\n",
       "</table>\n",
       "</div>"
      ],
      "text/plain": [
       "                  ID  Own_car  Own_property  Work_phone     Phone     Email  \\\n",
       "Gender                                                                        \n",
       "0       5.075674e+06  0.24229      0.690811    0.199589  0.294006  0.086193   \n",
       "1       5.076909e+06  0.60189      0.635558    0.250738  0.275842  0.090077   \n",
       "\n",
       "        Unemployed  Num_children  Num_family  Account_length   Total_income  \\\n",
       "Gender                                                                        \n",
       "0         0.221572      0.392377    2.129053       27.372766  166644.609204   \n",
       "1         0.087123      0.479622    2.282634       27.078263  208461.511223   \n",
       "\n",
       "              Age  Years_employed    Target  \n",
       "Gender                                       \n",
       "0       45.257156        5.795746  0.128420  \n",
       "1       41.033303        5.420072  0.139102  "
      ]
     },
     "execution_count": 6,
     "metadata": {},
     "output_type": "execute_result"
    }
   ],
   "source": [
    "dfcc.groupby('Gender').mean()"
   ]
  },
  {
   "cell_type": "code",
   "execution_count": 7,
   "id": "c1f0f14b",
   "metadata": {},
   "outputs": [
    {
     "data": {
      "text/plain": [
       "0    8426\n",
       "1    1283\n",
       "Name: Target, dtype: int64"
      ]
     },
     "execution_count": 7,
     "metadata": {},
     "output_type": "execute_result"
    }
   ],
   "source": [
    "dfcc.Target.value_counts()"
   ]
  },
  {
   "cell_type": "markdown",
   "id": "4e7a83e6",
   "metadata": {},
   "source": [
    "What we notice here is that the dataset is balanced. So we need to use SMOTE to oversample and balance the dataset. We should do this at the end before the test \n",
    "split\n",
    "\n",
    "Columns to drop:  Work_phone, Phone, Email"
   ]
  },
  {
   "cell_type": "code",
   "execution_count": 8,
   "id": "7f9a4fa4",
   "metadata": {},
   "outputs": [],
   "source": [
    "dfcc = dfcc.drop(['Work_phone', 'Phone', 'Email'], axis=1)"
   ]
  },
  {
   "cell_type": "code",
   "execution_count": 9,
   "id": "2ce295db",
   "metadata": {},
   "outputs": [],
   "source": [
    "for i in [4,5,7,14,19]:\n",
    "    dfcc.Num_children = dfcc.Num_children.replace(i,3)"
   ]
  },
  {
   "cell_type": "code",
   "execution_count": 10,
   "id": "cdd60d40",
   "metadata": {},
   "outputs": [
    {
     "data": {
      "text/plain": [
       "0    6819\n",
       "1    1886\n",
       "2     852\n",
       "3     152\n",
       "Name: Num_children, dtype: int64"
      ]
     },
     "execution_count": 10,
     "metadata": {},
     "output_type": "execute_result"
    }
   ],
   "source": [
    "dfcc.Num_children.value_counts()"
   ]
  },
  {
   "cell_type": "code",
   "execution_count": 11,
   "id": "ad2cab0d",
   "metadata": {},
   "outputs": [],
   "source": [
    "for i in [5,6,7,9,15,20]:\n",
    "    dfcc.Num_family = dfcc.Num_family.replace(i,4)"
   ]
  },
  {
   "cell_type": "code",
   "execution_count": 12,
   "id": "32a3f87e",
   "metadata": {},
   "outputs": [
    {
     "data": {
      "text/plain": [
       "Other                    2994\n",
       "Laborers                 1724\n",
       "Sales staff               959\n",
       "Core staff                877\n",
       "Managers                  782\n",
       "Drivers                   623\n",
       "High skill tech staff     357\n",
       "Accountants               300\n",
       "Medicine staff            291\n",
       "Cooking staff             193\n",
       "Security staff            182\n",
       "Cleaning staff            146\n",
       "Private service staff      86\n",
       "Low-skill Laborers         53\n",
       "Secretaries                46\n",
       "Waiters/barmen staff       40\n",
       "HR staff                   22\n",
       "IT staff                   18\n",
       "Realty agents              16\n",
       "Name: Occupation_type, dtype: int64"
      ]
     },
     "execution_count": 12,
     "metadata": {},
     "output_type": "execute_result"
    }
   ],
   "source": [
    "dfcc.Occupation_type.value_counts()"
   ]
  },
  {
   "cell_type": "code",
   "execution_count": 14,
   "id": "e938d289",
   "metadata": {},
   "outputs": [
    {
     "name": "stdout",
     "output_type": "stream",
     "text": [
      "<class 'pandas.core.frame.DataFrame'>\n",
      "RangeIndex: 9709 entries, 0 to 9708\n",
      "Data columns (total 17 columns):\n",
      " #   Column           Non-Null Count  Dtype  \n",
      "---  ------           --------------  -----  \n",
      " 0   ID               9709 non-null   int64  \n",
      " 1   Gender           9709 non-null   int64  \n",
      " 2   Own_car          9709 non-null   int64  \n",
      " 3   Own_property     9709 non-null   int64  \n",
      " 4   Unemployed       9709 non-null   int64  \n",
      " 5   Num_children     9709 non-null   int64  \n",
      " 6   Num_family       9709 non-null   int64  \n",
      " 7   Account_length   9709 non-null   int64  \n",
      " 8   Total_income     9709 non-null   float64\n",
      " 9   Age              9709 non-null   float64\n",
      " 10  Years_employed   9709 non-null   float64\n",
      " 11  Income_type      9709 non-null   object \n",
      " 12  Education_type   9709 non-null   object \n",
      " 13  Family_status    9709 non-null   object \n",
      " 14  Housing_type     9709 non-null   object \n",
      " 15  Occupation_type  9709 non-null   object \n",
      " 16  Target           9709 non-null   int64  \n",
      "dtypes: float64(3), int64(9), object(5)\n",
      "memory usage: 1.3+ MB\n"
     ]
    }
   ],
   "source": [
    "dfcc.info()"
   ]
  },
  {
   "cell_type": "code",
   "execution_count": 13,
   "id": "bf67781d",
   "metadata": {},
   "outputs": [
    {
     "data": {
      "text/plain": [
       "Index(['ID', 'Gender', 'Own_car', 'Own_property', 'Unemployed', 'Num_children',\n",
       "       'Num_family', 'Account_length', 'Total_income', 'Age', 'Years_employed',\n",
       "       'Income_type', 'Education_type', 'Family_status', 'Housing_type',\n",
       "       'Occupation_type', 'Target'],\n",
       "      dtype='object')"
      ]
     },
     "execution_count": 13,
     "metadata": {},
     "output_type": "execute_result"
    }
   ],
   "source": [
    "dfcc.columns"
   ]
  },
  {
   "cell_type": "markdown",
   "id": "14c78254",
   "metadata": {},
   "source": [
    "1. One-hot\n",
    "2. Standard Scaler\n",
    "3. SMOTE"
   ]
  },
  {
   "cell_type": "code",
   "execution_count": 15,
   "id": "d3523ed8",
   "metadata": {},
   "outputs": [],
   "source": [
    "dfcc_categ = dfcc.loc[:, ['Income_type', 'Education_type', 'Family_status', 'Housing_type', 'Occupation_type']]"
   ]
  },
  {
   "cell_type": "code",
   "execution_count": 16,
   "id": "90ddb271",
   "metadata": {},
   "outputs": [],
   "source": [
    "dfcc_numerical = dfcc.loc[:, ['Gender', 'Own_car', 'Own_property', 'Unemployed', 'Num_children',\n",
    "       'Num_family', 'Account_length', 'Total_income', 'Age', 'Years_employed']]"
   ]
  },
  {
   "cell_type": "code",
   "execution_count": 17,
   "id": "9224b847",
   "metadata": {},
   "outputs": [
    {
     "data": {
      "text/html": [
       "<div>\n",
       "<style scoped>\n",
       "    .dataframe tbody tr th:only-of-type {\n",
       "        vertical-align: middle;\n",
       "    }\n",
       "\n",
       "    .dataframe tbody tr th {\n",
       "        vertical-align: top;\n",
       "    }\n",
       "\n",
       "    .dataframe thead th {\n",
       "        text-align: right;\n",
       "    }\n",
       "</style>\n",
       "<table border=\"1\" class=\"dataframe\">\n",
       "  <thead>\n",
       "    <tr style=\"text-align: right;\">\n",
       "      <th></th>\n",
       "      <th>Gender</th>\n",
       "      <th>Own_car</th>\n",
       "      <th>Own_property</th>\n",
       "      <th>Unemployed</th>\n",
       "      <th>Num_children</th>\n",
       "      <th>Num_family</th>\n",
       "      <th>Account_length</th>\n",
       "      <th>Total_income</th>\n",
       "      <th>Age</th>\n",
       "      <th>Years_employed</th>\n",
       "    </tr>\n",
       "  </thead>\n",
       "  <tbody>\n",
       "    <tr>\n",
       "      <th>0</th>\n",
       "      <td>1</td>\n",
       "      <td>1</td>\n",
       "      <td>1</td>\n",
       "      <td>0</td>\n",
       "      <td>0</td>\n",
       "      <td>2</td>\n",
       "      <td>15</td>\n",
       "      <td>427500.0</td>\n",
       "      <td>32.868574</td>\n",
       "      <td>12.435574</td>\n",
       "    </tr>\n",
       "    <tr>\n",
       "      <th>1</th>\n",
       "      <td>1</td>\n",
       "      <td>1</td>\n",
       "      <td>1</td>\n",
       "      <td>0</td>\n",
       "      <td>0</td>\n",
       "      <td>2</td>\n",
       "      <td>29</td>\n",
       "      <td>112500.0</td>\n",
       "      <td>58.793815</td>\n",
       "      <td>3.104787</td>\n",
       "    </tr>\n",
       "    <tr>\n",
       "      <th>2</th>\n",
       "      <td>0</td>\n",
       "      <td>0</td>\n",
       "      <td>1</td>\n",
       "      <td>0</td>\n",
       "      <td>0</td>\n",
       "      <td>1</td>\n",
       "      <td>4</td>\n",
       "      <td>270000.0</td>\n",
       "      <td>52.321403</td>\n",
       "      <td>8.353354</td>\n",
       "    </tr>\n",
       "    <tr>\n",
       "      <th>3</th>\n",
       "      <td>0</td>\n",
       "      <td>0</td>\n",
       "      <td>1</td>\n",
       "      <td>1</td>\n",
       "      <td>0</td>\n",
       "      <td>1</td>\n",
       "      <td>20</td>\n",
       "      <td>283500.0</td>\n",
       "      <td>61.504343</td>\n",
       "      <td>0.000000</td>\n",
       "    </tr>\n",
       "    <tr>\n",
       "      <th>4</th>\n",
       "      <td>1</td>\n",
       "      <td>1</td>\n",
       "      <td>1</td>\n",
       "      <td>0</td>\n",
       "      <td>0</td>\n",
       "      <td>2</td>\n",
       "      <td>5</td>\n",
       "      <td>270000.0</td>\n",
       "      <td>46.193967</td>\n",
       "      <td>2.105450</td>\n",
       "    </tr>\n",
       "  </tbody>\n",
       "</table>\n",
       "</div>"
      ],
      "text/plain": [
       "   Gender  Own_car  Own_property  Unemployed  Num_children  Num_family  \\\n",
       "0       1        1             1           0             0           2   \n",
       "1       1        1             1           0             0           2   \n",
       "2       0        0             1           0             0           1   \n",
       "3       0        0             1           1             0           1   \n",
       "4       1        1             1           0             0           2   \n",
       "\n",
       "   Account_length  Total_income        Age  Years_employed  \n",
       "0              15      427500.0  32.868574       12.435574  \n",
       "1              29      112500.0  58.793815        3.104787  \n",
       "2               4      270000.0  52.321403        8.353354  \n",
       "3              20      283500.0  61.504343        0.000000  \n",
       "4               5      270000.0  46.193967        2.105450  "
      ]
     },
     "execution_count": 17,
     "metadata": {},
     "output_type": "execute_result"
    }
   ],
   "source": [
    "dfcc_numerical.head()"
   ]
  },
  {
   "cell_type": "code",
   "execution_count": 18,
   "id": "f546f376",
   "metadata": {},
   "outputs": [
    {
     "data": {
      "text/html": [
       "<div>\n",
       "<style scoped>\n",
       "    .dataframe tbody tr th:only-of-type {\n",
       "        vertical-align: middle;\n",
       "    }\n",
       "\n",
       "    .dataframe tbody tr th {\n",
       "        vertical-align: top;\n",
       "    }\n",
       "\n",
       "    .dataframe thead th {\n",
       "        text-align: right;\n",
       "    }\n",
       "</style>\n",
       "<table border=\"1\" class=\"dataframe\">\n",
       "  <thead>\n",
       "    <tr style=\"text-align: right;\">\n",
       "      <th></th>\n",
       "      <th>Income_type_Commercial associate</th>\n",
       "      <th>Income_type_Pensioner</th>\n",
       "      <th>Income_type_State servant</th>\n",
       "      <th>Income_type_Student</th>\n",
       "      <th>Income_type_Working</th>\n",
       "      <th>Education_type_Academic degree</th>\n",
       "      <th>Education_type_Higher education</th>\n",
       "      <th>Education_type_Incomplete higher</th>\n",
       "      <th>Education_type_Lower secondary</th>\n",
       "      <th>Education_type_Secondary / secondary special</th>\n",
       "      <th>...</th>\n",
       "      <th>Occupation_type_Low-skill Laborers</th>\n",
       "      <th>Occupation_type_Managers</th>\n",
       "      <th>Occupation_type_Medicine staff</th>\n",
       "      <th>Occupation_type_Other</th>\n",
       "      <th>Occupation_type_Private service staff</th>\n",
       "      <th>Occupation_type_Realty agents</th>\n",
       "      <th>Occupation_type_Sales staff</th>\n",
       "      <th>Occupation_type_Secretaries</th>\n",
       "      <th>Occupation_type_Security staff</th>\n",
       "      <th>Occupation_type_Waiters/barmen staff</th>\n",
       "    </tr>\n",
       "  </thead>\n",
       "  <tbody>\n",
       "    <tr>\n",
       "      <th>0</th>\n",
       "      <td>0</td>\n",
       "      <td>0</td>\n",
       "      <td>0</td>\n",
       "      <td>0</td>\n",
       "      <td>1</td>\n",
       "      <td>0</td>\n",
       "      <td>1</td>\n",
       "      <td>0</td>\n",
       "      <td>0</td>\n",
       "      <td>0</td>\n",
       "      <td>...</td>\n",
       "      <td>0</td>\n",
       "      <td>0</td>\n",
       "      <td>0</td>\n",
       "      <td>1</td>\n",
       "      <td>0</td>\n",
       "      <td>0</td>\n",
       "      <td>0</td>\n",
       "      <td>0</td>\n",
       "      <td>0</td>\n",
       "      <td>0</td>\n",
       "    </tr>\n",
       "    <tr>\n",
       "      <th>1</th>\n",
       "      <td>0</td>\n",
       "      <td>0</td>\n",
       "      <td>0</td>\n",
       "      <td>0</td>\n",
       "      <td>1</td>\n",
       "      <td>0</td>\n",
       "      <td>0</td>\n",
       "      <td>0</td>\n",
       "      <td>0</td>\n",
       "      <td>1</td>\n",
       "      <td>...</td>\n",
       "      <td>0</td>\n",
       "      <td>0</td>\n",
       "      <td>0</td>\n",
       "      <td>0</td>\n",
       "      <td>0</td>\n",
       "      <td>0</td>\n",
       "      <td>0</td>\n",
       "      <td>0</td>\n",
       "      <td>1</td>\n",
       "      <td>0</td>\n",
       "    </tr>\n",
       "    <tr>\n",
       "      <th>2</th>\n",
       "      <td>1</td>\n",
       "      <td>0</td>\n",
       "      <td>0</td>\n",
       "      <td>0</td>\n",
       "      <td>0</td>\n",
       "      <td>0</td>\n",
       "      <td>0</td>\n",
       "      <td>0</td>\n",
       "      <td>0</td>\n",
       "      <td>1</td>\n",
       "      <td>...</td>\n",
       "      <td>0</td>\n",
       "      <td>0</td>\n",
       "      <td>0</td>\n",
       "      <td>0</td>\n",
       "      <td>0</td>\n",
       "      <td>0</td>\n",
       "      <td>1</td>\n",
       "      <td>0</td>\n",
       "      <td>0</td>\n",
       "      <td>0</td>\n",
       "    </tr>\n",
       "    <tr>\n",
       "      <th>3</th>\n",
       "      <td>0</td>\n",
       "      <td>1</td>\n",
       "      <td>0</td>\n",
       "      <td>0</td>\n",
       "      <td>0</td>\n",
       "      <td>0</td>\n",
       "      <td>1</td>\n",
       "      <td>0</td>\n",
       "      <td>0</td>\n",
       "      <td>0</td>\n",
       "      <td>...</td>\n",
       "      <td>0</td>\n",
       "      <td>0</td>\n",
       "      <td>0</td>\n",
       "      <td>1</td>\n",
       "      <td>0</td>\n",
       "      <td>0</td>\n",
       "      <td>0</td>\n",
       "      <td>0</td>\n",
       "      <td>0</td>\n",
       "      <td>0</td>\n",
       "    </tr>\n",
       "    <tr>\n",
       "      <th>4</th>\n",
       "      <td>0</td>\n",
       "      <td>0</td>\n",
       "      <td>0</td>\n",
       "      <td>0</td>\n",
       "      <td>1</td>\n",
       "      <td>0</td>\n",
       "      <td>1</td>\n",
       "      <td>0</td>\n",
       "      <td>0</td>\n",
       "      <td>0</td>\n",
       "      <td>...</td>\n",
       "      <td>0</td>\n",
       "      <td>0</td>\n",
       "      <td>0</td>\n",
       "      <td>0</td>\n",
       "      <td>0</td>\n",
       "      <td>0</td>\n",
       "      <td>0</td>\n",
       "      <td>0</td>\n",
       "      <td>0</td>\n",
       "      <td>0</td>\n",
       "    </tr>\n",
       "    <tr>\n",
       "      <th>...</th>\n",
       "      <td>...</td>\n",
       "      <td>...</td>\n",
       "      <td>...</td>\n",
       "      <td>...</td>\n",
       "      <td>...</td>\n",
       "      <td>...</td>\n",
       "      <td>...</td>\n",
       "      <td>...</td>\n",
       "      <td>...</td>\n",
       "      <td>...</td>\n",
       "      <td>...</td>\n",
       "      <td>...</td>\n",
       "      <td>...</td>\n",
       "      <td>...</td>\n",
       "      <td>...</td>\n",
       "      <td>...</td>\n",
       "      <td>...</td>\n",
       "      <td>...</td>\n",
       "      <td>...</td>\n",
       "      <td>...</td>\n",
       "      <td>...</td>\n",
       "    </tr>\n",
       "    <tr>\n",
       "      <th>9704</th>\n",
       "      <td>0</td>\n",
       "      <td>1</td>\n",
       "      <td>0</td>\n",
       "      <td>0</td>\n",
       "      <td>0</td>\n",
       "      <td>0</td>\n",
       "      <td>0</td>\n",
       "      <td>0</td>\n",
       "      <td>0</td>\n",
       "      <td>1</td>\n",
       "      <td>...</td>\n",
       "      <td>0</td>\n",
       "      <td>0</td>\n",
       "      <td>0</td>\n",
       "      <td>0</td>\n",
       "      <td>0</td>\n",
       "      <td>0</td>\n",
       "      <td>0</td>\n",
       "      <td>0</td>\n",
       "      <td>0</td>\n",
       "      <td>0</td>\n",
       "    </tr>\n",
       "    <tr>\n",
       "      <th>9705</th>\n",
       "      <td>1</td>\n",
       "      <td>0</td>\n",
       "      <td>0</td>\n",
       "      <td>0</td>\n",
       "      <td>0</td>\n",
       "      <td>0</td>\n",
       "      <td>0</td>\n",
       "      <td>0</td>\n",
       "      <td>0</td>\n",
       "      <td>1</td>\n",
       "      <td>...</td>\n",
       "      <td>0</td>\n",
       "      <td>0</td>\n",
       "      <td>0</td>\n",
       "      <td>1</td>\n",
       "      <td>0</td>\n",
       "      <td>0</td>\n",
       "      <td>0</td>\n",
       "      <td>0</td>\n",
       "      <td>0</td>\n",
       "      <td>0</td>\n",
       "    </tr>\n",
       "    <tr>\n",
       "      <th>9706</th>\n",
       "      <td>0</td>\n",
       "      <td>0</td>\n",
       "      <td>0</td>\n",
       "      <td>0</td>\n",
       "      <td>1</td>\n",
       "      <td>0</td>\n",
       "      <td>0</td>\n",
       "      <td>0</td>\n",
       "      <td>0</td>\n",
       "      <td>1</td>\n",
       "      <td>...</td>\n",
       "      <td>0</td>\n",
       "      <td>0</td>\n",
       "      <td>0</td>\n",
       "      <td>1</td>\n",
       "      <td>0</td>\n",
       "      <td>0</td>\n",
       "      <td>0</td>\n",
       "      <td>0</td>\n",
       "      <td>0</td>\n",
       "      <td>0</td>\n",
       "    </tr>\n",
       "    <tr>\n",
       "      <th>9707</th>\n",
       "      <td>0</td>\n",
       "      <td>1</td>\n",
       "      <td>0</td>\n",
       "      <td>0</td>\n",
       "      <td>0</td>\n",
       "      <td>0</td>\n",
       "      <td>1</td>\n",
       "      <td>0</td>\n",
       "      <td>0</td>\n",
       "      <td>0</td>\n",
       "      <td>...</td>\n",
       "      <td>0</td>\n",
       "      <td>0</td>\n",
       "      <td>1</td>\n",
       "      <td>0</td>\n",
       "      <td>0</td>\n",
       "      <td>0</td>\n",
       "      <td>0</td>\n",
       "      <td>0</td>\n",
       "      <td>0</td>\n",
       "      <td>0</td>\n",
       "    </tr>\n",
       "    <tr>\n",
       "      <th>9708</th>\n",
       "      <td>0</td>\n",
       "      <td>0</td>\n",
       "      <td>0</td>\n",
       "      <td>0</td>\n",
       "      <td>1</td>\n",
       "      <td>0</td>\n",
       "      <td>0</td>\n",
       "      <td>0</td>\n",
       "      <td>0</td>\n",
       "      <td>1</td>\n",
       "      <td>...</td>\n",
       "      <td>0</td>\n",
       "      <td>0</td>\n",
       "      <td>0</td>\n",
       "      <td>0</td>\n",
       "      <td>0</td>\n",
       "      <td>0</td>\n",
       "      <td>0</td>\n",
       "      <td>0</td>\n",
       "      <td>0</td>\n",
       "      <td>0</td>\n",
       "    </tr>\n",
       "  </tbody>\n",
       "</table>\n",
       "<p>9709 rows × 40 columns</p>\n",
       "</div>"
      ],
      "text/plain": [
       "      Income_type_Commercial associate  Income_type_Pensioner  \\\n",
       "0                                    0                      0   \n",
       "1                                    0                      0   \n",
       "2                                    1                      0   \n",
       "3                                    0                      1   \n",
       "4                                    0                      0   \n",
       "...                                ...                    ...   \n",
       "9704                                 0                      1   \n",
       "9705                                 1                      0   \n",
       "9706                                 0                      0   \n",
       "9707                                 0                      1   \n",
       "9708                                 0                      0   \n",
       "\n",
       "      Income_type_State servant  Income_type_Student  Income_type_Working  \\\n",
       "0                             0                    0                    1   \n",
       "1                             0                    0                    1   \n",
       "2                             0                    0                    0   \n",
       "3                             0                    0                    0   \n",
       "4                             0                    0                    1   \n",
       "...                         ...                  ...                  ...   \n",
       "9704                          0                    0                    0   \n",
       "9705                          0                    0                    0   \n",
       "9706                          0                    0                    1   \n",
       "9707                          0                    0                    0   \n",
       "9708                          0                    0                    1   \n",
       "\n",
       "      Education_type_Academic degree  Education_type_Higher education  \\\n",
       "0                                  0                                1   \n",
       "1                                  0                                0   \n",
       "2                                  0                                0   \n",
       "3                                  0                                1   \n",
       "4                                  0                                1   \n",
       "...                              ...                              ...   \n",
       "9704                               0                                0   \n",
       "9705                               0                                0   \n",
       "9706                               0                                0   \n",
       "9707                               0                                1   \n",
       "9708                               0                                0   \n",
       "\n",
       "      Education_type_Incomplete higher  Education_type_Lower secondary  \\\n",
       "0                                    0                               0   \n",
       "1                                    0                               0   \n",
       "2                                    0                               0   \n",
       "3                                    0                               0   \n",
       "4                                    0                               0   \n",
       "...                                ...                             ...   \n",
       "9704                                 0                               0   \n",
       "9705                                 0                               0   \n",
       "9706                                 0                               0   \n",
       "9707                                 0                               0   \n",
       "9708                                 0                               0   \n",
       "\n",
       "      Education_type_Secondary / secondary special  ...  \\\n",
       "0                                                0  ...   \n",
       "1                                                1  ...   \n",
       "2                                                1  ...   \n",
       "3                                                0  ...   \n",
       "4                                                0  ...   \n",
       "...                                            ...  ...   \n",
       "9704                                             1  ...   \n",
       "9705                                             1  ...   \n",
       "9706                                             1  ...   \n",
       "9707                                             0  ...   \n",
       "9708                                             1  ...   \n",
       "\n",
       "      Occupation_type_Low-skill Laborers  Occupation_type_Managers  \\\n",
       "0                                      0                         0   \n",
       "1                                      0                         0   \n",
       "2                                      0                         0   \n",
       "3                                      0                         0   \n",
       "4                                      0                         0   \n",
       "...                                  ...                       ...   \n",
       "9704                                   0                         0   \n",
       "9705                                   0                         0   \n",
       "9706                                   0                         0   \n",
       "9707                                   0                         0   \n",
       "9708                                   0                         0   \n",
       "\n",
       "      Occupation_type_Medicine staff  Occupation_type_Other  \\\n",
       "0                                  0                      1   \n",
       "1                                  0                      0   \n",
       "2                                  0                      0   \n",
       "3                                  0                      1   \n",
       "4                                  0                      0   \n",
       "...                              ...                    ...   \n",
       "9704                               0                      0   \n",
       "9705                               0                      1   \n",
       "9706                               0                      1   \n",
       "9707                               1                      0   \n",
       "9708                               0                      0   \n",
       "\n",
       "      Occupation_type_Private service staff  Occupation_type_Realty agents  \\\n",
       "0                                         0                              0   \n",
       "1                                         0                              0   \n",
       "2                                         0                              0   \n",
       "3                                         0                              0   \n",
       "4                                         0                              0   \n",
       "...                                     ...                            ...   \n",
       "9704                                      0                              0   \n",
       "9705                                      0                              0   \n",
       "9706                                      0                              0   \n",
       "9707                                      0                              0   \n",
       "9708                                      0                              0   \n",
       "\n",
       "      Occupation_type_Sales staff  Occupation_type_Secretaries  \\\n",
       "0                               0                            0   \n",
       "1                               0                            0   \n",
       "2                               1                            0   \n",
       "3                               0                            0   \n",
       "4                               0                            0   \n",
       "...                           ...                          ...   \n",
       "9704                            0                            0   \n",
       "9705                            0                            0   \n",
       "9706                            0                            0   \n",
       "9707                            0                            0   \n",
       "9708                            0                            0   \n",
       "\n",
       "      Occupation_type_Security staff  Occupation_type_Waiters/barmen staff  \n",
       "0                                  0                                     0  \n",
       "1                                  1                                     0  \n",
       "2                                  0                                     0  \n",
       "3                                  0                                     0  \n",
       "4                                  0                                     0  \n",
       "...                              ...                                   ...  \n",
       "9704                               0                                     0  \n",
       "9705                               0                                     0  \n",
       "9706                               0                                     0  \n",
       "9707                               0                                     0  \n",
       "9708                               0                                     0  \n",
       "\n",
       "[9709 rows x 40 columns]"
      ]
     },
     "execution_count": 18,
     "metadata": {},
     "output_type": "execute_result"
    }
   ],
   "source": [
    "dfcc_categ_one_hot = pd.get_dummies(dfcc_categ)\n",
    "dfcc_categ_one_hot"
   ]
  },
  {
   "cell_type": "code",
   "execution_count": 19,
   "id": "0c3ef0f0",
   "metadata": {},
   "outputs": [],
   "source": [
    "dfcc_ready = pd.concat([dfcc_numerical, dfcc_categ_one_hot], axis=1)"
   ]
  },
  {
   "cell_type": "code",
   "execution_count": 20,
   "id": "3574e0d9",
   "metadata": {},
   "outputs": [],
   "source": [
    "dfcc_ready.to_csv('credit_card/ml_ready_credit_card.csv', index=False)"
   ]
  },
  {
   "cell_type": "code",
   "execution_count": 21,
   "id": "98d1fdb1",
   "metadata": {},
   "outputs": [],
   "source": [
    "from sklearn.model_selection import train_test_split\n",
    "\n",
    "X = dfcc_ready.values\n",
    "y = dfcc.loc[:, [\"Target\"]].values.ravel()"
   ]
  },
  {
   "cell_type": "code",
   "execution_count": 22,
   "id": "477c3283",
   "metadata": {},
   "outputs": [],
   "source": [
    "from imblearn.over_sampling import SMOTE\n",
    "seed = 100\n",
    "k = 5\n",
    "\n",
    "sm = SMOTE(sampling_strategy='auto', k_neighbors=k, random_state=seed)\n",
    "X_smote, y_smote = sm.fit_resample(X, y)\n"
   ]
  },
  {
   "cell_type": "code",
   "execution_count": 23,
   "id": "1ab8cc63",
   "metadata": {},
   "outputs": [
    {
     "name": "stdout",
     "output_type": "stream",
     "text": [
      "0.75 : 0.25\n"
     ]
    }
   ],
   "source": [
    "# Split the preprocessed data into a training and testing dataset\n",
    "#  YOUR CODE GOES HERE\n",
    "\n",
    "X_train, X_test, y_train, y_test = train_test_split(X_smote, y_smote, test_size=.25, random_state=22) # use stratify for classification models\n",
    "print(f\"{round(len(X_train)/len(X_smote), 3)} : {round(len(X_test)/len(X_smote), 3)}\")"
   ]
  },
  {
   "cell_type": "code",
   "execution_count": 25,
   "id": "424eefed",
   "metadata": {},
   "outputs": [
    {
     "data": {
      "text/plain": [
       "0    8426\n",
       "1    8426\n",
       "dtype: int64"
      ]
     },
     "execution_count": 25,
     "metadata": {},
     "output_type": "execute_result"
    }
   ],
   "source": [
    "pd.DataFrame(y_smote).value_counts()"
   ]
  },
  {
   "cell_type": "code",
   "execution_count": 27,
   "id": "18cf876e",
   "metadata": {},
   "outputs": [
    {
     "data": {
      "text/plain": [
       "16852"
      ]
     },
     "execution_count": 27,
     "metadata": {},
     "output_type": "execute_result"
    }
   ],
   "source": [
    "len(X_smote)"
   ]
  },
  {
   "cell_type": "code",
   "execution_count": 28,
   "id": "9f5ad127",
   "metadata": {},
   "outputs": [
    {
     "data": {
      "text/plain": [
       "0    6326\n",
       "1    6313\n",
       "dtype: int64"
      ]
     },
     "execution_count": 28,
     "metadata": {},
     "output_type": "execute_result"
    }
   ],
   "source": [
    "pd.DataFrame(y_train).value_counts()"
   ]
  },
  {
   "cell_type": "code",
   "execution_count": 29,
   "id": "b6d33848",
   "metadata": {},
   "outputs": [],
   "source": [
    "from sklearn.preprocessing import StandardScaler"
   ]
  },
  {
   "cell_type": "code",
   "execution_count": 24,
   "id": "f205945d",
   "metadata": {},
   "outputs": [],
   "source": [
    "scaler = StandardScaler()\n",
    "\n",
    "# Fit the StandardScaler\n",
    "X_scaler = scaler.fit(X_train_smote)\n",
    "\n",
    "\n",
    "# Scale the data\n",
    "X_train_smote_scaled = X_scaler.transform(X_train_smote)\n",
    "X_test_scaled = X_scaler.transform(X_test)\n"
   ]
  },
  {
   "cell_type": "code",
   "execution_count": 44,
   "id": "65af0ef1",
   "metadata": {},
   "outputs": [],
   "source": [
    "def evaluateModel(model, X_train, X_test, y_train, y_test):\n",
    "    model.fit(X_train, y_train) # fit\n",
    "    \n",
    "    train_preds = model.predict(X_train) # predict\n",
    "    test_preds = model.predict(X_test)\n",
    "    test_proba = model.predict_proba(X_test)\n",
    "    \n",
    "    output_train = f\"\"\"\n",
    "    METRICS FOR THE TRAINING SET:\n",
    "    ----------------------------\n",
    "    {confusion_matrix(y_train, train_preds)}\n",
    "\n",
    "    {classification_report(y_train, train_preds)}\n",
    "    \"\"\"\n",
    "    print(output_train)\n",
    "\n",
    "    #################################################\n",
    "\n",
    "    output_test = f\"\"\"\n",
    "    METRICS FOR THE TESTING SET:\n",
    "    ----------------------------\n",
    "    {confusion_matrix(y_test, test_preds)}\n",
    "\n",
    "    {classification_report(y_test, test_preds)}\n",
    "    \"\"\"\n",
    "    print(output_test)\n",
    "    print()\n",
    "    \n",
    "    #################################################\n",
    "    \n",
    "    fpr_knn, tpr_knn, thresholds_knn = roc_curve(y_test, test_proba[:,1])\n",
    "\n",
    "    roc_auc_knn = auc(fpr_knn, tpr_knn)\n",
    "    print(f\"AUC for the Model Test Set: {roc_auc_knn}\")\n",
    "\n",
    "    # make plot\n",
    "    plt.figure(figsize=(10,6))\n",
    "    plt.plot(fpr_knn, tpr_knn, color='darkorange')\n",
    "    plt.plot([0, 1], [0, 1], color='navy', linestyle='--')\n",
    "    plt.xlim([0.0, 1.0])\n",
    "    plt.ylim([0.0, 1.05])\n",
    "    plt.xlabel('False Positive Rate')\n",
    "    plt.ylabel('True Positive Rate')\n",
    "    plt.title('ROC Curve')\n",
    "    plt.show()\n",
    "    \n",
    "    print(\"Brier Score:\")\n",
    "    print(sum((y_test - test_proba[:,1])**2))"
   ]
  },
  {
   "cell_type": "code",
   "execution_count": 31,
   "id": "f3e85ffa",
   "metadata": {},
   "outputs": [],
   "source": [
    "# Data Science Libs\n",
    "import matplotlib.pyplot as plt\n",
    "import numpy as np\n",
    "import pandas as pd\n",
    "import seaborn as sns\n",
    "\n",
    "# model preprocessing & metrics\n",
    "from sklearn.model_selection import train_test_split\n",
    "from sklearn.preprocessing import StandardScaler, MinMaxScaler\n",
    "from sklearn.metrics import confusion_matrix, classification_report, roc_curve, auc\n",
    "\n",
    "# algorithm\n",
    "from sklearn.linear_model import LogisticRegression\n",
    "from sklearn.neighbors import KNeighborsClassifier\n",
    "from sklearn.tree import DecisionTreeClassifier\n",
    "from sklearn.ensemble import RandomForestClassifier\n",
    "from sklearn.ensemble import AdaBoostClassifier\n",
    "from xgboost import XGBClassifier\n",
    "from lightgbm import LGBMClassifier\n"
   ]
  },
  {
   "cell_type": "code",
   "execution_count": 32,
   "id": "9504cafd",
   "metadata": {},
   "outputs": [
    {
     "name": "stdout",
     "output_type": "stream",
     "text": [
      "\n",
      "    METRICS FOR THE TRAINING SET:\n",
      "    ----------------------------\n",
      "    [[3551 2775]\n",
      " [2894 3419]]\n",
      "\n",
      "                  precision    recall  f1-score   support\n",
      "\n",
      "           0       0.55      0.56      0.56      6326\n",
      "           1       0.55      0.54      0.55      6313\n",
      "\n",
      "    accuracy                           0.55     12639\n",
      "   macro avg       0.55      0.55      0.55     12639\n",
      "weighted avg       0.55      0.55      0.55     12639\n",
      "\n",
      "    \n",
      "\n",
      "    METRICS FOR THE TESTING SET:\n",
      "    ----------------------------\n",
      "    [[1156  944]\n",
      " [1011 1102]]\n",
      "\n",
      "                  precision    recall  f1-score   support\n",
      "\n",
      "           0       0.53      0.55      0.54      2100\n",
      "           1       0.54      0.52      0.53      2113\n",
      "\n",
      "    accuracy                           0.54      4213\n",
      "   macro avg       0.54      0.54      0.54      4213\n",
      "weighted avg       0.54      0.54      0.54      4213\n",
      "\n",
      "    \n",
      "\n",
      "AUC for the Model Test Set: 0.5725943704504992\n"
     ]
    },
    {
     "data": {
      "image/png": "[encoded data removed]",
      "text/plain": [
       "<Figure size 720x432 with 1 Axes>"
      ]
     },
     "metadata": {
      "needs_background": "light"
     },
     "output_type": "display_data"
    },
    {
     "name": "stdout",
     "output_type": "stream",
     "text": [
      "Brier Score:\n",
      "1035.2742789261285\n"
     ]
    }
   ],
   "source": [
    "lr = LogisticRegression(max_iter=10000)\n",
    "evaluateModel(lr, X_train, X_test, y_train, y_test)"
   ]
  },
  {
   "cell_type": "code",
   "execution_count": 33,
   "id": "831eaaf1",
   "metadata": {},
   "outputs": [
    {
     "name": "stdout",
     "output_type": "stream",
     "text": [
      "\n",
      "    METRICS FOR THE TRAINING SET:\n",
      "    ----------------------------\n",
      "    [[4420 1906]\n",
      " [ 740 5573]]\n",
      "\n",
      "                  precision    recall  f1-score   support\n",
      "\n",
      "           0       0.86      0.70      0.77      6326\n",
      "           1       0.75      0.88      0.81      6313\n",
      "\n",
      "    accuracy                           0.79     12639\n",
      "   macro avg       0.80      0.79      0.79     12639\n",
      "weighted avg       0.80      0.79      0.79     12639\n",
      "\n",
      "    \n",
      "\n",
      "    METRICS FOR THE TESTING SET:\n",
      "    ----------------------------\n",
      "    [[1358  742]\n",
      " [ 359 1754]]\n",
      "\n",
      "                  precision    recall  f1-score   support\n",
      "\n",
      "           0       0.79      0.65      0.71      2100\n",
      "           1       0.70      0.83      0.76      2113\n",
      "\n",
      "    accuracy                           0.74      4213\n",
      "   macro avg       0.75      0.74      0.74      4213\n",
      "weighted avg       0.75      0.74      0.74      4213\n",
      "\n",
      "    \n",
      "\n",
      "AUC for the Model Test Set: 0.8213422576792193\n"
     ]
    },
    {
     "data": {
      "image/png": "[encoded data removed]",
      "text/plain": [
       "<Figure size 720x432 with 1 Axes>"
      ]
     },
     "metadata": {
      "needs_background": "light"
     },
     "output_type": "display_data"
    },
    {
     "name": "stdout",
     "output_type": "stream",
     "text": [
      "Brier Score:\n",
      "758.5899999999945\n"
     ]
    }
   ],
   "source": [
    "knn_model = KNeighborsClassifier(n_neighbors=10)\n",
    "evaluateModel(knn_model, X_train, X_test, y_train, y_test)"
   ]
  },
  {
   "cell_type": "code",
   "execution_count": 34,
   "id": "4f33883f",
   "metadata": {},
   "outputs": [
    {
     "name": "stdout",
     "output_type": "stream",
     "text": [
      "\n",
      "    METRICS FOR THE TRAINING SET:\n",
      "    ----------------------------\n",
      "    [[6326    0]\n",
      " [   4 6309]]\n",
      "\n",
      "                  precision    recall  f1-score   support\n",
      "\n",
      "           0       1.00      1.00      1.00      6326\n",
      "           1       1.00      1.00      1.00      6313\n",
      "\n",
      "    accuracy                           1.00     12639\n",
      "   macro avg       1.00      1.00      1.00     12639\n",
      "weighted avg       1.00      1.00      1.00     12639\n",
      "\n",
      "    \n",
      "\n",
      "    METRICS FOR THE TESTING SET:\n",
      "    ----------------------------\n",
      "    [[2089   11]\n",
      " [ 335 1778]]\n",
      "\n",
      "                  precision    recall  f1-score   support\n",
      "\n",
      "           0       0.86      0.99      0.92      2100\n",
      "           1       0.99      0.84      0.91      2113\n",
      "\n",
      "    accuracy                           0.92      4213\n",
      "   macro avg       0.93      0.92      0.92      4213\n",
      "weighted avg       0.93      0.92      0.92      4213\n",
      "\n",
      "    \n",
      "\n",
      "AUC for the Model Test Set: 0.9383185721046583\n"
     ]
    },
    {
     "data": {
      "image/png": "[encoded data removed]",
      "text/plain": [
       "<Figure size 720x432 with 1 Axes>"
      ]
     },
     "metadata": {
      "needs_background": "light"
     },
     "output_type": "display_data"
    },
    {
     "name": "stdout",
     "output_type": "stream",
     "text": [
      "Brier Score:\n",
      "306.5156000000021\n"
     ]
    }
   ],
   "source": [
    "rf = RandomForestClassifier(random_state=42, n_estimators=50)\n",
    "evaluateModel(rf, X_train, X_test, y_train, y_test)"
   ]
  },
  {
   "cell_type": "code",
   "execution_count": 35,
   "id": "9e81ec6c",
   "metadata": {},
   "outputs": [
    {
     "data": {
      "text/plain": [
       "0                   (0.07886088166678658, Own_property)\n",
       "1                 (0.06793852572819109, Account_length)\n",
       "2                            (0.06583982029391659, Age)\n",
       "3            (0.06067779138889133, Income_type_Working)\n",
       "4                        (0.05899198086693232, Own_car)\n",
       "5                         (0.05533013580345089, Gender)\n",
       "6                    (0.0520445986045672, Total_income)\n",
       "7          (0.05173046460834751, Family_status_Married)\n",
       "8                     (0.04917077398047666, Num_family)\n",
       "9                 (0.04758307282578197, Years_employed)\n",
       "10    (0.03961367854540879, Income_type_Commercial a...\n",
       "11         (0.03824253780596783, Occupation_type_Other)\n",
       "12    (0.03706122410542622, Education_type_Secondary...\n",
       "13    (0.03599343448858743, Education_type_Higher ed...\n",
       "14      (0.03393664621266514, Occupation_type_Laborers)\n",
       "15                  (0.03073045127489137, Num_children)\n",
       "16    (0.026690475305186038, Family_status_Single / ...\n",
       "17    (0.01600102709487116, Housing_type_House / apa...\n",
       "18    (0.014619627799722739, Family_status_Civil mar...\n",
       "19    (0.012451734662681685, Income_type_State servant)\n",
       "20    (0.011898275146454435, Occupation_type_Core st...\n",
       "21        (0.011747460741874629, Income_type_Pensioner)\n",
       "22    (0.010790269396830027, Occupation_type_Sales s...\n",
       "23                   (0.010507354838618277, Unemployed)\n",
       "24      (0.010463968243504505, Family_status_Separated)\n",
       "25     (0.008835648072506676, Occupation_type_Managers)\n",
       "26      (0.008343683576269164, Occupation_type_Drivers)\n",
       "27           (0.00785110172185416, Family_status_Widow)\n",
       "28    (0.006869843600797806, Education_type_Incomple...\n",
       "29    (0.0049341096833366615, Housing_type_With pare...\n",
       "30    (0.004276962751671556, Occupation_type_Medicin...\n",
       "31    (0.004253774167886363, Occupation_type_High sk...\n",
       "32    (0.003745800245361268, Housing_type_Municipal ...\n",
       "33    (0.0035015057509051105, Occupation_type_Securi...\n",
       "34    (0.003186428223355319, Occupation_type_Account...\n",
       "35    (0.002841966032592523, Occupation_type_Cooking...\n",
       "36    (0.002309147311280845, Housing_type_Rented apa...\n",
       "37    (0.001975397536205889, Education_type_Lower se...\n",
       "38    (0.0016068408079891044, Occupation_type_Cleani...\n",
       "39    (0.001567944497802508, Occupation_type_Private...\n",
       "40    (0.0011716439915264336, Occupation_type_Low-sk...\n",
       "41    (0.0009451817104424924, Housing_type_Office ap...\n",
       "42    (0.00059737720989205, Occupation_type_Waiters/...\n",
       "43    (0.0005864091282340574, Occupation_type_HR staff)\n",
       "44    (0.0005316193937221054, Occupation_type_Secret...\n",
       "45    (0.00043765897481073073, Housing_type_Co-op ap...\n",
       "46    (0.0002429597799744639, Education_type_Academi...\n",
       "47        (0.00018799594144364062, Income_type_Student)\n",
       "48    (0.00015359915066998528, Occupation_type_IT st...\n",
       "49    (0.00012918930943667725, Occupation_type_Realt...\n",
       "dtype: object"
      ]
     },
     "execution_count": 35,
     "metadata": {},
     "output_type": "execute_result"
    }
   ],
   "source": [
    "features = dfcc_ready.columns\n",
    "pd.Series(list(zip(rf.feature_importances_, features))).sort_values(ascending=False).reset_index(drop=True)"
   ]
  },
  {
   "cell_type": "code",
   "execution_count": 39,
   "id": "f340d86a",
   "metadata": {},
   "outputs": [
    {
     "name": "stdout",
     "output_type": "stream",
     "text": [
      "\n",
      "    METRICS FOR THE TRAINING SET:\n",
      "    ----------------------------\n",
      "    [[6326    0]\n",
      " [ 890 5423]]\n",
      "\n",
      "                  precision    recall  f1-score   support\n",
      "\n",
      "           0       0.88      1.00      0.93      6326\n",
      "           1       1.00      0.86      0.92      6313\n",
      "\n",
      "    accuracy                           0.93     12639\n",
      "   macro avg       0.94      0.93      0.93     12639\n",
      "weighted avg       0.94      0.93      0.93     12639\n",
      "\n",
      "    \n",
      "\n",
      "    METRICS FOR THE TESTING SET:\n",
      "    ----------------------------\n",
      "    [[2100    0]\n",
      " [ 353 1760]]\n",
      "\n",
      "                  precision    recall  f1-score   support\n",
      "\n",
      "           0       0.86      1.00      0.92      2100\n",
      "           1       1.00      0.83      0.91      2113\n",
      "\n",
      "    accuracy                           0.92      4213\n",
      "   macro avg       0.93      0.92      0.92      4213\n",
      "weighted avg       0.93      0.92      0.92      4213\n",
      "\n",
      "    \n",
      "\n",
      "AUC for the Model Test Set: 0.9390713947670881\n"
     ]
    },
    {
     "data": {
      "image/png": "[encoded data removed]",
      "text/plain": [
       "<Figure size 720x432 with 1 Axes>"
      ]
     },
     "metadata": {
      "needs_background": "light"
     },
     "output_type": "display_data"
    },
    {
     "name": "stdout",
     "output_type": "stream",
     "text": [
      "Brier Score:\n",
      "297.7246367354914\n"
     ]
    }
   ],
   "source": [
    "lgb = LGBMClassifier(random_state=42)\n",
    "evaluateModel(lgb, X_train, X_test, y_train, y_test)"
   ]
  },
  {
   "cell_type": "code",
   "execution_count": 49,
   "id": "2495c6cc",
   "metadata": {},
   "outputs": [
    {
     "data": {
      "text/plain": [
       "0                                            (462, Age)\n",
       "1                                 (425, Account_length)\n",
       "2                                   (358, Total_income)\n",
       "3                                 (342, Years_employed)\n",
       "4                                         (96, Own_car)\n",
       "5                                    (95, Num_children)\n",
       "6                           (94, Family_status_Married)\n",
       "7                                      (85, Num_family)\n",
       "8                                          (84, Gender)\n",
       "9                                    (79, Own_property)\n",
       "10                            (70, Income_type_Working)\n",
       "11                       (65, Occupation_type_Laborers)\n",
       "12               (60, Income_type_Commercial associate)\n",
       "13                          (59, Occupation_type_Other)\n",
       "14                (59, Education_type_Higher education)\n",
       "15                     (54, Occupation_type_Core staff)\n",
       "16             (53, Family_status_Single / not married)\n",
       "17    (48, Education_type_Secondary / secondary spec...\n",
       "18                 (46, Housing_type_House / apartment)\n",
       "19                    (41, Occupation_type_Sales staff)\n",
       "20               (35, Education_type_Incomplete higher)\n",
       "21                          (32, Income_type_Pensioner)\n",
       "22                       (27, Occupation_type_Managers)\n",
       "23                   (26, Family_status_Civil marriage)\n",
       "24                        (23, Occupation_type_Drivers)\n",
       "25                 (20, Occupation_type_Medicine staff)\n",
       "26                      (18, Income_type_State servant)\n",
       "27                        (17, Family_status_Separated)\n",
       "28          (15, Occupation_type_High skill tech staff)\n",
       "29               (13, Housing_type_Municipal apartment)\n",
       "30                            (13, Family_status_Widow)\n",
       "31                                     (12, Unemployed)\n",
       "32                  (9, Occupation_type_Security staff)\n",
       "33                   (9, Occupation_type_Cooking staff)\n",
       "34                     (9, Occupation_type_Accountants)\n",
       "35                       (9, Housing_type_With parents)\n",
       "36                   (9, Housing_type_Office apartment)\n",
       "37           (6, Occupation_type_Private service staff)\n",
       "38                     (5, Occupation_type_Secretaries)\n",
       "39              (5, Occupation_type_Low-skill Laborers)\n",
       "40                  (4, Occupation_type_Cleaning staff)\n",
       "41                   (4, Housing_type_Rented apartment)\n",
       "42                    (3, Housing_type_Co-op apartment)\n",
       "43                        (1, Occupation_type_IT staff)\n",
       "44                  (1, Education_type_Lower secondary)\n",
       "45            (0, Occupation_type_Waiters/barmen staff)\n",
       "46                   (0, Occupation_type_Realty agents)\n",
       "47                        (0, Occupation_type_HR staff)\n",
       "48                             (0, Income_type_Student)\n",
       "49                  (0, Education_type_Academic degree)\n",
       "dtype: object"
      ]
     },
     "execution_count": 49,
     "metadata": {},
     "output_type": "execute_result"
    }
   ],
   "source": [
    "features = dfcc_ready.columns\n",
    "pd.Series(list(zip(lgb.feature_importances_, features))).sort_values(ascending=False).reset_index(drop=True)"
   ]
  },
  {
   "cell_type": "code",
   "execution_count": 108,
   "id": "ed27425d",
   "metadata": {},
   "outputs": [
    {
     "data": {
      "text/plain": [
       "[0,\n",
       " 0,\n",
       " 1,\n",
       " 0,\n",
       " 0.4167267483777938,\n",
       " 2.162323617262334,\n",
       " 27.270058708414872,\n",
       " 181228.19456174684,\n",
       " 43.78409308359882,\n",
       " 5.664730161452847]"
      ]
     },
     "execution_count": 108,
     "metadata": {},
     "output_type": "execute_result"
    }
   ],
   "source": [
    "X_numerical_means = dfcc_numerical.loc[:, ['Num_children','Num_family', 'Account_length', 'Total_income', 'Age','Years_employed']].mean().values.tolist()\n",
    "X_numerical_modes = dfcc_numerical.loc[:, ['Gender', 'Own_car', 'Own_property', 'Unemployed']].mode().values.tolist()\n",
    "X_numerical = X_numerical_modes[0] + X_numerical_means\n",
    "X_numerical"
   ]
  },
  {
   "cell_type": "code",
   "execution_count": 98,
   "id": "80301da7",
   "metadata": {},
   "outputs": [
    {
     "data": {
      "text/plain": [
       "Index(['Gender', 'Own_car', 'Own_property', 'Unemployed', 'Num_children',\n",
       "       'Num_family', 'Account_length', 'Total_income', 'Age',\n",
       "       'Years_employed'],\n",
       "      dtype='object')"
      ]
     },
     "execution_count": 98,
     "metadata": {},
     "output_type": "execute_result"
    }
   ],
   "source": [
    "dfcc_numerical.columns"
   ]
  },
  {
   "cell_type": "code",
   "execution_count": 86,
   "id": "8fa19e59",
   "metadata": {},
   "outputs": [
    {
     "data": {
      "text/html": [
       "<div>\n",
       "<style scoped>\n",
       "    .dataframe tbody tr th:only-of-type {\n",
       "        vertical-align: middle;\n",
       "    }\n",
       "\n",
       "    .dataframe tbody tr th {\n",
       "        vertical-align: top;\n",
       "    }\n",
       "\n",
       "    .dataframe thead th {\n",
       "        text-align: right;\n",
       "    }\n",
       "</style>\n",
       "<table border=\"1\" class=\"dataframe\">\n",
       "  <thead>\n",
       "    <tr style=\"text-align: right;\">\n",
       "      <th></th>\n",
       "      <th>Income_type_Working</th>\n",
       "      <th>Education_type_Secondary / secondary special</th>\n",
       "      <th>Family_status_Married</th>\n",
       "      <th>Housing_type_House / apartment</th>\n",
       "      <th>Occupation_type_Other</th>\n",
       "      <th>Income_type_Commercial associate</th>\n",
       "      <th>Income_type_Pensioner</th>\n",
       "      <th>Income_type_State servant</th>\n",
       "      <th>Income_type_Student</th>\n",
       "      <th>Education_type_Academic degree</th>\n",
       "      <th>...</th>\n",
       "      <th>Occupation_type_Laborers</th>\n",
       "      <th>Occupation_type_Low-skill Laborers</th>\n",
       "      <th>Occupation_type_Managers</th>\n",
       "      <th>Occupation_type_Medicine staff</th>\n",
       "      <th>Occupation_type_Private service staff</th>\n",
       "      <th>Occupation_type_Realty agents</th>\n",
       "      <th>Occupation_type_Sales staff</th>\n",
       "      <th>Occupation_type_Secretaries</th>\n",
       "      <th>Occupation_type_Security staff</th>\n",
       "      <th>Occupation_type_Waiters/barmen staff</th>\n",
       "    </tr>\n",
       "  </thead>\n",
       "  <tbody>\n",
       "    <tr>\n",
       "      <th>0</th>\n",
       "      <td>1</td>\n",
       "      <td>1</td>\n",
       "      <td>1</td>\n",
       "      <td>1</td>\n",
       "      <td>1</td>\n",
       "      <td>0</td>\n",
       "      <td>0</td>\n",
       "      <td>0</td>\n",
       "      <td>0</td>\n",
       "      <td>0</td>\n",
       "      <td>...</td>\n",
       "      <td>0</td>\n",
       "      <td>0</td>\n",
       "      <td>0</td>\n",
       "      <td>0</td>\n",
       "      <td>0</td>\n",
       "      <td>0</td>\n",
       "      <td>0</td>\n",
       "      <td>0</td>\n",
       "      <td>0</td>\n",
       "      <td>0</td>\n",
       "    </tr>\n",
       "  </tbody>\n",
       "</table>\n",
       "<p>1 rows × 40 columns</p>\n",
       "</div>"
      ],
      "text/plain": [
       "   Income_type_Working  Education_type_Secondary / secondary special  \\\n",
       "0                    1                                             1   \n",
       "\n",
       "   Family_status_Married  Housing_type_House / apartment  \\\n",
       "0                      1                               1   \n",
       "\n",
       "   Occupation_type_Other  Income_type_Commercial associate  \\\n",
       "0                      1                                 0   \n",
       "\n",
       "   Income_type_Pensioner  Income_type_State servant  Income_type_Student  \\\n",
       "0                      0                          0                    0   \n",
       "\n",
       "   Education_type_Academic degree  ...  Occupation_type_Laborers  \\\n",
       "0                               0  ...                         0   \n",
       "\n",
       "   Occupation_type_Low-skill Laborers  Occupation_type_Managers  \\\n",
       "0                                   0                         0   \n",
       "\n",
       "   Occupation_type_Medicine staff  Occupation_type_Private service staff  \\\n",
       "0                               0                                      0   \n",
       "\n",
       "   Occupation_type_Realty agents  Occupation_type_Sales staff  \\\n",
       "0                              0                            0   \n",
       "\n",
       "   Occupation_type_Secretaries  Occupation_type_Security staff  \\\n",
       "0                            0                               0   \n",
       "\n",
       "   Occupation_type_Waiters/barmen staff  \n",
       "0                                     0  \n",
       "\n",
       "[1 rows x 40 columns]"
      ]
     },
     "execution_count": 86,
     "metadata": {},
     "output_type": "execute_result"
    }
   ],
   "source": [
    "# X_modes_categ = \n",
    "df_categ_modes = pd.get_dummies(dfcc_categ.mode())\n",
    "for col in dfcc_categ_one_hot.columns:\n",
    "        if col not in df_categ_modes.columns:\n",
    "            df_categ_modes[col] = 0\n",
    "\n",
    "df_categ_modes"
   ]
  },
  {
   "cell_type": "code",
   "execution_count": 92,
   "id": "94228288",
   "metadata": {},
   "outputs": [],
   "source": [
    "X_modes_categ = []\n",
    "for col in dfcc_categ_one_hot.columns:\n",
    "    X_modes_categ.append(df_categ_modes.loc[0, col])"
   ]
  },
  {
   "cell_type": "code",
   "execution_count": 109,
   "id": "9836fe7a",
   "metadata": {},
   "outputs": [],
   "source": [
    "X_memode = X_numerical + X_modes_categ"
   ]
  },
  {
   "cell_type": "code",
   "execution_count": 141,
   "id": "5c9b6d52",
   "metadata": {},
   "outputs": [
    {
     "data": {
      "text/plain": [
       "[0.51, 0.51, 0.39, 0.42, 0.4, 0.4, 0.41, 0.39, 0.4, 0.35, 0.4]"
      ]
     },
     "execution_count": 141,
     "metadata": {},
     "output_type": "execute_result"
    }
   ],
   "source": [
    "age_array = list(np.arange(20,75,5))\n",
    "proba_array = []\n",
    "\n",
    "for i in np.arange(20,75,5):\n",
    "    Xi = X_memode.copy()\n",
    "    Xi[8] = i\n",
    "    prob = lgb.predict_proba([Xi])[0][1]\n",
    "    proba_array.append(round(prob, 2))\n",
    "\n",
    "proba_array"
   ]
  },
  {
   "cell_type": "code",
   "execution_count": 142,
   "id": "dc2c0269",
   "metadata": {},
   "outputs": [
    {
     "data": {
      "image/png": "[encoded data removed]",
      "text/plain": [
       "<Figure size 432x288 with 1 Axes>"
      ]
     },
     "metadata": {
      "needs_background": "light"
     },
     "output_type": "display_data"
    }
   ],
   "source": [
    "plt.plot(age_array, proba_array)\n",
    "plt.xlabel(\"Age (Years)\")\n",
    "plt.ylabel(\"Probability\")\n",
    "plt.show()"
   ]
  },
  {
   "cell_type": "code",
   "execution_count": 143,
   "id": "19fad1fb",
   "metadata": {},
   "outputs": [
    {
     "data": {
      "image/png": "[encoded data removed]",
      "text/plain": [
       "<Figure size 432x288 with 1 Axes>"
      ]
     },
     "metadata": {
      "needs_background": "light"
     },
     "output_type": "display_data"
    }
   ],
   "source": [
    "acntlength_array = list(np.arange(0,35,5))\n",
    "proba_array = []\n",
    "\n",
    "for i in np.arange(0,35,5):\n",
    "    Xi = X_memode.copy()\n",
    "    Xi[6] = i\n",
    "    prob = lgb.predict_proba([Xi])[0][1]\n",
    "    proba_array.append(round(prob, 2))\n",
    "\n",
    "plt.plot(acntlength_array, proba_array)\n",
    "plt.xlabel(\"Months with a Previous Credit Card\")\n",
    "plt.ylabel(\"Probability\")\n",
    "plt.show()"
   ]
  },
  {
   "cell_type": "code",
   "execution_count": 144,
   "id": "c2704cfd",
   "metadata": {},
   "outputs": [
    {
     "data": {
      "image/png": "[encoded data removed]",
      "text/plain": [
       "<Figure size 432x288 with 1 Axes>"
      ]
     },
     "metadata": {
      "needs_background": "light"
     },
     "output_type": "display_data"
    }
   ],
   "source": [
    "income_array = list(np.arange(27000,510000,25000))\n",
    "proba_array = []\n",
    "\n",
    "for i in np.arange(27000,510000,25000):\n",
    "    Xi = X_memode.copy()\n",
    "    Xi[7] = i\n",
    "    prob = lgb.predict_proba([Xi])[0][1]\n",
    "    proba_array.append(round(prob, 2))\n",
    "\n",
    "plt.plot(income_array, proba_array)\n",
    "plt.xlabel(\"Income (Yuan)\")\n",
    "plt.ylabel(\"Probability\")\n",
    "plt.show()"
   ]
  },
  {
   "cell_type": "code",
   "execution_count": 145,
   "id": "de24fc8d",
   "metadata": {},
   "outputs": [
    {
     "data": {
      "image/png": "[encoded data removed]",
      "text/plain": [
       "<Figure size 432x288 with 1 Axes>"
      ]
     },
     "metadata": {
      "needs_background": "light"
     },
     "output_type": "display_data"
    }
   ],
   "source": [
    "years_employed_array = list(np.arange(0,15))\n",
    "proba_array = []\n",
    "\n",
    "for i in np.arange(0,15):\n",
    "    Xi = X_memode.copy()\n",
    "    Xi[9] = i\n",
    "    prob = lgb.predict_proba([Xi])[0][1]\n",
    "    proba_array.append(round(prob, 2))\n",
    "\n",
    "plt.plot(years_employed_array, proba_array)\n",
    "plt.xlabel(\"Years Employed\")\n",
    "plt.ylabel(\"Probability\")\n",
    "plt.show()"
   ]
  },
  {
   "cell_type": "code",
   "execution_count": 148,
   "id": "094e2226",
   "metadata": {},
   "outputs": [
    {
     "data": {
      "image/png": "[encoded data removed]",
      "text/plain": [
       "<Figure size 432x288 with 1 Axes>"
      ]
     },
     "metadata": {
      "needs_background": "light"
     },
     "output_type": "display_data"
    }
   ],
   "source": [
    "gender_array = [\"Female\", \"Male\"]\n",
    "proba_array = []\n",
    "\n",
    "for i in np.arange(0,2):\n",
    "    Xi = X_memode.copy()\n",
    "    Xi[0] = i\n",
    "    prob = lgb.predict_proba([Xi])[0][1]\n",
    "    proba_array.append(round(prob, 2))\n",
    "\n",
    "plt.bar(gender_array, proba_array)\n",
    "#plt.xticks([\"Female\", \"Male\"])\n",
    "plt.ylabel(\"Probability\")\n",
    "plt.show()"
   ]
  },
  {
   "cell_type": "code",
   "execution_count": 149,
   "id": "13f63a13",
   "metadata": {},
   "outputs": [
    {
     "data": {
      "image/png": "[encoded data removed]",
      "text/plain": [
       "<Figure size 432x288 with 1 Axes>"
      ]
     },
     "metadata": {
      "needs_background": "light"
     },
     "output_type": "display_data"
    }
   ],
   "source": [
    "car_array = [\"No Car\", \"Owns Car\"]\n",
    "proba_array = []\n",
    "\n",
    "for i in np.arange(0,2):\n",
    "    Xi = X_memode.copy()\n",
    "    Xi[1] = i\n",
    "    prob = lgb.predict_proba([Xi])[0][1]\n",
    "    proba_array.append(round(prob, 2))\n",
    "\n",
    "plt.bar(car_array, proba_array)\n",
    "plt.ylabel(\"Probability\")\n",
    "plt.show()"
   ]
  },
  {
   "cell_type": "code",
   "execution_count": 150,
   "id": "3299a43a",
   "metadata": {},
   "outputs": [
    {
     "data": {
      "image/png": "[encoded data removed]",
      "text/plain": [
       "<Figure size 432x288 with 1 Axes>"
      ]
     },
     "metadata": {
      "needs_background": "light"
     },
     "output_type": "display_data"
    }
   ],
   "source": [
    "property_array = [\"No Property\", \"Owns Property\"]\n",
    "proba_array = []\n",
    "\n",
    "for i in np.arange(0,2):\n",
    "    Xi = X_memode.copy()\n",
    "    Xi[2] = i\n",
    "    prob = lgb.predict_proba([Xi])[0][1]\n",
    "    proba_array.append(round(prob, 2))\n",
    "\n",
    "plt.bar(property_array, proba_array)\n",
    "plt.ylabel(\"Probability\")\n",
    "plt.show()"
   ]
  },
  {
   "cell_type": "code",
   "execution_count": 152,
   "id": "5f3856a2",
   "metadata": {},
   "outputs": [
    {
     "data": {
      "image/png": "[encoded data removed]",
      "text/plain": [
       "<Figure size 432x288 with 1 Axes>"
      ]
     },
     "metadata": {
      "needs_background": "light"
     },
     "output_type": "display_data"
    }
   ],
   "source": [
    "num_children_array = [\"0\", \"1\", \"2\", \"3\"]\n",
    "proba_array = []\n",
    "\n",
    "for i in np.arange(0,4):\n",
    "    Xi = X_memode.copy()\n",
    "    Xi[2] = i\n",
    "    prob = lgb.predict_proba([Xi])[0][1]\n",
    "    proba_array.append(round(prob, 4))\n",
    "\n",
    "plt.bar(num_children_array, proba_array)\n",
    "plt.xlabel(\"Number of Children\")\n",
    "plt.ylabel(\"Probability\")\n",
    "plt.show()"
   ]
  },
  {
   "cell_type": "code",
   "execution_count": 128,
   "id": "48e341ec",
   "metadata": {},
   "outputs": [
    {
     "data": {
      "text/plain": [
       "count    9709.000000\n",
       "mean        0.416727\n",
       "std         0.715932\n",
       "min         0.000000\n",
       "25%         0.000000\n",
       "50%         0.000000\n",
       "75%         1.000000\n",
       "max         3.000000\n",
       "Name: Num_children, dtype: float64"
      ]
     },
     "execution_count": 128,
     "metadata": {},
     "output_type": "execute_result"
    }
   ],
   "source": [
    "dfcc_ready.Num_children.describe()"
   ]
  },
  {
   "cell_type": "code",
   "execution_count": 58,
   "id": "6412df5a",
   "metadata": {},
   "outputs": [
    {
     "name": "stdout",
     "output_type": "stream",
     "text": [
      "<class 'pandas.core.frame.DataFrame'>\n",
      "RangeIndex: 9709 entries, 0 to 9708\n",
      "Data columns (total 50 columns):\n",
      " #   Column                                        Non-Null Count  Dtype  \n",
      "---  ------                                        --------------  -----  \n",
      " 0   Gender                                        9709 non-null   int64  \n",
      " 1   Own_car                                       9709 non-null   int64  \n",
      " 2   Own_property                                  9709 non-null   int64  \n",
      " 3   Unemployed                                    9709 non-null   int64  \n",
      " 4   Num_children                                  9709 non-null   int64  \n",
      " 5   Num_family                                    9709 non-null   int64  \n",
      " 6   Account_length                                9709 non-null   int64  \n",
      " 7   Total_income                                  9709 non-null   float64\n",
      " 8   Age                                           9709 non-null   float64\n",
      " 9   Years_employed                                9709 non-null   float64\n",
      " 10  Income_type_Commercial associate              9709 non-null   uint8  \n",
      " 11  Income_type_Pensioner                         9709 non-null   uint8  \n",
      " 12  Income_type_State servant                     9709 non-null   uint8  \n",
      " 13  Income_type_Student                           9709 non-null   uint8  \n",
      " 14  Income_type_Working                           9709 non-null   uint8  \n",
      " 15  Education_type_Academic degree                9709 non-null   uint8  \n",
      " 16  Education_type_Higher education               9709 non-null   uint8  \n",
      " 17  Education_type_Incomplete higher              9709 non-null   uint8  \n",
      " 18  Education_type_Lower secondary                9709 non-null   uint8  \n",
      " 19  Education_type_Secondary / secondary special  9709 non-null   uint8  \n",
      " 20  Family_status_Civil marriage                  9709 non-null   uint8  \n",
      " 21  Family_status_Married                         9709 non-null   uint8  \n",
      " 22  Family_status_Separated                       9709 non-null   uint8  \n",
      " 23  Family_status_Single / not married            9709 non-null   uint8  \n",
      " 24  Family_status_Widow                           9709 non-null   uint8  \n",
      " 25  Housing_type_Co-op apartment                  9709 non-null   uint8  \n",
      " 26  Housing_type_House / apartment                9709 non-null   uint8  \n",
      " 27  Housing_type_Municipal apartment              9709 non-null   uint8  \n",
      " 28  Housing_type_Office apartment                 9709 non-null   uint8  \n",
      " 29  Housing_type_Rented apartment                 9709 non-null   uint8  \n",
      " 30  Housing_type_With parents                     9709 non-null   uint8  \n",
      " 31  Occupation_type_Accountants                   9709 non-null   uint8  \n",
      " 32  Occupation_type_Cleaning staff                9709 non-null   uint8  \n",
      " 33  Occupation_type_Cooking staff                 9709 non-null   uint8  \n",
      " 34  Occupation_type_Core staff                    9709 non-null   uint8  \n",
      " 35  Occupation_type_Drivers                       9709 non-null   uint8  \n",
      " 36  Occupation_type_HR staff                      9709 non-null   uint8  \n",
      " 37  Occupation_type_High skill tech staff         9709 non-null   uint8  \n",
      " 38  Occupation_type_IT staff                      9709 non-null   uint8  \n",
      " 39  Occupation_type_Laborers                      9709 non-null   uint8  \n",
      " 40  Occupation_type_Low-skill Laborers            9709 non-null   uint8  \n",
      " 41  Occupation_type_Managers                      9709 non-null   uint8  \n",
      " 42  Occupation_type_Medicine staff                9709 non-null   uint8  \n",
      " 43  Occupation_type_Other                         9709 non-null   uint8  \n",
      " 44  Occupation_type_Private service staff         9709 non-null   uint8  \n",
      " 45  Occupation_type_Realty agents                 9709 non-null   uint8  \n",
      " 46  Occupation_type_Sales staff                   9709 non-null   uint8  \n",
      " 47  Occupation_type_Secretaries                   9709 non-null   uint8  \n",
      " 48  Occupation_type_Security staff                9709 non-null   uint8  \n",
      " 49  Occupation_type_Waiters/barmen staff          9709 non-null   uint8  \n",
      "dtypes: float64(3), int64(7), uint8(40)\n",
      "memory usage: 1.1 MB\n"
     ]
    }
   ],
   "source": [
    "dfcc_ready.info()"
   ]
  },
  {
   "cell_type": "code",
   "execution_count": 37,
   "id": "4a3afa06",
   "metadata": {},
   "outputs": [],
   "source": [
    "import pickle"
   ]
  },
  {
   "cell_type": "code",
   "execution_count": 40,
   "id": "84030a4c",
   "metadata": {},
   "outputs": [],
   "source": [
    "pickle.dump(lgb, open('lgb_cc_model.pkl', 'wb'))"
   ]
  },
  {
   "cell_type": "code",
   "execution_count": 41,
   "id": "1b6aa7a9",
   "metadata": {},
   "outputs": [],
   "source": [
    "pickled_model = pickle.load(open('lgb_cc_model.pkl', 'rb'))"
   ]
  },
  {
   "cell_type": "code",
   "execution_count": 45,
   "id": "45949468",
   "metadata": {},
   "outputs": [
    {
     "data": {
      "text/plain": [
       "array([1, 1, 0, ..., 1, 0, 1], dtype=int64)"
      ]
     },
     "execution_count": 45,
     "metadata": {},
     "output_type": "execute_result"
    }
   ],
   "source": [
    "pickled_model.predict(X_test)"
   ]
  },
  {
   "cell_type": "code",
   "execution_count": 46,
   "id": "9dd06486",
   "metadata": {},
   "outputs": [
    {
     "data": {
      "text/plain": [
       "array([[0.00552125, 0.99447875],\n",
       "       [0.03083527, 0.96916473],\n",
       "       [0.93052575, 0.06947425],\n",
       "       ...,\n",
       "       [0.00215304, 0.99784696],\n",
       "       [0.65101969, 0.34898031],\n",
       "       [0.00235405, 0.99764595]])"
      ]
     },
     "execution_count": 46,
     "metadata": {},
     "output_type": "execute_result"
    }
   ],
   "source": [
    "pickled_model.predict_proba(X_test)"
   ]
  },
  {
   "cell_type": "code",
   "execution_count": 47,
   "id": "d3e451a2",
   "metadata": {},
   "outputs": [
    {
     "data": {
      "text/plain": [
       "array([0.00000000e+00, 0.00000000e+00, 1.00000000e+00, 0.00000000e+00,\n",
       "       1.54114853e+00, 3.31172280e+00, 1.15062176e+01, 1.48500000e+05,\n",
       "       3.17934748e+01, 3.00187765e+00, 0.00000000e+00, 0.00000000e+00,\n",
       "       0.00000000e+00, 0.00000000e+00, 1.00000000e+00, 0.00000000e+00,\n",
       "       0.00000000e+00, 2.29425734e-01, 0.00000000e+00, 7.70574266e-01,\n",
       "       0.00000000e+00, 7.70574266e-01, 0.00000000e+00, 2.29425734e-01,\n",
       "       0.00000000e+00, 0.00000000e+00, 1.00000000e+00, 0.00000000e+00,\n",
       "       0.00000000e+00, 0.00000000e+00, 0.00000000e+00, 0.00000000e+00,\n",
       "       0.00000000e+00, 0.00000000e+00, 0.00000000e+00, 0.00000000e+00,\n",
       "       0.00000000e+00, 0.00000000e+00, 0.00000000e+00, 0.00000000e+00,\n",
       "       0.00000000e+00, 0.00000000e+00, 2.29425734e-01, 0.00000000e+00,\n",
       "       0.00000000e+00, 0.00000000e+00, 7.70574266e-01, 0.00000000e+00,\n",
       "       0.00000000e+00, 0.00000000e+00])"
      ]
     },
     "execution_count": 47,
     "metadata": {},
     "output_type": "execute_result"
    }
   ],
   "source": [
    "X_test[0]"
   ]
  },
  {
   "cell_type": "code",
   "execution_count": 48,
   "id": "afed71e5",
   "metadata": {},
   "outputs": [
    {
     "data": {
      "text/plain": [
       "Index(['Gender', 'Own_car', 'Own_property', 'Unemployed', 'Num_children',\n",
       "       'Num_family', 'Account_length', 'Total_income', 'Age', 'Years_employed',\n",
       "       'Income_type_Commercial associate', 'Income_type_Pensioner',\n",
       "       'Income_type_State servant', 'Income_type_Student',\n",
       "       'Income_type_Working', 'Education_type_Academic degree',\n",
       "       'Education_type_Higher education', 'Education_type_Incomplete higher',\n",
       "       'Education_type_Lower secondary',\n",
       "       'Education_type_Secondary / secondary special',\n",
       "       'Family_status_Civil marriage', 'Family_status_Married',\n",
       "       'Family_status_Separated', 'Family_status_Single / not married',\n",
       "       'Family_status_Widow', 'Housing_type_Co-op apartment',\n",
       "       'Housing_type_House / apartment', 'Housing_type_Municipal apartment',\n",
       "       'Housing_type_Office apartment', 'Housing_type_Rented apartment',\n",
       "       'Housing_type_With parents', 'Occupation_type_Accountants',\n",
       "       'Occupation_type_Cleaning staff', 'Occupation_type_Cooking staff',\n",
       "       'Occupation_type_Core staff', 'Occupation_type_Drivers',\n",
       "       'Occupation_type_HR staff', 'Occupation_type_High skill tech staff',\n",
       "       'Occupation_type_IT staff', 'Occupation_type_Laborers',\n",
       "       'Occupation_type_Low-skill Laborers', 'Occupation_type_Managers',\n",
       "       'Occupation_type_Medicine staff', 'Occupation_type_Other',\n",
       "       'Occupation_type_Private service staff',\n",
       "       'Occupation_type_Realty agents', 'Occupation_type_Sales staff',\n",
       "       'Occupation_type_Secretaries', 'Occupation_type_Security staff',\n",
       "       'Occupation_type_Waiters/barmen staff'],\n",
       "      dtype='object')"
      ]
     },
     "execution_count": 48,
     "metadata": {},
     "output_type": "execute_result"
    }
   ],
   "source": [
    "dfcc_ready.columns"
   ]
  },
  {
   "cell_type": "code",
   "execution_count": 112,
   "id": "12a1e2a9",
   "metadata": {},
   "outputs": [
    {
     "data": {
      "text/html": [
       "<div>\n",
       "<style scoped>\n",
       "    .dataframe tbody tr th:only-of-type {\n",
       "        vertical-align: middle;\n",
       "    }\n",
       "\n",
       "    .dataframe tbody tr th {\n",
       "        vertical-align: top;\n",
       "    }\n",
       "\n",
       "    .dataframe thead th {\n",
       "        text-align: right;\n",
       "    }\n",
       "</style>\n",
       "<table border=\"1\" class=\"dataframe\">\n",
       "  <thead>\n",
       "    <tr style=\"text-align: right;\">\n",
       "      <th></th>\n",
       "      <th>ID</th>\n",
       "      <th>Gender</th>\n",
       "      <th>Own_car</th>\n",
       "      <th>Own_property</th>\n",
       "      <th>Work_phone</th>\n",
       "      <th>Phone</th>\n",
       "      <th>Email</th>\n",
       "      <th>Unemployed</th>\n",
       "      <th>Num_children</th>\n",
       "      <th>Num_family</th>\n",
       "      <th>Account_length</th>\n",
       "      <th>Total_income</th>\n",
       "      <th>Age</th>\n",
       "      <th>Years_employed</th>\n",
       "      <th>Income_type</th>\n",
       "      <th>Education_type</th>\n",
       "      <th>Family_status</th>\n",
       "      <th>Housing_type</th>\n",
       "      <th>Occupation_type</th>\n",
       "      <th>Target</th>\n",
       "    </tr>\n",
       "  </thead>\n",
       "  <tbody>\n",
       "    <tr>\n",
       "      <th>0</th>\n",
       "      <td>5008804</td>\n",
       "      <td>1</td>\n",
       "      <td>1</td>\n",
       "      <td>1</td>\n",
       "      <td>1</td>\n",
       "      <td>0</td>\n",
       "      <td>0</td>\n",
       "      <td>0</td>\n",
       "      <td>0</td>\n",
       "      <td>2</td>\n",
       "      <td>15</td>\n",
       "      <td>427500.0</td>\n",
       "      <td>32.868574</td>\n",
       "      <td>12.435574</td>\n",
       "      <td>Working</td>\n",
       "      <td>Higher education</td>\n",
       "      <td>Civil marriage</td>\n",
       "      <td>Rented apartment</td>\n",
       "      <td>Other</td>\n",
       "      <td>1</td>\n",
       "    </tr>\n",
       "    <tr>\n",
       "      <th>1</th>\n",
       "      <td>5008806</td>\n",
       "      <td>1</td>\n",
       "      <td>1</td>\n",
       "      <td>1</td>\n",
       "      <td>0</td>\n",
       "      <td>0</td>\n",
       "      <td>0</td>\n",
       "      <td>0</td>\n",
       "      <td>0</td>\n",
       "      <td>2</td>\n",
       "      <td>29</td>\n",
       "      <td>112500.0</td>\n",
       "      <td>58.793815</td>\n",
       "      <td>3.104787</td>\n",
       "      <td>Working</td>\n",
       "      <td>Secondary / secondary special</td>\n",
       "      <td>Married</td>\n",
       "      <td>House / apartment</td>\n",
       "      <td>Security staff</td>\n",
       "      <td>0</td>\n",
       "    </tr>\n",
       "    <tr>\n",
       "      <th>2</th>\n",
       "      <td>5008808</td>\n",
       "      <td>0</td>\n",
       "      <td>0</td>\n",
       "      <td>1</td>\n",
       "      <td>0</td>\n",
       "      <td>1</td>\n",
       "      <td>1</td>\n",
       "      <td>0</td>\n",
       "      <td>0</td>\n",
       "      <td>1</td>\n",
       "      <td>4</td>\n",
       "      <td>270000.0</td>\n",
       "      <td>52.321403</td>\n",
       "      <td>8.353354</td>\n",
       "      <td>Commercial associate</td>\n",
       "      <td>Secondary / secondary special</td>\n",
       "      <td>Single / not married</td>\n",
       "      <td>House / apartment</td>\n",
       "      <td>Sales staff</td>\n",
       "      <td>0</td>\n",
       "    </tr>\n",
       "    <tr>\n",
       "      <th>3</th>\n",
       "      <td>5008812</td>\n",
       "      <td>0</td>\n",
       "      <td>0</td>\n",
       "      <td>1</td>\n",
       "      <td>0</td>\n",
       "      <td>0</td>\n",
       "      <td>0</td>\n",
       "      <td>1</td>\n",
       "      <td>0</td>\n",
       "      <td>1</td>\n",
       "      <td>20</td>\n",
       "      <td>283500.0</td>\n",
       "      <td>61.504343</td>\n",
       "      <td>0.000000</td>\n",
       "      <td>Pensioner</td>\n",
       "      <td>Higher education</td>\n",
       "      <td>Separated</td>\n",
       "      <td>House / apartment</td>\n",
       "      <td>Other</td>\n",
       "      <td>0</td>\n",
       "    </tr>\n",
       "    <tr>\n",
       "      <th>4</th>\n",
       "      <td>5008815</td>\n",
       "      <td>1</td>\n",
       "      <td>1</td>\n",
       "      <td>1</td>\n",
       "      <td>1</td>\n",
       "      <td>1</td>\n",
       "      <td>1</td>\n",
       "      <td>0</td>\n",
       "      <td>0</td>\n",
       "      <td>2</td>\n",
       "      <td>5</td>\n",
       "      <td>270000.0</td>\n",
       "      <td>46.193967</td>\n",
       "      <td>2.105450</td>\n",
       "      <td>Working</td>\n",
       "      <td>Higher education</td>\n",
       "      <td>Married</td>\n",
       "      <td>House / apartment</td>\n",
       "      <td>Accountants</td>\n",
       "      <td>0</td>\n",
       "    </tr>\n",
       "  </tbody>\n",
       "</table>\n",
       "</div>"
      ],
      "text/plain": [
       "        ID  Gender  Own_car  Own_property  Work_phone  Phone  Email  \\\n",
       "0  5008804       1        1             1           1      0      0   \n",
       "1  5008806       1        1             1           0      0      0   \n",
       "2  5008808       0        0             1           0      1      1   \n",
       "3  5008812       0        0             1           0      0      0   \n",
       "4  5008815       1        1             1           1      1      1   \n",
       "\n",
       "   Unemployed  Num_children  Num_family  Account_length  Total_income  \\\n",
       "0           0             0           2              15      427500.0   \n",
       "1           0             0           2              29      112500.0   \n",
       "2           0             0           1               4      270000.0   \n",
       "3           1             0           1              20      283500.0   \n",
       "4           0             0           2               5      270000.0   \n",
       "\n",
       "         Age  Years_employed           Income_type  \\\n",
       "0  32.868574       12.435574               Working   \n",
       "1  58.793815        3.104787               Working   \n",
       "2  52.321403        8.353354  Commercial associate   \n",
       "3  61.504343        0.000000             Pensioner   \n",
       "4  46.193967        2.105450               Working   \n",
       "\n",
       "                  Education_type         Family_status       Housing_type  \\\n",
       "0               Higher education        Civil marriage   Rented apartment   \n",
       "1  Secondary / secondary special               Married  House / apartment   \n",
       "2  Secondary / secondary special  Single / not married  House / apartment   \n",
       "3               Higher education             Separated  House / apartment   \n",
       "4               Higher education               Married  House / apartment   \n",
       "\n",
       "  Occupation_type  Target  \n",
       "0           Other       1  \n",
       "1  Security staff       0  \n",
       "2     Sales staff       0  \n",
       "3           Other       0  \n",
       "4     Accountants       0  "
      ]
     },
     "execution_count": 112,
     "metadata": {},
     "output_type": "execute_result"
    }
   ],
   "source": [
    "dfcc2 = pd.read_csv(\"credit_card/clean_data.csv\")\n",
    "dfcc2.head()"
   ]
  },
  {
   "cell_type": "code",
   "execution_count": 33,
   "id": "5fa9b20e",
   "metadata": {},
   "outputs": [],
   "source": [
    "dfnew = dfcc.loc[:, ['Own_car', 'Own_property', 'Gender', 'Unemployed', 'Num_children', 'Num_family', 'Account_length', 'Total_income', 'Age', 'Years_employed', 'Target']]"
   ]
  },
  {
   "cell_type": "code",
   "execution_count": 34,
   "id": "9b109d18",
   "metadata": {},
   "outputs": [
    {
     "data": {
      "text/html": [
       "<div>\n",
       "<style scoped>\n",
       "    .dataframe tbody tr th:only-of-type {\n",
       "        vertical-align: middle;\n",
       "    }\n",
       "\n",
       "    .dataframe tbody tr th {\n",
       "        vertical-align: top;\n",
       "    }\n",
       "\n",
       "    .dataframe thead th {\n",
       "        text-align: right;\n",
       "    }\n",
       "</style>\n",
       "<table border=\"1\" class=\"dataframe\">\n",
       "  <thead>\n",
       "    <tr style=\"text-align: right;\">\n",
       "      <th></th>\n",
       "      <th>Own_car</th>\n",
       "      <th>Own_property</th>\n",
       "      <th>Gender</th>\n",
       "      <th>Unemployed</th>\n",
       "      <th>Num_children</th>\n",
       "      <th>Num_family</th>\n",
       "      <th>Account_length</th>\n",
       "      <th>Total_income</th>\n",
       "      <th>Age</th>\n",
       "      <th>Years_employed</th>\n",
       "    </tr>\n",
       "    <tr>\n",
       "      <th>Target</th>\n",
       "      <th></th>\n",
       "      <th></th>\n",
       "      <th></th>\n",
       "      <th></th>\n",
       "      <th></th>\n",
       "      <th></th>\n",
       "      <th></th>\n",
       "      <th></th>\n",
       "      <th></th>\n",
       "      <th></th>\n",
       "    </tr>\n",
       "  </thead>\n",
       "  <tbody>\n",
       "    <tr>\n",
       "      <th>0</th>\n",
       "      <td>0.368977</td>\n",
       "      <td>0.676715</td>\n",
       "      <td>0.345953</td>\n",
       "      <td>0.178376</td>\n",
       "      <td>0.412889</td>\n",
       "      <td>2.159032</td>\n",
       "      <td>26.766675</td>\n",
       "      <td>180500.539817</td>\n",
       "      <td>43.982121</td>\n",
       "      <td>5.687858</td>\n",
       "    </tr>\n",
       "    <tr>\n",
       "      <th>1</th>\n",
       "      <td>0.359314</td>\n",
       "      <td>0.637568</td>\n",
       "      <td>0.367108</td>\n",
       "      <td>0.150429</td>\n",
       "      <td>0.441933</td>\n",
       "      <td>2.183944</td>\n",
       "      <td>30.575994</td>\n",
       "      <td>186007.008963</td>\n",
       "      <td>42.483559</td>\n",
       "      <td>5.512841</td>\n",
       "    </tr>\n",
       "  </tbody>\n",
       "</table>\n",
       "</div>"
      ],
      "text/plain": [
       "         Own_car  Own_property    Gender  Unemployed  Num_children  \\\n",
       "Target                                                               \n",
       "0       0.368977      0.676715  0.345953    0.178376      0.412889   \n",
       "1       0.359314      0.637568  0.367108    0.150429      0.441933   \n",
       "\n",
       "        Num_family  Account_length   Total_income        Age  Years_employed  \n",
       "Target                                                                        \n",
       "0         2.159032       26.766675  180500.539817  43.982121        5.687858  \n",
       "1         2.183944       30.575994  186007.008963  42.483559        5.512841  "
      ]
     },
     "execution_count": 34,
     "metadata": {},
     "output_type": "execute_result"
    }
   ],
   "source": [
    "dfnew.groupby('Target').mean()"
   ]
  },
  {
   "cell_type": "code",
   "execution_count": 35,
   "id": "cb00b5ad",
   "metadata": {},
   "outputs": [
    {
     "data": {
      "text/html": [
       "<div>\n",
       "<style scoped>\n",
       "    .dataframe tbody tr th:only-of-type {\n",
       "        vertical-align: middle;\n",
       "    }\n",
       "\n",
       "    .dataframe tbody tr th {\n",
       "        vertical-align: top;\n",
       "    }\n",
       "\n",
       "    .dataframe thead th {\n",
       "        text-align: right;\n",
       "    }\n",
       "</style>\n",
       "<table border=\"1\" class=\"dataframe\">\n",
       "  <thead>\n",
       "    <tr style=\"text-align: right;\">\n",
       "      <th></th>\n",
       "      <th>Own_car</th>\n",
       "      <th>Own_property</th>\n",
       "      <th>Unemployed</th>\n",
       "      <th>Num_children</th>\n",
       "      <th>Num_family</th>\n",
       "      <th>Account_length</th>\n",
       "      <th>Total_income</th>\n",
       "      <th>Age</th>\n",
       "      <th>Years_employed</th>\n",
       "      <th>Target</th>\n",
       "    </tr>\n",
       "    <tr>\n",
       "      <th>Gender</th>\n",
       "      <th></th>\n",
       "      <th></th>\n",
       "      <th></th>\n",
       "      <th></th>\n",
       "      <th></th>\n",
       "      <th></th>\n",
       "      <th></th>\n",
       "      <th></th>\n",
       "      <th></th>\n",
       "      <th></th>\n",
       "    </tr>\n",
       "  </thead>\n",
       "  <tbody>\n",
       "    <tr>\n",
       "      <th>0</th>\n",
       "      <td>0.24229</td>\n",
       "      <td>0.690811</td>\n",
       "      <td>0.221572</td>\n",
       "      <td>0.386051</td>\n",
       "      <td>2.109284</td>\n",
       "      <td>27.372766</td>\n",
       "      <td>166644.609204</td>\n",
       "      <td>45.257156</td>\n",
       "      <td>5.795746</td>\n",
       "      <td>0.128420</td>\n",
       "    </tr>\n",
       "    <tr>\n",
       "      <th>1</th>\n",
       "      <td>0.60189</td>\n",
       "      <td>0.635558</td>\n",
       "      <td>0.087123</td>\n",
       "      <td>0.474011</td>\n",
       "      <td>2.261370</td>\n",
       "      <td>27.078263</td>\n",
       "      <td>208461.511223</td>\n",
       "      <td>41.033303</td>\n",
       "      <td>5.420072</td>\n",
       "      <td>0.139102</td>\n",
       "    </tr>\n",
       "  </tbody>\n",
       "</table>\n",
       "</div>"
      ],
      "text/plain": [
       "        Own_car  Own_property  Unemployed  Num_children  Num_family  \\\n",
       "Gender                                                                \n",
       "0       0.24229      0.690811    0.221572      0.386051    2.109284   \n",
       "1       0.60189      0.635558    0.087123      0.474011    2.261370   \n",
       "\n",
       "        Account_length   Total_income        Age  Years_employed    Target  \n",
       "Gender                                                                      \n",
       "0            27.372766  166644.609204  45.257156        5.795746  0.128420  \n",
       "1            27.078263  208461.511223  41.033303        5.420072  0.139102  "
      ]
     },
     "execution_count": 35,
     "metadata": {},
     "output_type": "execute_result"
    }
   ],
   "source": [
    "dfnew.groupby('Gender').mean()"
   ]
  }
 ],
 "metadata": {
  "kernelspec": {
   "display_name": "Python 3 (ipykernel)",
   "language": "python",
   "name": "python3"
  },
  "language_info": {
   "codemirror_mode": {
    "name": "ipython",
    "version": 3
   },
   "file_extension": ".py",
   "mimetype": "text/x-python",
   "name": "python",
   "nbconvert_exporter": "python",
   "pygments_lexer": "ipython3",
   "version": "3.9.12"
  }
 },
 "nbformat": 4,
 "nbformat_minor": 5
}
