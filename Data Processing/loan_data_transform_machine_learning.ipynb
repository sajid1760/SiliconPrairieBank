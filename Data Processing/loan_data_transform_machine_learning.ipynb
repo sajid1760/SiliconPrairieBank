{
 "cells": [
  {
   "cell_type": "code",
   "execution_count": 1,
   "id": "e695d047",
   "metadata": {},
   "outputs": [
    {
     "data": {
      "text/html": [
       "<style>.container { width:100% !important; }</style>"
      ],
      "text/plain": [
       "<IPython.core.display.HTML object>"
      ]
     },
     "metadata": {},
     "output_type": "display_data"
    }
   ],
   "source": [
    "from IPython.display import display, HTML\n",
    "display(HTML(\"<style>.container { width:100% !important; }</style>\"))"
   ]
  },
  {
   "cell_type": "code",
   "execution_count": 2,
   "id": "8172c0c8",
   "metadata": {},
   "outputs": [],
   "source": [
    "import pandas as pd\n",
    "import numpy as np\n",
    "import sklearn as sk"
   ]
  },
  {
   "cell_type": "code",
   "execution_count": null,
   "id": "3ccc0a06",
   "metadata": {},
   "outputs": [],
   "source": [
    "# feature engineering and additonal data to visualize. find uber and lyft data sets to visualize. "
   ]
  },
  {
   "cell_type": "code",
   "execution_count": null,
   "id": "cc2b1af4",
   "metadata": {},
   "outputs": [],
   "source": [
    "# use smote to balance dataset. research oversampling and undersampling. New techniques that we learnt and that we \n",
    "# implemented. be creative."
   ]
  },
  {
   "cell_type": "code",
   "execution_count": null,
   "id": "5da96095",
   "metadata": {},
   "outputs": [],
   "source": [
    "# what kind of visualizations would be a little more distinctive. Income. Housing. Education. What are the external\n",
    "# factors besides income that determine whether the housing is approved. Try to isolate things and see what happens\n",
    "# holding income constant, do other things matter. Are there other things that can be predicted."
   ]
  },
  {
   "cell_type": "code",
   "execution_count": null,
   "id": "ad4c0a08",
   "metadata": {},
   "outputs": [],
   "source": [
    "# Add something to this"
   ]
  },
  {
   "cell_type": "code",
   "execution_count": null,
   "id": "6784325e",
   "metadata": {},
   "outputs": [],
   "source": [
    "# Create a form"
   ]
  },
  {
   "cell_type": "code",
   "execution_count": null,
   "id": "9deac3f5",
   "metadata": {},
   "outputs": [],
   "source": [
    "# Go to Tableau public and see what work has been done before. Use as inspiration and work cited. Make it very\n",
    "# professional, and try to make this a little bit more out of the box. Perhaps add in another data source. Try\n",
    "# to make it more complex and more creative. Design of the web app and machine learning integration. This is a very\n",
    "# common dataset. Try to make this stand out. Don't copy paste code, and don't copy paste visuals. Try to make this\n",
    "# unique and make it yours. Try to make some different ways to do this than has done before."
   ]
  },
  {
   "cell_type": "code",
   "execution_count": null,
   "id": "97921c45",
   "metadata": {},
   "outputs": [],
   "source": [
    "# make it a little different."
   ]
  },
  {
   "cell_type": "code",
   "execution_count": 3,
   "id": "108dc470",
   "metadata": {},
   "outputs": [
    {
     "name": "stdout",
     "output_type": "stream",
     "text": [
      "<class 'pandas.core.frame.DataFrame'>\n",
      "RangeIndex: 39717 entries, 0 to 39716\n",
      "Columns: 111 entries, id to total_il_high_credit_limit\n",
      "dtypes: float64(74), int64(13), object(24)\n",
      "memory usage: 33.6+ MB\n"
     ]
    },
    {
     "name": "stderr",
     "output_type": "stream",
     "text": [
      "C:\\Users\\sajid\\AppData\\Local\\Temp\\ipykernel_780\\3014304146.py:1: DtypeWarning: Columns (47) have mixed types. Specify dtype option on import or set low_memory=False.\n",
      "  dfloan = pd.read_csv(\"loan_data/loan_data.csv\")\n"
     ]
    }
   ],
   "source": [
    "dfloan = pd.read_csv(\"loan_data/loan_data.csv\")\n",
    "dfloan.info()"
   ]
  },
  {
   "cell_type": "code",
   "execution_count": 4,
   "id": "3d49b094",
   "metadata": {},
   "outputs": [
    {
     "data": {
      "text/html": [
       "<div>\n",
       "<style scoped>\n",
       "    .dataframe tbody tr th:only-of-type {\n",
       "        vertical-align: middle;\n",
       "    }\n",
       "\n",
       "    .dataframe tbody tr th {\n",
       "        vertical-align: top;\n",
       "    }\n",
       "\n",
       "    .dataframe thead th {\n",
       "        text-align: right;\n",
       "    }\n",
       "</style>\n",
       "<table border=\"1\" class=\"dataframe\">\n",
       "  <thead>\n",
       "    <tr style=\"text-align: right;\">\n",
       "      <th></th>\n",
       "      <th>id</th>\n",
       "      <th>member_id</th>\n",
       "      <th>loan_amnt</th>\n",
       "      <th>funded_amnt</th>\n",
       "      <th>funded_amnt_inv</th>\n",
       "      <th>term</th>\n",
       "      <th>int_rate</th>\n",
       "      <th>installment</th>\n",
       "      <th>grade</th>\n",
       "      <th>sub_grade</th>\n",
       "      <th>emp_title</th>\n",
       "      <th>emp_length</th>\n",
       "      <th>home_ownership</th>\n",
       "      <th>annual_inc</th>\n",
       "      <th>verification_status</th>\n",
       "      <th>issue_d</th>\n",
       "      <th>loan_status</th>\n",
       "      <th>pymnt_plan</th>\n",
       "      <th>url</th>\n",
       "      <th>desc</th>\n",
       "      <th>purpose</th>\n",
       "      <th>title</th>\n",
       "      <th>zip_code</th>\n",
       "      <th>addr_state</th>\n",
       "      <th>dti</th>\n",
       "      <th>delinq_2yrs</th>\n",
       "      <th>earliest_cr_line</th>\n",
       "      <th>inq_last_6mths</th>\n",
       "      <th>mths_since_last_delinq</th>\n",
       "      <th>mths_since_last_record</th>\n",
       "      <th>open_acc</th>\n",
       "      <th>pub_rec</th>\n",
       "      <th>revol_bal</th>\n",
       "      <th>revol_util</th>\n",
       "      <th>total_acc</th>\n",
       "      <th>initial_list_status</th>\n",
       "      <th>out_prncp</th>\n",
       "      <th>out_prncp_inv</th>\n",
       "      <th>total_pymnt</th>\n",
       "      <th>total_pymnt_inv</th>\n",
       "      <th>total_rec_prncp</th>\n",
       "      <th>total_rec_int</th>\n",
       "      <th>total_rec_late_fee</th>\n",
       "      <th>recoveries</th>\n",
       "      <th>collection_recovery_fee</th>\n",
       "      <th>last_pymnt_d</th>\n",
       "      <th>last_pymnt_amnt</th>\n",
       "      <th>next_pymnt_d</th>\n",
       "      <th>last_credit_pull_d</th>\n",
       "      <th>collections_12_mths_ex_med</th>\n",
       "      <th>mths_since_last_major_derog</th>\n",
       "      <th>policy_code</th>\n",
       "      <th>application_type</th>\n",
       "      <th>annual_inc_joint</th>\n",
       "      <th>dti_joint</th>\n",
       "      <th>verification_status_joint</th>\n",
       "      <th>acc_now_delinq</th>\n",
       "      <th>tot_coll_amt</th>\n",
       "      <th>tot_cur_bal</th>\n",
       "      <th>open_acc_6m</th>\n",
       "      <th>open_il_6m</th>\n",
       "      <th>open_il_12m</th>\n",
       "      <th>open_il_24m</th>\n",
       "      <th>mths_since_rcnt_il</th>\n",
       "      <th>total_bal_il</th>\n",
       "      <th>il_util</th>\n",
       "      <th>open_rv_12m</th>\n",
       "      <th>open_rv_24m</th>\n",
       "      <th>max_bal_bc</th>\n",
       "      <th>all_util</th>\n",
       "      <th>total_rev_hi_lim</th>\n",
       "      <th>inq_fi</th>\n",
       "      <th>total_cu_tl</th>\n",
       "      <th>inq_last_12m</th>\n",
       "      <th>acc_open_past_24mths</th>\n",
       "      <th>avg_cur_bal</th>\n",
       "      <th>bc_open_to_buy</th>\n",
       "      <th>bc_util</th>\n",
       "      <th>chargeoff_within_12_mths</th>\n",
       "      <th>delinq_amnt</th>\n",
       "      <th>mo_sin_old_il_acct</th>\n",
       "      <th>mo_sin_old_rev_tl_op</th>\n",
       "      <th>mo_sin_rcnt_rev_tl_op</th>\n",
       "      <th>mo_sin_rcnt_tl</th>\n",
       "      <th>mort_acc</th>\n",
       "      <th>mths_since_recent_bc</th>\n",
       "      <th>mths_since_recent_bc_dlq</th>\n",
       "      <th>mths_since_recent_inq</th>\n",
       "      <th>mths_since_recent_revol_delinq</th>\n",
       "      <th>num_accts_ever_120_pd</th>\n",
       "      <th>num_actv_bc_tl</th>\n",
       "      <th>num_actv_rev_tl</th>\n",
       "      <th>num_bc_sats</th>\n",
       "      <th>num_bc_tl</th>\n",
       "      <th>num_il_tl</th>\n",
       "      <th>num_op_rev_tl</th>\n",
       "      <th>num_rev_accts</th>\n",
       "      <th>num_rev_tl_bal_gt_0</th>\n",
       "      <th>num_sats</th>\n",
       "      <th>num_tl_120dpd_2m</th>\n",
       "      <th>num_tl_30dpd</th>\n",
       "      <th>num_tl_90g_dpd_24m</th>\n",
       "      <th>num_tl_op_past_12m</th>\n",
       "      <th>pct_tl_nvr_dlq</th>\n",
       "      <th>percent_bc_gt_75</th>\n",
       "      <th>pub_rec_bankruptcies</th>\n",
       "      <th>tax_liens</th>\n",
       "      <th>tot_hi_cred_lim</th>\n",
       "      <th>total_bal_ex_mort</th>\n",
       "      <th>total_bc_limit</th>\n",
       "      <th>total_il_high_credit_limit</th>\n",
       "    </tr>\n",
       "  </thead>\n",
       "  <tbody>\n",
       "    <tr>\n",
       "      <th>0</th>\n",
       "      <td>1077501</td>\n",
       "      <td>1296599</td>\n",
       "      <td>5000</td>\n",
       "      <td>5000</td>\n",
       "      <td>4975.0</td>\n",
       "      <td>36 months</td>\n",
       "      <td>10.65%</td>\n",
       "      <td>162.87</td>\n",
       "      <td>B</td>\n",
       "      <td>B2</td>\n",
       "      <td>NaN</td>\n",
       "      <td>10+ years</td>\n",
       "      <td>RENT</td>\n",
       "      <td>24000.0</td>\n",
       "      <td>Verified</td>\n",
       "      <td>Dec-11</td>\n",
       "      <td>Fully Paid</td>\n",
       "      <td>n</td>\n",
       "      <td>https://lendingclub.com/browse/loanDetail.acti...</td>\n",
       "      <td>Borrower added on 12/22/11 &gt; I need to upgra...</td>\n",
       "      <td>credit_card</td>\n",
       "      <td>Computer</td>\n",
       "      <td>860xx</td>\n",
       "      <td>AZ</td>\n",
       "      <td>27.65</td>\n",
       "      <td>0</td>\n",
       "      <td>Jan-85</td>\n",
       "      <td>1</td>\n",
       "      <td>NaN</td>\n",
       "      <td>NaN</td>\n",
       "      <td>3</td>\n",
       "      <td>0</td>\n",
       "      <td>13648</td>\n",
       "      <td>83.70%</td>\n",
       "      <td>9</td>\n",
       "      <td>f</td>\n",
       "      <td>0.00</td>\n",
       "      <td>0.00</td>\n",
       "      <td>5863.155187</td>\n",
       "      <td>5833.84</td>\n",
       "      <td>5000.00</td>\n",
       "      <td>863.16</td>\n",
       "      <td>0.00</td>\n",
       "      <td>0.00</td>\n",
       "      <td>0.00</td>\n",
       "      <td>Jan-15</td>\n",
       "      <td>171.62</td>\n",
       "      <td>NaN</td>\n",
       "      <td>May-16</td>\n",
       "      <td>0.0</td>\n",
       "      <td>NaN</td>\n",
       "      <td>1</td>\n",
       "      <td>INDIVIDUAL</td>\n",
       "      <td>NaN</td>\n",
       "      <td>NaN</td>\n",
       "      <td>NaN</td>\n",
       "      <td>0</td>\n",
       "      <td>NaN</td>\n",
       "      <td>NaN</td>\n",
       "      <td>NaN</td>\n",
       "      <td>NaN</td>\n",
       "      <td>NaN</td>\n",
       "      <td>NaN</td>\n",
       "      <td>NaN</td>\n",
       "      <td>NaN</td>\n",
       "      <td>NaN</td>\n",
       "      <td>NaN</td>\n",
       "      <td>NaN</td>\n",
       "      <td>NaN</td>\n",
       "      <td>NaN</td>\n",
       "      <td>NaN</td>\n",
       "      <td>NaN</td>\n",
       "      <td>NaN</td>\n",
       "      <td>NaN</td>\n",
       "      <td>NaN</td>\n",
       "      <td>NaN</td>\n",
       "      <td>NaN</td>\n",
       "      <td>NaN</td>\n",
       "      <td>0.0</td>\n",
       "      <td>0</td>\n",
       "      <td>NaN</td>\n",
       "      <td>NaN</td>\n",
       "      <td>NaN</td>\n",
       "      <td>NaN</td>\n",
       "      <td>NaN</td>\n",
       "      <td>NaN</td>\n",
       "      <td>NaN</td>\n",
       "      <td>NaN</td>\n",
       "      <td>NaN</td>\n",
       "      <td>NaN</td>\n",
       "      <td>NaN</td>\n",
       "      <td>NaN</td>\n",
       "      <td>NaN</td>\n",
       "      <td>NaN</td>\n",
       "      <td>NaN</td>\n",
       "      <td>NaN</td>\n",
       "      <td>NaN</td>\n",
       "      <td>NaN</td>\n",
       "      <td>NaN</td>\n",
       "      <td>NaN</td>\n",
       "      <td>NaN</td>\n",
       "      <td>NaN</td>\n",
       "      <td>NaN</td>\n",
       "      <td>NaN</td>\n",
       "      <td>NaN</td>\n",
       "      <td>0.0</td>\n",
       "      <td>0.0</td>\n",
       "      <td>NaN</td>\n",
       "      <td>NaN</td>\n",
       "      <td>NaN</td>\n",
       "      <td>NaN</td>\n",
       "    </tr>\n",
       "    <tr>\n",
       "      <th>1</th>\n",
       "      <td>1077430</td>\n",
       "      <td>1314167</td>\n",
       "      <td>2500</td>\n",
       "      <td>2500</td>\n",
       "      <td>2500.0</td>\n",
       "      <td>60 months</td>\n",
       "      <td>15.27%</td>\n",
       "      <td>59.83</td>\n",
       "      <td>C</td>\n",
       "      <td>C4</td>\n",
       "      <td>Ryder</td>\n",
       "      <td>&lt; 1 year</td>\n",
       "      <td>RENT</td>\n",
       "      <td>30000.0</td>\n",
       "      <td>Source Verified</td>\n",
       "      <td>Dec-11</td>\n",
       "      <td>Charged Off</td>\n",
       "      <td>n</td>\n",
       "      <td>https://lendingclub.com/browse/loanDetail.acti...</td>\n",
       "      <td>Borrower added on 12/22/11 &gt; I plan to use t...</td>\n",
       "      <td>car</td>\n",
       "      <td>bike</td>\n",
       "      <td>309xx</td>\n",
       "      <td>GA</td>\n",
       "      <td>1.00</td>\n",
       "      <td>0</td>\n",
       "      <td>Apr-99</td>\n",
       "      <td>5</td>\n",
       "      <td>NaN</td>\n",
       "      <td>NaN</td>\n",
       "      <td>3</td>\n",
       "      <td>0</td>\n",
       "      <td>1687</td>\n",
       "      <td>9.40%</td>\n",
       "      <td>4</td>\n",
       "      <td>f</td>\n",
       "      <td>0.00</td>\n",
       "      <td>0.00</td>\n",
       "      <td>1008.710000</td>\n",
       "      <td>1008.71</td>\n",
       "      <td>456.46</td>\n",
       "      <td>435.17</td>\n",
       "      <td>0.00</td>\n",
       "      <td>117.08</td>\n",
       "      <td>1.11</td>\n",
       "      <td>Apr-13</td>\n",
       "      <td>119.66</td>\n",
       "      <td>NaN</td>\n",
       "      <td>Sep-13</td>\n",
       "      <td>0.0</td>\n",
       "      <td>NaN</td>\n",
       "      <td>1</td>\n",
       "      <td>INDIVIDUAL</td>\n",
       "      <td>NaN</td>\n",
       "      <td>NaN</td>\n",
       "      <td>NaN</td>\n",
       "      <td>0</td>\n",
       "      <td>NaN</td>\n",
       "      <td>NaN</td>\n",
       "      <td>NaN</td>\n",
       "      <td>NaN</td>\n",
       "      <td>NaN</td>\n",
       "      <td>NaN</td>\n",
       "      <td>NaN</td>\n",
       "      <td>NaN</td>\n",
       "      <td>NaN</td>\n",
       "      <td>NaN</td>\n",
       "      <td>NaN</td>\n",
       "      <td>NaN</td>\n",
       "      <td>NaN</td>\n",
       "      <td>NaN</td>\n",
       "      <td>NaN</td>\n",
       "      <td>NaN</td>\n",
       "      <td>NaN</td>\n",
       "      <td>NaN</td>\n",
       "      <td>NaN</td>\n",
       "      <td>NaN</td>\n",
       "      <td>NaN</td>\n",
       "      <td>0.0</td>\n",
       "      <td>0</td>\n",
       "      <td>NaN</td>\n",
       "      <td>NaN</td>\n",
       "      <td>NaN</td>\n",
       "      <td>NaN</td>\n",
       "      <td>NaN</td>\n",
       "      <td>NaN</td>\n",
       "      <td>NaN</td>\n",
       "      <td>NaN</td>\n",
       "      <td>NaN</td>\n",
       "      <td>NaN</td>\n",
       "      <td>NaN</td>\n",
       "      <td>NaN</td>\n",
       "      <td>NaN</td>\n",
       "      <td>NaN</td>\n",
       "      <td>NaN</td>\n",
       "      <td>NaN</td>\n",
       "      <td>NaN</td>\n",
       "      <td>NaN</td>\n",
       "      <td>NaN</td>\n",
       "      <td>NaN</td>\n",
       "      <td>NaN</td>\n",
       "      <td>NaN</td>\n",
       "      <td>NaN</td>\n",
       "      <td>NaN</td>\n",
       "      <td>NaN</td>\n",
       "      <td>0.0</td>\n",
       "      <td>0.0</td>\n",
       "      <td>NaN</td>\n",
       "      <td>NaN</td>\n",
       "      <td>NaN</td>\n",
       "      <td>NaN</td>\n",
       "    </tr>\n",
       "    <tr>\n",
       "      <th>2</th>\n",
       "      <td>1077175</td>\n",
       "      <td>1313524</td>\n",
       "      <td>2400</td>\n",
       "      <td>2400</td>\n",
       "      <td>2400.0</td>\n",
       "      <td>36 months</td>\n",
       "      <td>15.96%</td>\n",
       "      <td>84.33</td>\n",
       "      <td>C</td>\n",
       "      <td>C5</td>\n",
       "      <td>NaN</td>\n",
       "      <td>10+ years</td>\n",
       "      <td>RENT</td>\n",
       "      <td>12252.0</td>\n",
       "      <td>Not Verified</td>\n",
       "      <td>Dec-11</td>\n",
       "      <td>Fully Paid</td>\n",
       "      <td>n</td>\n",
       "      <td>https://lendingclub.com/browse/loanDetail.acti...</td>\n",
       "      <td>NaN</td>\n",
       "      <td>small_business</td>\n",
       "      <td>real estate business</td>\n",
       "      <td>606xx</td>\n",
       "      <td>IL</td>\n",
       "      <td>8.72</td>\n",
       "      <td>0</td>\n",
       "      <td>Nov-01</td>\n",
       "      <td>2</td>\n",
       "      <td>NaN</td>\n",
       "      <td>NaN</td>\n",
       "      <td>2</td>\n",
       "      <td>0</td>\n",
       "      <td>2956</td>\n",
       "      <td>98.50%</td>\n",
       "      <td>10</td>\n",
       "      <td>f</td>\n",
       "      <td>0.00</td>\n",
       "      <td>0.00</td>\n",
       "      <td>3005.666844</td>\n",
       "      <td>3005.67</td>\n",
       "      <td>2400.00</td>\n",
       "      <td>605.67</td>\n",
       "      <td>0.00</td>\n",
       "      <td>0.00</td>\n",
       "      <td>0.00</td>\n",
       "      <td>Jun-14</td>\n",
       "      <td>649.91</td>\n",
       "      <td>NaN</td>\n",
       "      <td>May-16</td>\n",
       "      <td>0.0</td>\n",
       "      <td>NaN</td>\n",
       "      <td>1</td>\n",
       "      <td>INDIVIDUAL</td>\n",
       "      <td>NaN</td>\n",
       "      <td>NaN</td>\n",
       "      <td>NaN</td>\n",
       "      <td>0</td>\n",
       "      <td>NaN</td>\n",
       "      <td>NaN</td>\n",
       "      <td>NaN</td>\n",
       "      <td>NaN</td>\n",
       "      <td>NaN</td>\n",
       "      <td>NaN</td>\n",
       "      <td>NaN</td>\n",
       "      <td>NaN</td>\n",
       "      <td>NaN</td>\n",
       "      <td>NaN</td>\n",
       "      <td>NaN</td>\n",
       "      <td>NaN</td>\n",
       "      <td>NaN</td>\n",
       "      <td>NaN</td>\n",
       "      <td>NaN</td>\n",
       "      <td>NaN</td>\n",
       "      <td>NaN</td>\n",
       "      <td>NaN</td>\n",
       "      <td>NaN</td>\n",
       "      <td>NaN</td>\n",
       "      <td>NaN</td>\n",
       "      <td>0.0</td>\n",
       "      <td>0</td>\n",
       "      <td>NaN</td>\n",
       "      <td>NaN</td>\n",
       "      <td>NaN</td>\n",
       "      <td>NaN</td>\n",
       "      <td>NaN</td>\n",
       "      <td>NaN</td>\n",
       "      <td>NaN</td>\n",
       "      <td>NaN</td>\n",
       "      <td>NaN</td>\n",
       "      <td>NaN</td>\n",
       "      <td>NaN</td>\n",
       "      <td>NaN</td>\n",
       "      <td>NaN</td>\n",
       "      <td>NaN</td>\n",
       "      <td>NaN</td>\n",
       "      <td>NaN</td>\n",
       "      <td>NaN</td>\n",
       "      <td>NaN</td>\n",
       "      <td>NaN</td>\n",
       "      <td>NaN</td>\n",
       "      <td>NaN</td>\n",
       "      <td>NaN</td>\n",
       "      <td>NaN</td>\n",
       "      <td>NaN</td>\n",
       "      <td>NaN</td>\n",
       "      <td>0.0</td>\n",
       "      <td>0.0</td>\n",
       "      <td>NaN</td>\n",
       "      <td>NaN</td>\n",
       "      <td>NaN</td>\n",
       "      <td>NaN</td>\n",
       "    </tr>\n",
       "    <tr>\n",
       "      <th>3</th>\n",
       "      <td>1076863</td>\n",
       "      <td>1277178</td>\n",
       "      <td>10000</td>\n",
       "      <td>10000</td>\n",
       "      <td>10000.0</td>\n",
       "      <td>36 months</td>\n",
       "      <td>13.49%</td>\n",
       "      <td>339.31</td>\n",
       "      <td>C</td>\n",
       "      <td>C1</td>\n",
       "      <td>AIR RESOURCES BOARD</td>\n",
       "      <td>10+ years</td>\n",
       "      <td>RENT</td>\n",
       "      <td>49200.0</td>\n",
       "      <td>Source Verified</td>\n",
       "      <td>Dec-11</td>\n",
       "      <td>Fully Paid</td>\n",
       "      <td>n</td>\n",
       "      <td>https://lendingclub.com/browse/loanDetail.acti...</td>\n",
       "      <td>Borrower added on 12/21/11 &gt; to pay for prop...</td>\n",
       "      <td>other</td>\n",
       "      <td>personel</td>\n",
       "      <td>917xx</td>\n",
       "      <td>CA</td>\n",
       "      <td>20.00</td>\n",
       "      <td>0</td>\n",
       "      <td>Feb-96</td>\n",
       "      <td>1</td>\n",
       "      <td>35.0</td>\n",
       "      <td>NaN</td>\n",
       "      <td>10</td>\n",
       "      <td>0</td>\n",
       "      <td>5598</td>\n",
       "      <td>21%</td>\n",
       "      <td>37</td>\n",
       "      <td>f</td>\n",
       "      <td>0.00</td>\n",
       "      <td>0.00</td>\n",
       "      <td>12231.890000</td>\n",
       "      <td>12231.89</td>\n",
       "      <td>10000.00</td>\n",
       "      <td>2214.92</td>\n",
       "      <td>16.97</td>\n",
       "      <td>0.00</td>\n",
       "      <td>0.00</td>\n",
       "      <td>Jan-15</td>\n",
       "      <td>357.48</td>\n",
       "      <td>NaN</td>\n",
       "      <td>Apr-16</td>\n",
       "      <td>0.0</td>\n",
       "      <td>NaN</td>\n",
       "      <td>1</td>\n",
       "      <td>INDIVIDUAL</td>\n",
       "      <td>NaN</td>\n",
       "      <td>NaN</td>\n",
       "      <td>NaN</td>\n",
       "      <td>0</td>\n",
       "      <td>NaN</td>\n",
       "      <td>NaN</td>\n",
       "      <td>NaN</td>\n",
       "      <td>NaN</td>\n",
       "      <td>NaN</td>\n",
       "      <td>NaN</td>\n",
       "      <td>NaN</td>\n",
       "      <td>NaN</td>\n",
       "      <td>NaN</td>\n",
       "      <td>NaN</td>\n",
       "      <td>NaN</td>\n",
       "      <td>NaN</td>\n",
       "      <td>NaN</td>\n",
       "      <td>NaN</td>\n",
       "      <td>NaN</td>\n",
       "      <td>NaN</td>\n",
       "      <td>NaN</td>\n",
       "      <td>NaN</td>\n",
       "      <td>NaN</td>\n",
       "      <td>NaN</td>\n",
       "      <td>NaN</td>\n",
       "      <td>0.0</td>\n",
       "      <td>0</td>\n",
       "      <td>NaN</td>\n",
       "      <td>NaN</td>\n",
       "      <td>NaN</td>\n",
       "      <td>NaN</td>\n",
       "      <td>NaN</td>\n",
       "      <td>NaN</td>\n",
       "      <td>NaN</td>\n",
       "      <td>NaN</td>\n",
       "      <td>NaN</td>\n",
       "      <td>NaN</td>\n",
       "      <td>NaN</td>\n",
       "      <td>NaN</td>\n",
       "      <td>NaN</td>\n",
       "      <td>NaN</td>\n",
       "      <td>NaN</td>\n",
       "      <td>NaN</td>\n",
       "      <td>NaN</td>\n",
       "      <td>NaN</td>\n",
       "      <td>NaN</td>\n",
       "      <td>NaN</td>\n",
       "      <td>NaN</td>\n",
       "      <td>NaN</td>\n",
       "      <td>NaN</td>\n",
       "      <td>NaN</td>\n",
       "      <td>NaN</td>\n",
       "      <td>0.0</td>\n",
       "      <td>0.0</td>\n",
       "      <td>NaN</td>\n",
       "      <td>NaN</td>\n",
       "      <td>NaN</td>\n",
       "      <td>NaN</td>\n",
       "    </tr>\n",
       "    <tr>\n",
       "      <th>4</th>\n",
       "      <td>1075358</td>\n",
       "      <td>1311748</td>\n",
       "      <td>3000</td>\n",
       "      <td>3000</td>\n",
       "      <td>3000.0</td>\n",
       "      <td>60 months</td>\n",
       "      <td>12.69%</td>\n",
       "      <td>67.79</td>\n",
       "      <td>B</td>\n",
       "      <td>B5</td>\n",
       "      <td>University Medical Group</td>\n",
       "      <td>1 year</td>\n",
       "      <td>RENT</td>\n",
       "      <td>80000.0</td>\n",
       "      <td>Source Verified</td>\n",
       "      <td>Dec-11</td>\n",
       "      <td>Current</td>\n",
       "      <td>n</td>\n",
       "      <td>https://lendingclub.com/browse/loanDetail.acti...</td>\n",
       "      <td>Borrower added on 12/21/11 &gt; I plan on combi...</td>\n",
       "      <td>other</td>\n",
       "      <td>Personal</td>\n",
       "      <td>972xx</td>\n",
       "      <td>OR</td>\n",
       "      <td>17.94</td>\n",
       "      <td>0</td>\n",
       "      <td>Jan-96</td>\n",
       "      <td>0</td>\n",
       "      <td>38.0</td>\n",
       "      <td>NaN</td>\n",
       "      <td>15</td>\n",
       "      <td>0</td>\n",
       "      <td>27783</td>\n",
       "      <td>53.90%</td>\n",
       "      <td>38</td>\n",
       "      <td>f</td>\n",
       "      <td>524.06</td>\n",
       "      <td>524.06</td>\n",
       "      <td>3513.330000</td>\n",
       "      <td>3513.33</td>\n",
       "      <td>2475.94</td>\n",
       "      <td>1037.39</td>\n",
       "      <td>0.00</td>\n",
       "      <td>0.00</td>\n",
       "      <td>0.00</td>\n",
       "      <td>May-16</td>\n",
       "      <td>67.79</td>\n",
       "      <td>Jun-16</td>\n",
       "      <td>May-16</td>\n",
       "      <td>0.0</td>\n",
       "      <td>NaN</td>\n",
       "      <td>1</td>\n",
       "      <td>INDIVIDUAL</td>\n",
       "      <td>NaN</td>\n",
       "      <td>NaN</td>\n",
       "      <td>NaN</td>\n",
       "      <td>0</td>\n",
       "      <td>NaN</td>\n",
       "      <td>NaN</td>\n",
       "      <td>NaN</td>\n",
       "      <td>NaN</td>\n",
       "      <td>NaN</td>\n",
       "      <td>NaN</td>\n",
       "      <td>NaN</td>\n",
       "      <td>NaN</td>\n",
       "      <td>NaN</td>\n",
       "      <td>NaN</td>\n",
       "      <td>NaN</td>\n",
       "      <td>NaN</td>\n",
       "      <td>NaN</td>\n",
       "      <td>NaN</td>\n",
       "      <td>NaN</td>\n",
       "      <td>NaN</td>\n",
       "      <td>NaN</td>\n",
       "      <td>NaN</td>\n",
       "      <td>NaN</td>\n",
       "      <td>NaN</td>\n",
       "      <td>NaN</td>\n",
       "      <td>0.0</td>\n",
       "      <td>0</td>\n",
       "      <td>NaN</td>\n",
       "      <td>NaN</td>\n",
       "      <td>NaN</td>\n",
       "      <td>NaN</td>\n",
       "      <td>NaN</td>\n",
       "      <td>NaN</td>\n",
       "      <td>NaN</td>\n",
       "      <td>NaN</td>\n",
       "      <td>NaN</td>\n",
       "      <td>NaN</td>\n",
       "      <td>NaN</td>\n",
       "      <td>NaN</td>\n",
       "      <td>NaN</td>\n",
       "      <td>NaN</td>\n",
       "      <td>NaN</td>\n",
       "      <td>NaN</td>\n",
       "      <td>NaN</td>\n",
       "      <td>NaN</td>\n",
       "      <td>NaN</td>\n",
       "      <td>NaN</td>\n",
       "      <td>NaN</td>\n",
       "      <td>NaN</td>\n",
       "      <td>NaN</td>\n",
       "      <td>NaN</td>\n",
       "      <td>NaN</td>\n",
       "      <td>0.0</td>\n",
       "      <td>0.0</td>\n",
       "      <td>NaN</td>\n",
       "      <td>NaN</td>\n",
       "      <td>NaN</td>\n",
       "      <td>NaN</td>\n",
       "    </tr>\n",
       "  </tbody>\n",
       "</table>\n",
       "</div>"
      ],
      "text/plain": [
       "        id  member_id  loan_amnt  funded_amnt  funded_amnt_inv        term  \\\n",
       "0  1077501    1296599       5000         5000           4975.0   36 months   \n",
       "1  1077430    1314167       2500         2500           2500.0   60 months   \n",
       "2  1077175    1313524       2400         2400           2400.0   36 months   \n",
       "3  1076863    1277178      10000        10000          10000.0   36 months   \n",
       "4  1075358    1311748       3000         3000           3000.0   60 months   \n",
       "\n",
       "  int_rate  installment grade sub_grade                 emp_title emp_length  \\\n",
       "0   10.65%       162.87     B        B2                       NaN  10+ years   \n",
       "1   15.27%        59.83     C        C4                     Ryder   < 1 year   \n",
       "2   15.96%        84.33     C        C5                       NaN  10+ years   \n",
       "3   13.49%       339.31     C        C1       AIR RESOURCES BOARD  10+ years   \n",
       "4   12.69%        67.79     B        B5  University Medical Group     1 year   \n",
       "\n",
       "  home_ownership  annual_inc verification_status issue_d  loan_status  \\\n",
       "0           RENT     24000.0            Verified  Dec-11   Fully Paid   \n",
       "1           RENT     30000.0     Source Verified  Dec-11  Charged Off   \n",
       "2           RENT     12252.0        Not Verified  Dec-11   Fully Paid   \n",
       "3           RENT     49200.0     Source Verified  Dec-11   Fully Paid   \n",
       "4           RENT     80000.0     Source Verified  Dec-11      Current   \n",
       "\n",
       "  pymnt_plan                                                url  \\\n",
       "0          n  https://lendingclub.com/browse/loanDetail.acti...   \n",
       "1          n  https://lendingclub.com/browse/loanDetail.acti...   \n",
       "2          n  https://lendingclub.com/browse/loanDetail.acti...   \n",
       "3          n  https://lendingclub.com/browse/loanDetail.acti...   \n",
       "4          n  https://lendingclub.com/browse/loanDetail.acti...   \n",
       "\n",
       "                                                desc         purpose  \\\n",
       "0    Borrower added on 12/22/11 > I need to upgra...     credit_card   \n",
       "1    Borrower added on 12/22/11 > I plan to use t...             car   \n",
       "2                                                NaN  small_business   \n",
       "3    Borrower added on 12/21/11 > to pay for prop...           other   \n",
       "4    Borrower added on 12/21/11 > I plan on combi...           other   \n",
       "\n",
       "                  title zip_code addr_state    dti  delinq_2yrs  \\\n",
       "0              Computer    860xx         AZ  27.65            0   \n",
       "1                  bike    309xx         GA   1.00            0   \n",
       "2  real estate business    606xx         IL   8.72            0   \n",
       "3              personel    917xx         CA  20.00            0   \n",
       "4              Personal    972xx         OR  17.94            0   \n",
       "\n",
       "  earliest_cr_line  inq_last_6mths  mths_since_last_delinq  \\\n",
       "0           Jan-85               1                     NaN   \n",
       "1           Apr-99               5                     NaN   \n",
       "2           Nov-01               2                     NaN   \n",
       "3           Feb-96               1                    35.0   \n",
       "4           Jan-96               0                    38.0   \n",
       "\n",
       "   mths_since_last_record  open_acc  pub_rec  revol_bal revol_util  total_acc  \\\n",
       "0                     NaN         3        0      13648     83.70%          9   \n",
       "1                     NaN         3        0       1687      9.40%          4   \n",
       "2                     NaN         2        0       2956     98.50%         10   \n",
       "3                     NaN        10        0       5598        21%         37   \n",
       "4                     NaN        15        0      27783     53.90%         38   \n",
       "\n",
       "  initial_list_status  out_prncp  out_prncp_inv   total_pymnt  \\\n",
       "0                   f       0.00           0.00   5863.155187   \n",
       "1                   f       0.00           0.00   1008.710000   \n",
       "2                   f       0.00           0.00   3005.666844   \n",
       "3                   f       0.00           0.00  12231.890000   \n",
       "4                   f     524.06         524.06   3513.330000   \n",
       "\n",
       "   total_pymnt_inv  total_rec_prncp  total_rec_int  total_rec_late_fee  \\\n",
       "0          5833.84          5000.00         863.16                0.00   \n",
       "1          1008.71           456.46         435.17                0.00   \n",
       "2          3005.67          2400.00         605.67                0.00   \n",
       "3         12231.89         10000.00        2214.92               16.97   \n",
       "4          3513.33          2475.94        1037.39                0.00   \n",
       "\n",
       "   recoveries  collection_recovery_fee last_pymnt_d  last_pymnt_amnt  \\\n",
       "0        0.00                     0.00       Jan-15           171.62   \n",
       "1      117.08                     1.11       Apr-13           119.66   \n",
       "2        0.00                     0.00       Jun-14           649.91   \n",
       "3        0.00                     0.00       Jan-15           357.48   \n",
       "4        0.00                     0.00       May-16            67.79   \n",
       "\n",
       "  next_pymnt_d last_credit_pull_d  collections_12_mths_ex_med  \\\n",
       "0          NaN             May-16                         0.0   \n",
       "1          NaN             Sep-13                         0.0   \n",
       "2          NaN             May-16                         0.0   \n",
       "3          NaN             Apr-16                         0.0   \n",
       "4       Jun-16             May-16                         0.0   \n",
       "\n",
       "   mths_since_last_major_derog  policy_code application_type  \\\n",
       "0                          NaN            1       INDIVIDUAL   \n",
       "1                          NaN            1       INDIVIDUAL   \n",
       "2                          NaN            1       INDIVIDUAL   \n",
       "3                          NaN            1       INDIVIDUAL   \n",
       "4                          NaN            1       INDIVIDUAL   \n",
       "\n",
       "   annual_inc_joint  dti_joint  verification_status_joint  acc_now_delinq  \\\n",
       "0               NaN        NaN                        NaN               0   \n",
       "1               NaN        NaN                        NaN               0   \n",
       "2               NaN        NaN                        NaN               0   \n",
       "3               NaN        NaN                        NaN               0   \n",
       "4               NaN        NaN                        NaN               0   \n",
       "\n",
       "   tot_coll_amt  tot_cur_bal  open_acc_6m  open_il_6m  open_il_12m  \\\n",
       "0           NaN          NaN          NaN         NaN          NaN   \n",
       "1           NaN          NaN          NaN         NaN          NaN   \n",
       "2           NaN          NaN          NaN         NaN          NaN   \n",
       "3           NaN          NaN          NaN         NaN          NaN   \n",
       "4           NaN          NaN          NaN         NaN          NaN   \n",
       "\n",
       "   open_il_24m  mths_since_rcnt_il  total_bal_il  il_util  open_rv_12m  \\\n",
       "0          NaN                 NaN           NaN      NaN          NaN   \n",
       "1          NaN                 NaN           NaN      NaN          NaN   \n",
       "2          NaN                 NaN           NaN      NaN          NaN   \n",
       "3          NaN                 NaN           NaN      NaN          NaN   \n",
       "4          NaN                 NaN           NaN      NaN          NaN   \n",
       "\n",
       "   open_rv_24m  max_bal_bc  all_util  total_rev_hi_lim  inq_fi  total_cu_tl  \\\n",
       "0          NaN         NaN       NaN               NaN     NaN          NaN   \n",
       "1          NaN         NaN       NaN               NaN     NaN          NaN   \n",
       "2          NaN         NaN       NaN               NaN     NaN          NaN   \n",
       "3          NaN         NaN       NaN               NaN     NaN          NaN   \n",
       "4          NaN         NaN       NaN               NaN     NaN          NaN   \n",
       "\n",
       "   inq_last_12m  acc_open_past_24mths  avg_cur_bal  bc_open_to_buy  bc_util  \\\n",
       "0           NaN                   NaN          NaN             NaN      NaN   \n",
       "1           NaN                   NaN          NaN             NaN      NaN   \n",
       "2           NaN                   NaN          NaN             NaN      NaN   \n",
       "3           NaN                   NaN          NaN             NaN      NaN   \n",
       "4           NaN                   NaN          NaN             NaN      NaN   \n",
       "\n",
       "   chargeoff_within_12_mths  delinq_amnt  mo_sin_old_il_acct  \\\n",
       "0                       0.0            0                 NaN   \n",
       "1                       0.0            0                 NaN   \n",
       "2                       0.0            0                 NaN   \n",
       "3                       0.0            0                 NaN   \n",
       "4                       0.0            0                 NaN   \n",
       "\n",
       "   mo_sin_old_rev_tl_op  mo_sin_rcnt_rev_tl_op  mo_sin_rcnt_tl  mort_acc  \\\n",
       "0                   NaN                    NaN             NaN       NaN   \n",
       "1                   NaN                    NaN             NaN       NaN   \n",
       "2                   NaN                    NaN             NaN       NaN   \n",
       "3                   NaN                    NaN             NaN       NaN   \n",
       "4                   NaN                    NaN             NaN       NaN   \n",
       "\n",
       "   mths_since_recent_bc  mths_since_recent_bc_dlq  mths_since_recent_inq  \\\n",
       "0                   NaN                       NaN                    NaN   \n",
       "1                   NaN                       NaN                    NaN   \n",
       "2                   NaN                       NaN                    NaN   \n",
       "3                   NaN                       NaN                    NaN   \n",
       "4                   NaN                       NaN                    NaN   \n",
       "\n",
       "   mths_since_recent_revol_delinq  num_accts_ever_120_pd  num_actv_bc_tl  \\\n",
       "0                             NaN                    NaN             NaN   \n",
       "1                             NaN                    NaN             NaN   \n",
       "2                             NaN                    NaN             NaN   \n",
       "3                             NaN                    NaN             NaN   \n",
       "4                             NaN                    NaN             NaN   \n",
       "\n",
       "   num_actv_rev_tl  num_bc_sats  num_bc_tl  num_il_tl  num_op_rev_tl  \\\n",
       "0              NaN          NaN        NaN        NaN            NaN   \n",
       "1              NaN          NaN        NaN        NaN            NaN   \n",
       "2              NaN          NaN        NaN        NaN            NaN   \n",
       "3              NaN          NaN        NaN        NaN            NaN   \n",
       "4              NaN          NaN        NaN        NaN            NaN   \n",
       "\n",
       "   num_rev_accts  num_rev_tl_bal_gt_0  num_sats  num_tl_120dpd_2m  \\\n",
       "0            NaN                  NaN       NaN               NaN   \n",
       "1            NaN                  NaN       NaN               NaN   \n",
       "2            NaN                  NaN       NaN               NaN   \n",
       "3            NaN                  NaN       NaN               NaN   \n",
       "4            NaN                  NaN       NaN               NaN   \n",
       "\n",
       "   num_tl_30dpd  num_tl_90g_dpd_24m  num_tl_op_past_12m  pct_tl_nvr_dlq  \\\n",
       "0           NaN                 NaN                 NaN             NaN   \n",
       "1           NaN                 NaN                 NaN             NaN   \n",
       "2           NaN                 NaN                 NaN             NaN   \n",
       "3           NaN                 NaN                 NaN             NaN   \n",
       "4           NaN                 NaN                 NaN             NaN   \n",
       "\n",
       "   percent_bc_gt_75  pub_rec_bankruptcies  tax_liens  tot_hi_cred_lim  \\\n",
       "0               NaN                   0.0        0.0              NaN   \n",
       "1               NaN                   0.0        0.0              NaN   \n",
       "2               NaN                   0.0        0.0              NaN   \n",
       "3               NaN                   0.0        0.0              NaN   \n",
       "4               NaN                   0.0        0.0              NaN   \n",
       "\n",
       "   total_bal_ex_mort  total_bc_limit  total_il_high_credit_limit  \n",
       "0                NaN             NaN                         NaN  \n",
       "1                NaN             NaN                         NaN  \n",
       "2                NaN             NaN                         NaN  \n",
       "3                NaN             NaN                         NaN  \n",
       "4                NaN             NaN                         NaN  "
      ]
     },
     "execution_count": 4,
     "metadata": {},
     "output_type": "execute_result"
    }
   ],
   "source": [
    "pd.set_option('display.max_columns', None)\n",
    "dfloan.head()"
   ]
  },
  {
   "cell_type": "code",
   "execution_count": 5,
   "id": "f3d3490a",
   "metadata": {},
   "outputs": [
    {
     "name": "stdout",
     "output_type": "stream",
     "text": [
      "id: 0\n",
      "member_id: 0\n",
      "loan_amnt: 0\n",
      "funded_amnt: 0\n",
      "funded_amnt_inv: 0\n",
      "term: 0\n",
      "int_rate: 0\n",
      "installment: 0\n",
      "grade: 0\n",
      "sub_grade: 0\n",
      "emp_title: 2459\n",
      "emp_length: 1075\n",
      "home_ownership: 0\n",
      "annual_inc: 0\n",
      "verification_status: 0\n",
      "issue_d: 0\n",
      "loan_status: 0\n",
      "pymnt_plan: 0\n",
      "url: 0\n",
      "desc: 12940\n",
      "purpose: 0\n",
      "title: 11\n",
      "zip_code: 0\n",
      "addr_state: 0\n",
      "dti: 0\n",
      "delinq_2yrs: 0\n",
      "earliest_cr_line: 0\n",
      "inq_last_6mths: 0\n",
      "mths_since_last_delinq: 25682\n",
      "mths_since_last_record: 36931\n",
      "open_acc: 0\n",
      "pub_rec: 0\n",
      "revol_bal: 0\n",
      "revol_util: 50\n",
      "total_acc: 0\n",
      "initial_list_status: 0\n",
      "out_prncp: 0\n",
      "out_prncp_inv: 0\n",
      "total_pymnt: 0\n",
      "total_pymnt_inv: 0\n",
      "total_rec_prncp: 0\n",
      "total_rec_int: 0\n",
      "total_rec_late_fee: 0\n",
      "recoveries: 0\n",
      "collection_recovery_fee: 0\n",
      "last_pymnt_d: 71\n",
      "last_pymnt_amnt: 0\n",
      "next_pymnt_d: 38577\n",
      "last_credit_pull_d: 2\n",
      "collections_12_mths_ex_med: 56\n",
      "mths_since_last_major_derog: 39717\n",
      "policy_code: 0\n",
      "application_type: 0\n",
      "annual_inc_joint: 39717\n",
      "dti_joint: 39717\n",
      "verification_status_joint: 39717\n",
      "acc_now_delinq: 0\n",
      "tot_coll_amt: 39717\n",
      "tot_cur_bal: 39717\n",
      "open_acc_6m: 39717\n",
      "open_il_6m: 39717\n",
      "open_il_12m: 39717\n",
      "open_il_24m: 39717\n",
      "mths_since_rcnt_il: 39717\n",
      "total_bal_il: 39717\n",
      "il_util: 39717\n",
      "open_rv_12m: 39717\n",
      "open_rv_24m: 39717\n",
      "max_bal_bc: 39717\n",
      "all_util: 39717\n",
      "total_rev_hi_lim: 39717\n",
      "inq_fi: 39717\n",
      "total_cu_tl: 39717\n",
      "inq_last_12m: 39717\n",
      "acc_open_past_24mths: 39717\n",
      "avg_cur_bal: 39717\n",
      "bc_open_to_buy: 39717\n",
      "bc_util: 39717\n",
      "chargeoff_within_12_mths: 56\n",
      "delinq_amnt: 0\n",
      "mo_sin_old_il_acct: 39717\n",
      "mo_sin_old_rev_tl_op: 39717\n",
      "mo_sin_rcnt_rev_tl_op: 39717\n",
      "mo_sin_rcnt_tl: 39717\n",
      "mort_acc: 39717\n",
      "mths_since_recent_bc: 39717\n",
      "mths_since_recent_bc_dlq: 39717\n",
      "mths_since_recent_inq: 39717\n",
      "mths_since_recent_revol_delinq: 39717\n",
      "num_accts_ever_120_pd: 39717\n",
      "num_actv_bc_tl: 39717\n",
      "num_actv_rev_tl: 39717\n",
      "num_bc_sats: 39717\n",
      "num_bc_tl: 39717\n",
      "num_il_tl: 39717\n",
      "num_op_rev_tl: 39717\n",
      "num_rev_accts: 39717\n",
      "num_rev_tl_bal_gt_0: 39717\n",
      "num_sats: 39717\n",
      "num_tl_120dpd_2m: 39717\n",
      "num_tl_30dpd: 39717\n",
      "num_tl_90g_dpd_24m: 39717\n",
      "num_tl_op_past_12m: 39717\n",
      "pct_tl_nvr_dlq: 39717\n",
      "percent_bc_gt_75: 39717\n",
      "pub_rec_bankruptcies: 697\n",
      "tax_liens: 39\n",
      "tot_hi_cred_lim: 39717\n",
      "total_bal_ex_mort: 39717\n",
      "total_bc_limit: 39717\n",
      "total_il_high_credit_limit: 39717\n"
     ]
    }
   ],
   "source": [
    "cols = []\n",
    "for col in dfloan.columns:\n",
    "    print(f'{col}: {dfloan[col].isnull().sum()}')\n",
    "    if dfloan[col].isnull().sum() < 25000:\n",
    "        cols.append(col)"
   ]
  },
  {
   "cell_type": "code",
   "execution_count": 7,
   "id": "5cd2987b",
   "metadata": {},
   "outputs": [
    {
     "data": {
      "text/plain": [
       "Index(['id', 'member_id', 'loan_amnt', 'funded_amnt', 'funded_amnt_inv',\n",
       "       'term', 'int_rate', 'installment', 'grade', 'sub_grade', 'emp_title',\n",
       "       'emp_length', 'home_ownership', 'annual_inc', 'verification_status',\n",
       "       'issue_d', 'loan_status', 'pymnt_plan', 'url', 'desc', 'purpose',\n",
       "       'title', 'zip_code', 'addr_state', 'dti', 'delinq_2yrs',\n",
       "       'earliest_cr_line', 'inq_last_6mths', 'open_acc', 'pub_rec',\n",
       "       'revol_bal', 'revol_util', 'total_acc', 'initial_list_status',\n",
       "       'out_prncp', 'out_prncp_inv', 'total_pymnt', 'total_pymnt_inv',\n",
       "       'total_rec_prncp', 'total_rec_int', 'total_rec_late_fee', 'recoveries',\n",
       "       'collection_recovery_fee', 'last_pymnt_d', 'last_pymnt_amnt',\n",
       "       'last_credit_pull_d', 'collections_12_mths_ex_med', 'policy_code',\n",
       "       'application_type', 'acc_now_delinq', 'chargeoff_within_12_mths',\n",
       "       'delinq_amnt', 'pub_rec_bankruptcies', 'tax_liens'],\n",
       "      dtype='object')"
      ]
     },
     "execution_count": 7,
     "metadata": {},
     "output_type": "execute_result"
    }
   ],
   "source": [
    "dfl1 = dfloan.loc[:, cols]\n",
    "dfl1.columns"
   ]
  },
  {
   "cell_type": "code",
   "execution_count": 9,
   "id": "2c39cd21",
   "metadata": {},
   "outputs": [],
   "source": [
    "dfl1 = dfl1.drop('desc', axis=1)\n",
    "dfl1 = dfl1.dropna()"
   ]
  },
  {
   "cell_type": "code",
   "execution_count": 11,
   "id": "2361888e",
   "metadata": {},
   "outputs": [
    {
     "data": {
      "text/plain": [
       "(36431, 53)"
      ]
     },
     "execution_count": 11,
     "metadata": {},
     "output_type": "execute_result"
    }
   ],
   "source": [
    "dfl1.shape"
   ]
  },
  {
   "cell_type": "code",
   "execution_count": 10,
   "id": "527fbd26",
   "metadata": {},
   "outputs": [
    {
     "data": {
      "text/plain": [
       "Fully Paid     30423\n",
       "Charged Off     4942\n",
       "Current         1066\n",
       "Name: loan_status, dtype: int64"
      ]
     },
     "execution_count": 10,
     "metadata": {},
     "output_type": "execute_result"
    }
   ],
   "source": [
    "dfl1.loan_status.value_counts()"
   ]
  },
  {
   "cell_type": "code",
   "execution_count": 12,
   "id": "a781f3e4",
   "metadata": {},
   "outputs": [],
   "source": [
    "drop_indices = list(dfl1.loc[dfl1.loan_status == 'Current'].index)\n",
    "dfl1 = dfl1.drop(drop_indices)\n",
    "dfl1 = dfl1.reset_index(drop=True)"
   ]
  },
  {
   "cell_type": "code",
   "execution_count": 23,
   "id": "7c5a2ba7",
   "metadata": {},
   "outputs": [],
   "source": [
    "dfl2 = dfl1.copy()\n",
    "# dfl2.info()"
   ]
  },
  {
   "cell_type": "code",
   "execution_count": 15,
   "id": "aa3b0648",
   "metadata": {},
   "outputs": [],
   "source": [
    "dfl2.to_csv('loan_data/loan_data1.csv')"
   ]
  },
  {
   "cell_type": "code",
   "execution_count": 24,
   "id": "9f7dcacb",
   "metadata": {},
   "outputs": [
    {
     "data": {
      "text/plain": [
       "35365"
      ]
     },
     "execution_count": 24,
     "metadata": {},
     "output_type": "execute_result"
    }
   ],
   "source": [
    "dfl2.member_id.nunique()"
   ]
  },
  {
   "cell_type": "code",
   "execution_count": 25,
   "id": "c8a464a2",
   "metadata": {},
   "outputs": [
    {
     "data": {
      "text/html": [
       "<div>\n",
       "<style scoped>\n",
       "    .dataframe tbody tr th:only-of-type {\n",
       "        vertical-align: middle;\n",
       "    }\n",
       "\n",
       "    .dataframe tbody tr th {\n",
       "        vertical-align: top;\n",
       "    }\n",
       "\n",
       "    .dataframe thead th {\n",
       "        text-align: right;\n",
       "    }\n",
       "</style>\n",
       "<table border=\"1\" class=\"dataframe\">\n",
       "  <thead>\n",
       "    <tr style=\"text-align: right;\">\n",
       "      <th></th>\n",
       "      <th>diff</th>\n",
       "    </tr>\n",
       "  </thead>\n",
       "  <tbody>\n",
       "    <tr>\n",
       "      <th>16</th>\n",
       "      <td>1107.83892</td>\n",
       "    </tr>\n",
       "    <tr>\n",
       "      <th>56</th>\n",
       "      <td>3575.00000</td>\n",
       "    </tr>\n",
       "    <tr>\n",
       "      <th>60</th>\n",
       "      <td>7425.00000</td>\n",
       "    </tr>\n",
       "    <tr>\n",
       "      <th>70</th>\n",
       "      <td>12950.00000</td>\n",
       "    </tr>\n",
       "    <tr>\n",
       "      <th>84</th>\n",
       "      <td>7225.00000</td>\n",
       "    </tr>\n",
       "    <tr>\n",
       "      <th>...</th>\n",
       "      <td>...</td>\n",
       "    </tr>\n",
       "    <tr>\n",
       "      <th>35360</th>\n",
       "      <td>5900.22000</td>\n",
       "    </tr>\n",
       "    <tr>\n",
       "      <th>35361</th>\n",
       "      <td>11275.00000</td>\n",
       "    </tr>\n",
       "    <tr>\n",
       "      <th>35362</th>\n",
       "      <td>11375.00000</td>\n",
       "    </tr>\n",
       "    <tr>\n",
       "      <th>35363</th>\n",
       "      <td>3700.00000</td>\n",
       "    </tr>\n",
       "    <tr>\n",
       "      <th>35364</th>\n",
       "      <td>8300.00000</td>\n",
       "    </tr>\n",
       "  </tbody>\n",
       "</table>\n",
       "<p>4005 rows × 1 columns</p>\n",
       "</div>"
      ],
      "text/plain": [
       "              diff\n",
       "16      1107.83892\n",
       "56      3575.00000\n",
       "60      7425.00000\n",
       "70     12950.00000\n",
       "84      7225.00000\n",
       "...            ...\n",
       "35360   5900.22000\n",
       "35361  11275.00000\n",
       "35362  11375.00000\n",
       "35363   3700.00000\n",
       "35364   8300.00000\n",
       "\n",
       "[4005 rows x 1 columns]"
      ]
     },
     "execution_count": 25,
     "metadata": {},
     "output_type": "execute_result"
    }
   ],
   "source": [
    "amnts = pd.DataFrame(dfl2.loan_amnt - dfl2.funded_amnt_inv)\n",
    "amnts.columns = ['diff']\n",
    "\n",
    "mask = amnts['diff'] > 1000\n",
    "amnts.loc[mask]"
   ]
  },
  {
   "cell_type": "code",
   "execution_count": 18,
   "id": "2f7fcd09",
   "metadata": {},
   "outputs": [
    {
     "data": {
      "text/html": [
       "<div>\n",
       "<style scoped>\n",
       "    .dataframe tbody tr th:only-of-type {\n",
       "        vertical-align: middle;\n",
       "    }\n",
       "\n",
       "    .dataframe tbody tr th {\n",
       "        vertical-align: top;\n",
       "    }\n",
       "\n",
       "    .dataframe thead th {\n",
       "        text-align: right;\n",
       "    }\n",
       "</style>\n",
       "<table border=\"1\" class=\"dataframe\">\n",
       "  <thead>\n",
       "    <tr style=\"text-align: right;\">\n",
       "      <th></th>\n",
       "      <th>diff</th>\n",
       "    </tr>\n",
       "  </thead>\n",
       "  <tbody>\n",
       "    <tr>\n",
       "      <th>count</th>\n",
       "      <td>35365.000000</td>\n",
       "    </tr>\n",
       "    <tr>\n",
       "      <th>mean</th>\n",
       "      <td>705.497716</td>\n",
       "    </tr>\n",
       "    <tr>\n",
       "      <th>std</th>\n",
       "      <td>2244.921781</td>\n",
       "    </tr>\n",
       "    <tr>\n",
       "      <th>min</th>\n",
       "      <td>0.000000</td>\n",
       "    </tr>\n",
       "    <tr>\n",
       "      <th>25%</th>\n",
       "      <td>0.000000</td>\n",
       "    </tr>\n",
       "    <tr>\n",
       "      <th>50%</th>\n",
       "      <td>2.365760</td>\n",
       "    </tr>\n",
       "    <tr>\n",
       "      <th>75%</th>\n",
       "      <td>200.000000</td>\n",
       "    </tr>\n",
       "    <tr>\n",
       "      <th>max</th>\n",
       "      <td>32474.996081</td>\n",
       "    </tr>\n",
       "  </tbody>\n",
       "</table>\n",
       "</div>"
      ],
      "text/plain": [
       "               diff\n",
       "count  35365.000000\n",
       "mean     705.497716\n",
       "std     2244.921781\n",
       "min        0.000000\n",
       "25%        0.000000\n",
       "50%        2.365760\n",
       "75%      200.000000\n",
       "max    32474.996081"
      ]
     },
     "execution_count": 18,
     "metadata": {},
     "output_type": "execute_result"
    }
   ],
   "source": [
    "amnts.describe()"
   ]
  },
  {
   "cell_type": "code",
   "execution_count": 26,
   "id": "c200e487",
   "metadata": {},
   "outputs": [],
   "source": [
    "sub_grade_dict = {}\n",
    "counter = 1\n",
    "for let in ['A', 'B', 'C', 'D', 'E','F','G']:\n",
    "    for num in np.arange(1,6):\n",
    "        subgra = let+str(num)\n",
    "        sub_grade_dict[subgra] = counter\n",
    "        counter = counter+2\n",
    "\n",
    "keyss = list(sub_grade_dict.keys())"
   ]
  },
  {
   "cell_type": "code",
   "execution_count": 29,
   "id": "7f4906c0",
   "metadata": {},
   "outputs": [],
   "source": [
    "# for i in range(len(dfl2)):\n",
    "#     key = dfl2.iloc[i,9]\n",
    "#     dfl2.iloc[i,9] = sub_grade_dict[key]\n",
    "\n",
    "# dfl2.sub_grade = dfl2.sub_grade.astype('int')\n",
    "# dfl2.sub_grade.value_counts()"
   ]
  },
  {
   "cell_type": "code",
   "execution_count": 30,
   "id": "9b1ce61d",
   "metadata": {},
   "outputs": [],
   "source": [
    "dfl2.term = [int(term.split(' ')[1]) for term in dfl2.term.tolist()]"
   ]
  },
  {
   "cell_type": "code",
   "execution_count": 31,
   "id": "0b5a1db7",
   "metadata": {},
   "outputs": [],
   "source": [
    "dfl2.int_rate = [float(rate.strip('%')) for rate in dfl2.int_rate.tolist()]"
   ]
  },
  {
   "cell_type": "code",
   "execution_count": 32,
   "id": "067a7fe7",
   "metadata": {},
   "outputs": [],
   "source": [
    "dfl2 = dfl2.drop(['member_id', 'grade'], axis=1)"
   ]
  },
  {
   "cell_type": "code",
   "execution_count": 33,
   "id": "88ec606c",
   "metadata": {},
   "outputs": [],
   "source": [
    "dfl2 = dfl2.drop('emp_title', axis=1)"
   ]
  },
  {
   "cell_type": "code",
   "execution_count": 34,
   "id": "435f6b43",
   "metadata": {},
   "outputs": [],
   "source": [
    "dfl2.emp_length = dfl2.emp_length.replace('10+ years', '10 years')"
   ]
  },
  {
   "cell_type": "code",
   "execution_count": 35,
   "id": "6f95f3e3",
   "metadata": {},
   "outputs": [],
   "source": [
    "dfl2.emp_length = dfl2.emp_length.replace('< 1 year', '0 years')"
   ]
  },
  {
   "cell_type": "code",
   "execution_count": 36,
   "id": "188c8419",
   "metadata": {},
   "outputs": [],
   "source": [
    "dfl2.emp_length = [int(lenth.split(' ')[0]) for lenth in dfl2.emp_length]"
   ]
  },
  {
   "cell_type": "code",
   "execution_count": 37,
   "id": "3521ba75",
   "metadata": {},
   "outputs": [],
   "source": [
    "dfl2 = dfl2.reset_index(drop=True)"
   ]
  },
  {
   "cell_type": "code",
   "execution_count": 38,
   "id": "2156cc63",
   "metadata": {},
   "outputs": [],
   "source": [
    "issue_d_list = list(dfl2.issue_d.unique())"
   ]
  },
  {
   "cell_type": "code",
   "execution_count": 39,
   "id": "2c29be01",
   "metadata": {},
   "outputs": [],
   "source": [
    "issue_d_dict = {}\n",
    "counter = 1\n",
    "for d in issue_d_list:\n",
    "    issue_d_dict[d] = counter\n",
    "    counter += 1\n",
    "#issue_d_dict"
   ]
  },
  {
   "cell_type": "code",
   "execution_count": 40,
   "id": "f90605f8",
   "metadata": {},
   "outputs": [],
   "source": [
    "for i in range(len(dfl2)):\n",
    "    key = dfl2.iloc[i,12]\n",
    "    dfl2.iloc[i,12] = issue_d_dict[key]"
   ]
  },
  {
   "cell_type": "code",
   "execution_count": 41,
   "id": "b5a10995",
   "metadata": {},
   "outputs": [],
   "source": [
    "dfl2.issue_d = dfl2.issue_d.astype('int')"
   ]
  },
  {
   "cell_type": "code",
   "execution_count": 43,
   "id": "3883f849",
   "metadata": {},
   "outputs": [],
   "source": [
    "dfl2.loan_status = dfl2.loan_status.replace('Fully Paid', 0)\n",
    "dfl2.loan_status = dfl2.loan_status.replace('Charged Off', 1)"
   ]
  },
  {
   "cell_type": "code",
   "execution_count": 44,
   "id": "e1ad9dde",
   "metadata": {},
   "outputs": [
    {
     "data": {
      "text/plain": [
       "0    30423\n",
       "1     4942\n",
       "Name: loan_status, dtype: int64"
      ]
     },
     "execution_count": 44,
     "metadata": {},
     "output_type": "execute_result"
    }
   ],
   "source": [
    "dfl2.loan_status.value_counts()"
   ]
  },
  {
   "cell_type": "code",
   "execution_count": 45,
   "id": "e2f4edee",
   "metadata": {},
   "outputs": [],
   "source": [
    "dfl2 = dfl2.drop('pymnt_plan', axis=1)"
   ]
  },
  {
   "cell_type": "code",
   "execution_count": 46,
   "id": "4fcea97c",
   "metadata": {},
   "outputs": [],
   "source": [
    "dfl2 = dfl2.drop('url', axis=1)"
   ]
  },
  {
   "cell_type": "code",
   "execution_count": 47,
   "id": "8095a85d",
   "metadata": {},
   "outputs": [],
   "source": [
    "dfl2.purpose = dfl2.purpose.replace('renewable_energy','other')"
   ]
  },
  {
   "cell_type": "code",
   "execution_count": 48,
   "id": "c6faba72",
   "metadata": {},
   "outputs": [],
   "source": [
    "dfl2 = dfl2.drop('title', axis=1)"
   ]
  },
  {
   "cell_type": "code",
   "execution_count": 49,
   "id": "1652f8cb",
   "metadata": {},
   "outputs": [],
   "source": [
    "# create Federal Reserve State Regions\n",
    "\n",
    "fed_reserve_dict = {'1':['ME','VT', 'NH', 'MA', 'CT', 'RI'],\n",
    "                    '2':['NY'],\n",
    "                    '3':['PA', 'NJ'],\n",
    "                    '4':['OH'],\n",
    "                    '5':['MD', 'DE', 'VA', 'WV', 'NC', 'SC', 'DC'],\n",
    "                    '6':['FL', 'TN', 'GA', 'AL', 'MS'],\n",
    "                    '7':['MI', 'WI', 'IL', 'IN', 'IA'],\n",
    "                    '8':['AR', 'MO', 'KY'],\n",
    "                    '9':['MN', 'ND', 'SD', 'MT'],\n",
    "                    '10':['WY', 'CO', 'KS', 'NE', 'OK'],\n",
    "                    '11':['TX', 'NM', 'LA'],\n",
    "                    '12':['CA', 'AZ', 'NV', 'OR', 'WA', 'ID', 'UT', 'HI', 'AK']}"
   ]
  },
  {
   "cell_type": "code",
   "execution_count": 50,
   "id": "69e3b5af",
   "metadata": {},
   "outputs": [],
   "source": [
    "fed_reserve_inv_dict ={}\n",
    "for key in list(fed_reserve_dict.keys()):\n",
    "    for state in fed_reserve_dict[key]:\n",
    "        fed_reserve_inv_dict[state] = key"
   ]
  },
  {
   "cell_type": "code",
   "execution_count": 51,
   "id": "99366bde",
   "metadata": {},
   "outputs": [],
   "source": [
    "dfl2 = dfl2.drop('zip_code', axis=1)"
   ]
  },
  {
   "cell_type": "code",
   "execution_count": 52,
   "id": "d7ee0006",
   "metadata": {},
   "outputs": [],
   "source": [
    "fed_reserve_region_list = []\n",
    "for index in dfl2.index:\n",
    "    state = dfl2.loc[index, 'addr_state']\n",
    "    fed_reserve_region_list.append(fed_reserve_inv_dict[state])"
   ]
  },
  {
   "cell_type": "code",
   "execution_count": 53,
   "id": "97203cfc",
   "metadata": {},
   "outputs": [],
   "source": [
    "dfl2['fed_reserve_region'] = pd.Series(fed_reserve_region_list)"
   ]
  },
  {
   "cell_type": "code",
   "execution_count": 54,
   "id": "59b3eca4",
   "metadata": {},
   "outputs": [],
   "source": [
    "dfl2 = dfl2.drop('addr_state', axis=1)"
   ]
  },
  {
   "cell_type": "code",
   "execution_count": 55,
   "id": "3dd39b7f",
   "metadata": {},
   "outputs": [],
   "source": [
    "dfl2 = dfl2.drop('earliest_cr_line', axis=1)"
   ]
  },
  {
   "cell_type": "code",
   "execution_count": 56,
   "id": "5c3c4235",
   "metadata": {},
   "outputs": [],
   "source": [
    "dfl2 = dfl2.drop('pub_rec', axis=1)"
   ]
  },
  {
   "cell_type": "code",
   "execution_count": 57,
   "id": "d78a9d00",
   "metadata": {},
   "outputs": [],
   "source": [
    "revol_util_list = []\n",
    "for rate in list(dfl2.revol_util):\n",
    "    rate_proper = round(float(rate.strip('%'))/100, 2)\n",
    "    revol_util_list.append(rate_proper)"
   ]
  },
  {
   "cell_type": "code",
   "execution_count": 58,
   "id": "8a87cdb0",
   "metadata": {},
   "outputs": [],
   "source": [
    "dfl2['revol_util'] = pd.Series(revol_util_list)"
   ]
  },
  {
   "cell_type": "code",
   "execution_count": 59,
   "id": "b28ee7c3",
   "metadata": {},
   "outputs": [],
   "source": [
    "dfl2 = dfl2.drop('initial_list_status', axis = 1)"
   ]
  },
  {
   "cell_type": "code",
   "execution_count": 60,
   "id": "d058da86",
   "metadata": {},
   "outputs": [],
   "source": [
    "dfl2 = dfl2.drop('tax_liens', axis = 1)"
   ]
  },
  {
   "cell_type": "code",
   "execution_count": 61,
   "id": "e80ba69f",
   "metadata": {},
   "outputs": [],
   "source": [
    "dfl2.pub_rec_bankruptcies = dfl2.pub_rec_bankruptcies.replace(2,1)"
   ]
  },
  {
   "cell_type": "code",
   "execution_count": 66,
   "id": "3bdcc371",
   "metadata": {},
   "outputs": [
    {
     "data": {
      "text/plain": [
       "0.0    33898\n",
       "1.0     1467\n",
       "Name: pub_rec_bankruptcies, dtype: int64"
      ]
     },
     "execution_count": 66,
     "metadata": {},
     "output_type": "execute_result"
    }
   ],
   "source": [
    "dfl2.pub_rec_bankruptcies.value_counts()"
   ]
  },
  {
   "cell_type": "code",
   "execution_count": 62,
   "id": "7326259e",
   "metadata": {},
   "outputs": [],
   "source": [
    "dfl2 = dfl2.drop('delinq_amnt', axis=1)"
   ]
  },
  {
   "cell_type": "code",
   "execution_count": 63,
   "id": "acbb7705",
   "metadata": {},
   "outputs": [],
   "source": [
    "dfl2 = dfl2.drop('chargeoff_within_12_mths', axis=1)"
   ]
  },
  {
   "cell_type": "code",
   "execution_count": 64,
   "id": "a733d0c4",
   "metadata": {},
   "outputs": [
    {
     "data": {
      "text/plain": [
       "0    35365\n",
       "Name: acc_now_delinq, dtype: int64"
      ]
     },
     "execution_count": 64,
     "metadata": {},
     "output_type": "execute_result"
    }
   ],
   "source": [
    "dfl2.acc_now_delinq.value_counts()"
   ]
  },
  {
   "cell_type": "code",
   "execution_count": 65,
   "id": "7676b1b6",
   "metadata": {},
   "outputs": [
    {
     "data": {
      "text/plain": [
       "INDIVIDUAL    35365\n",
       "Name: application_type, dtype: int64"
      ]
     },
     "execution_count": 65,
     "metadata": {},
     "output_type": "execute_result"
    }
   ],
   "source": [
    "dfl2.application_type.value_counts()"
   ]
  },
  {
   "cell_type": "code",
   "execution_count": 66,
   "id": "4402e9ba",
   "metadata": {},
   "outputs": [
    {
     "data": {
      "text/plain": [
       "1    35365\n",
       "Name: policy_code, dtype: int64"
      ]
     },
     "execution_count": 66,
     "metadata": {},
     "output_type": "execute_result"
    }
   ],
   "source": [
    "dfl2.policy_code.value_counts()"
   ]
  },
  {
   "cell_type": "code",
   "execution_count": 67,
   "id": "614e54ad",
   "metadata": {},
   "outputs": [
    {
     "data": {
      "text/plain": [
       "0.0    35365\n",
       "Name: collections_12_mths_ex_med, dtype: int64"
      ]
     },
     "execution_count": 67,
     "metadata": {},
     "output_type": "execute_result"
    }
   ],
   "source": [
    "dfl2.collections_12_mths_ex_med.value_counts()"
   ]
  },
  {
   "cell_type": "code",
   "execution_count": 68,
   "id": "63f1cc53",
   "metadata": {},
   "outputs": [],
   "source": [
    "dfl2 = dfl2.drop(['acc_now_delinq', 'application_type', 'policy_code', 'collections_12_mths_ex_med'], axis=1)"
   ]
  },
  {
   "cell_type": "code",
   "execution_count": 69,
   "id": "3691ab9f",
   "metadata": {},
   "outputs": [],
   "source": [
    "dfl2 = dfl2.drop(['out_prncp', 'out_prncp_inv',\n",
    "       'total_pymnt', 'total_pymnt_inv', 'total_rec_prncp', 'total_rec_int',\n",
    "       'total_rec_late_fee', 'recoveries', 'collection_recovery_fee',\n",
    "       'last_pymnt_d', 'last_pymnt_amnt',], axis=1)"
   ]
  },
  {
   "cell_type": "code",
   "execution_count": 70,
   "id": "7923a604",
   "metadata": {},
   "outputs": [],
   "source": [
    "dfl2 = dfl2.drop(['funded_amnt', 'funded_amnt_inv'], axis=1)"
   ]
  },
  {
   "cell_type": "code",
   "execution_count": 72,
   "id": "0cbf1069",
   "metadata": {},
   "outputs": [],
   "source": [
    "dfl3 = dfl2.copy()"
   ]
  },
  {
   "cell_type": "code",
   "execution_count": 71,
   "id": "ae49f852",
   "metadata": {},
   "outputs": [
    {
     "name": "stdout",
     "output_type": "stream",
     "text": [
      "<class 'pandas.core.frame.DataFrame'>\n",
      "RangeIndex: 35365 entries, 0 to 35364\n",
      "Data columns (total 23 columns):\n",
      " #   Column                Non-Null Count  Dtype  \n",
      "---  ------                --------------  -----  \n",
      " 0   id                    35365 non-null  int64  \n",
      " 1   loan_amnt             35365 non-null  int64  \n",
      " 2   term                  35365 non-null  int64  \n",
      " 3   int_rate              35365 non-null  float64\n",
      " 4   installment           35365 non-null  float64\n",
      " 5   sub_grade             35365 non-null  int32  \n",
      " 6   emp_length            35365 non-null  int64  \n",
      " 7   home_ownership        35365 non-null  object \n",
      " 8   annual_inc            35365 non-null  float64\n",
      " 9   verification_status   35365 non-null  object \n",
      " 10  issue_d               35365 non-null  int32  \n",
      " 11  loan_status           35365 non-null  int64  \n",
      " 12  purpose               35365 non-null  object \n",
      " 13  dti                   35365 non-null  float64\n",
      " 14  delinq_2yrs           35365 non-null  int64  \n",
      " 15  inq_last_6mths        35365 non-null  int64  \n",
      " 16  open_acc              35365 non-null  int64  \n",
      " 17  revol_bal             35365 non-null  int64  \n",
      " 18  revol_util            35365 non-null  float64\n",
      " 19  total_acc             35365 non-null  int64  \n",
      " 20  last_credit_pull_d    35365 non-null  object \n",
      " 21  pub_rec_bankruptcies  35365 non-null  float64\n",
      " 22  fed_reserve_region    35365 non-null  object \n",
      "dtypes: float64(6), int32(2), int64(10), object(5)\n",
      "memory usage: 5.9+ MB\n"
     ]
    }
   ],
   "source": [
    "dfl2.info()"
   ]
  },
  {
   "cell_type": "code",
   "execution_count": 438,
   "id": "888f53d7",
   "metadata": {},
   "outputs": [],
   "source": [
    "dfl2.last_credit_pull_d = dfl2backup.last_credit_pull_d.copy()"
   ]
  },
  {
   "cell_type": "code",
   "execution_count": 73,
   "id": "92d4faf4",
   "metadata": {},
   "outputs": [],
   "source": [
    "last_credit_pull_d_list = list(dfl2.last_credit_pull_d)"
   ]
  },
  {
   "cell_type": "code",
   "execution_count": 74,
   "id": "90154088",
   "metadata": {},
   "outputs": [],
   "source": [
    "month_dict = {'Jan': 1, 'Feb': 2, 'Mar': 3, 'Apr': 4, 'May': 5, 'Jun': 6, 'Jul': 7, 'Aug': 8, 'Sep': 9, 'Oct': 10, \n",
    "             'Nov': 11, 'Dec': 12}"
   ]
  },
  {
   "cell_type": "code",
   "execution_count": 75,
   "id": "fe4f2c5a",
   "metadata": {},
   "outputs": [],
   "source": [
    "credit_pull_dates_dict = {}\n",
    "\n",
    "sep_date = last_credit_pull_d_list[0].split('-')\n",
    "month = sep_date[0]\n",
    "year = sep_date[1]\n",
    "\n",
    "credit_pull_dates_dict['year'] = ['20'+year]\n",
    "credit_pull_dates_dict['month'] = [month_dict[month]]\n",
    "\n",
    "for i in np.arange(1, len(last_credit_pull_d_list)):\n",
    "    sep_date = last_credit_pull_d_list[i].split('-')\n",
    "    month = sep_date[0]\n",
    "    year = sep_date[1]\n",
    "    \n",
    "    credit_pull_dates_dict['year'].append('20'+year)\n",
    "    credit_pull_dates_dict['month'].append(month_dict[month])"
   ]
  },
  {
   "cell_type": "code",
   "execution_count": 76,
   "id": "82990575",
   "metadata": {},
   "outputs": [
    {
     "data": {
      "text/plain": [
       "35365"
      ]
     },
     "execution_count": 76,
     "metadata": {},
     "output_type": "execute_result"
    }
   ],
   "source": [
    "len(credit_pull_dates_dict['year'])"
   ]
  },
  {
   "cell_type": "code",
   "execution_count": 77,
   "id": "fa92f810",
   "metadata": {},
   "outputs": [],
   "source": [
    "dfpull_dates = pd.DataFrame(credit_pull_dates_dict)\n",
    "dfpull_dates['day'] = '1'"
   ]
  },
  {
   "cell_type": "code",
   "execution_count": 78,
   "id": "58d8048a",
   "metadata": {},
   "outputs": [
    {
     "data": {
      "text/plain": [
       "RangeIndex(start=0, stop=35365, step=1)"
      ]
     },
     "execution_count": 78,
     "metadata": {},
     "output_type": "execute_result"
    }
   ],
   "source": [
    "dfl2.index"
   ]
  },
  {
   "cell_type": "code",
   "execution_count": 79,
   "id": "4986e385",
   "metadata": {},
   "outputs": [],
   "source": [
    "credit_pull_datetime = pd.to_datetime(dfpull_dates)"
   ]
  },
  {
   "cell_type": "code",
   "execution_count": 81,
   "id": "7a24846f",
   "metadata": {},
   "outputs": [],
   "source": [
    "index_list = dfl2.index.tolist()"
   ]
  },
  {
   "cell_type": "code",
   "execution_count": 83,
   "id": "807e41f6",
   "metadata": {},
   "outputs": [],
   "source": [
    "credit_pull_datetime.index = index_list"
   ]
  },
  {
   "cell_type": "code",
   "execution_count": 84,
   "id": "934c1581",
   "metadata": {},
   "outputs": [],
   "source": [
    "dfl2['last_credit_pull_datetime'] = credit_pull_datetime"
   ]
  },
  {
   "cell_type": "code",
   "execution_count": 85,
   "id": "44b83d66",
   "metadata": {},
   "outputs": [
    {
     "data": {
      "text/plain": [
       "0        Sep-13\n",
       "1        Apr-16\n",
       "2        Jan-16\n",
       "3        May-16\n",
       "4        Dec-14\n",
       "          ...  \n",
       "35360    May-16\n",
       "35361    Oct-15\n",
       "35362    May-14\n",
       "35363    Aug-08\n",
       "35364    May-16\n",
       "Name: last_credit_pull_d, Length: 35365, dtype: object"
      ]
     },
     "execution_count": 85,
     "metadata": {},
     "output_type": "execute_result"
    }
   ],
   "source": [
    "dfl2.last_credit_pull_d"
   ]
  },
  {
   "cell_type": "code",
   "execution_count": 86,
   "id": "6cfff532",
   "metadata": {},
   "outputs": [
    {
     "data": {
      "text/plain": [
       "0       2013-09-01\n",
       "1       2016-04-01\n",
       "2       2016-01-01\n",
       "3       2016-05-01\n",
       "4       2014-12-01\n",
       "           ...    \n",
       "35360   2016-05-01\n",
       "35361   2015-10-01\n",
       "35362   2014-05-01\n",
       "35363   2008-08-01\n",
       "35364   2016-05-01\n",
       "Name: last_credit_pull_datetime, Length: 35365, dtype: datetime64[ns]"
      ]
     },
     "execution_count": 86,
     "metadata": {},
     "output_type": "execute_result"
    }
   ],
   "source": [
    "dfl2.last_credit_pull_datetime"
   ]
  },
  {
   "cell_type": "code",
   "execution_count": 87,
   "id": "e5a00d62",
   "metadata": {},
   "outputs": [],
   "source": [
    "last_credit_pull_int = [int((dt.split('-')[0]+dt.split('-')[1])) for dt in list(dfl2.last_credit_pull_datetime.astype('str'))]"
   ]
  },
  {
   "cell_type": "code",
   "execution_count": 88,
   "id": "d9045e17",
   "metadata": {},
   "outputs": [
    {
     "data": {
      "text/plain": [
       "35365"
      ]
     },
     "execution_count": 88,
     "metadata": {},
     "output_type": "execute_result"
    }
   ],
   "source": [
    "len(pd.Series(last_credit_pull_int))"
   ]
  },
  {
   "cell_type": "code",
   "execution_count": 89,
   "id": "213ad0eb",
   "metadata": {},
   "outputs": [],
   "source": [
    "last_credit_pull_int_series = pd.Series(last_credit_pull_int)"
   ]
  },
  {
   "cell_type": "code",
   "execution_count": 90,
   "id": "17e3f16b",
   "metadata": {},
   "outputs": [],
   "source": [
    "last_credit_pull_int_series.index = index_list"
   ]
  },
  {
   "cell_type": "code",
   "execution_count": 91,
   "id": "b7b990b6",
   "metadata": {},
   "outputs": [],
   "source": [
    "dfl2['last_credit_pull_d_int'] = last_credit_pull_int_series"
   ]
  },
  {
   "cell_type": "code",
   "execution_count": 92,
   "id": "c1f12c73",
   "metadata": {},
   "outputs": [
    {
     "data": {
      "text/plain": [
       "0        201309\n",
       "1        201604\n",
       "2        201601\n",
       "3        201605\n",
       "4        201412\n",
       "          ...  \n",
       "35360    201605\n",
       "35361    201510\n",
       "35362    201405\n",
       "35363    200808\n",
       "35364    201605\n",
       "Name: last_credit_pull_d_int, Length: 35365, dtype: int64"
      ]
     },
     "execution_count": 92,
     "metadata": {},
     "output_type": "execute_result"
    }
   ],
   "source": [
    "dfl2.last_credit_pull_d_int"
   ]
  },
  {
   "cell_type": "code",
   "execution_count": 93,
   "id": "1e2be2f9",
   "metadata": {},
   "outputs": [],
   "source": [
    "dfl2backup = dfl2.copy()"
   ]
  },
  {
   "cell_type": "code",
   "execution_count": 140,
   "id": "f6728450",
   "metadata": {},
   "outputs": [],
   "source": [
    "dfl2backup.to_csv('loan_data/loan_data_clean.csv', index=False)"
   ]
  },
  {
   "cell_type": "code",
   "execution_count": 139,
   "id": "925a454b",
   "metadata": {},
   "outputs": [],
   "source": [
    "dfl2backup['last_credit_pull_datetime'] = credit_pull_datetime"
   ]
  },
  {
   "cell_type": "code",
   "execution_count": 141,
   "id": "e6ac4e0f",
   "metadata": {},
   "outputs": [],
   "source": [
    "dfl2tableau = dfl2backup.copy()"
   ]
  },
  {
   "cell_type": "code",
   "execution_count": 145,
   "id": "0bc4f982",
   "metadata": {},
   "outputs": [],
   "source": [
    "dfl2tableau = dfl2tableau.drop('last_credit_pull_d_int', axis=1)"
   ]
  },
  {
   "cell_type": "code",
   "execution_count": 151,
   "id": "e5fc6613",
   "metadata": {},
   "outputs": [],
   "source": [
    "dfl2tableau['grade'] = dfl1.grade\n",
    "dfl2tableau['sub_grade'] = dfl1.sub_grade\n",
    "dfl2tableau['loan_status'] = dfl1.loan_status"
   ]
  },
  {
   "cell_type": "code",
   "execution_count": 154,
   "id": "3f736cab",
   "metadata": {},
   "outputs": [],
   "source": [
    "dfl2tableau['addr_state'] = dfl1.addr_state"
   ]
  },
  {
   "cell_type": "code",
   "execution_count": 156,
   "id": "b562280c",
   "metadata": {},
   "outputs": [],
   "source": [
    "dfl2tableau['issue_d'] = dfl1.issue_d"
   ]
  },
  {
   "cell_type": "code",
   "execution_count": 157,
   "id": "8053f19c",
   "metadata": {},
   "outputs": [],
   "source": [
    "dfl2tableau.to_csv('loan_data/loan_data_tableau.csv', index=False)"
   ]
  },
  {
   "cell_type": "code",
   "execution_count": 150,
   "id": "5358532f",
   "metadata": {},
   "outputs": [
    {
     "data": {
      "text/plain": [
       "Index(['id', 'member_id', 'loan_amnt', 'funded_amnt', 'funded_amnt_inv',\n",
       "       'term', 'int_rate', 'installment', 'grade', 'sub_grade', 'emp_title',\n",
       "       'emp_length', 'home_ownership', 'annual_inc', 'verification_status',\n",
       "       'issue_d', 'loan_status', 'pymnt_plan', 'url', 'purpose', 'title',\n",
       "       'zip_code', 'addr_state', 'dti', 'delinq_2yrs', 'earliest_cr_line',\n",
       "       'inq_last_6mths', 'open_acc', 'pub_rec', 'revol_bal', 'revol_util',\n",
       "       'total_acc', 'initial_list_status', 'out_prncp', 'out_prncp_inv',\n",
       "       'total_pymnt', 'total_pymnt_inv', 'total_rec_prncp', 'total_rec_int',\n",
       "       'total_rec_late_fee', 'recoveries', 'collection_recovery_fee',\n",
       "       'last_pymnt_d', 'last_pymnt_amnt', 'last_credit_pull_d',\n",
       "       'collections_12_mths_ex_med', 'policy_code', 'application_type',\n",
       "       'acc_now_delinq', 'chargeoff_within_12_mths', 'delinq_amnt',\n",
       "       'pub_rec_bankruptcies', 'tax_liens'],\n",
       "      dtype='object')"
      ]
     },
     "execution_count": 150,
     "metadata": {},
     "output_type": "execute_result"
    }
   ],
   "source": [
    "dfl1.columns"
   ]
  },
  {
   "cell_type": "code",
   "execution_count": 152,
   "id": "d7dd9947",
   "metadata": {},
   "outputs": [
    {
     "name": "stdout",
     "output_type": "stream",
     "text": [
      "<class 'pandas.core.frame.DataFrame'>\n",
      "RangeIndex: 35365 entries, 0 to 35364\n",
      "Data columns (total 24 columns):\n",
      " #   Column                     Non-Null Count  Dtype         \n",
      "---  ------                     --------------  -----         \n",
      " 0   id                         35365 non-null  int64         \n",
      " 1   loan_amnt                  35365 non-null  int64         \n",
      " 2   term                       35365 non-null  int64         \n",
      " 3   int_rate                   35365 non-null  float64       \n",
      " 4   installment                35365 non-null  float64       \n",
      " 5   sub_grade                  35365 non-null  object        \n",
      " 6   emp_length                 35365 non-null  int64         \n",
      " 7   home_ownership             35365 non-null  object        \n",
      " 8   annual_inc                 35365 non-null  float64       \n",
      " 9   verification_status        35365 non-null  object        \n",
      " 10  issue_d                    35365 non-null  int32         \n",
      " 11  loan_status                35365 non-null  object        \n",
      " 12  purpose                    35365 non-null  object        \n",
      " 13  dti                        35365 non-null  float64       \n",
      " 14  delinq_2yrs                35365 non-null  int64         \n",
      " 15  inq_last_6mths             35365 non-null  int64         \n",
      " 16  open_acc                   35365 non-null  int64         \n",
      " 17  revol_bal                  35365 non-null  int64         \n",
      " 18  revol_util                 35365 non-null  float64       \n",
      " 19  total_acc                  35365 non-null  int64         \n",
      " 20  pub_rec_bankruptcies       35365 non-null  float64       \n",
      " 21  fed_reserve_region         35365 non-null  object        \n",
      " 22  last_credit_pull_datetime  35365 non-null  datetime64[ns]\n",
      " 23  grade                      35365 non-null  object        \n",
      "dtypes: datetime64[ns](1), float64(6), int32(1), int64(9), object(7)\n",
      "memory usage: 6.3+ MB\n"
     ]
    }
   ],
   "source": [
    "dfl2tableau.info()"
   ]
  },
  {
   "cell_type": "code",
   "execution_count": 94,
   "id": "fb087dc7",
   "metadata": {},
   "outputs": [],
   "source": [
    "dfl2 = dfl2.drop(['last_credit_pull_datetime', 'last_credit_pull_d'], axis=1)"
   ]
  },
  {
   "cell_type": "code",
   "execution_count": 95,
   "id": "02113602",
   "metadata": {},
   "outputs": [
    {
     "name": "stdout",
     "output_type": "stream",
     "text": [
      "<class 'pandas.core.frame.DataFrame'>\n",
      "RangeIndex: 35365 entries, 0 to 35364\n",
      "Data columns (total 23 columns):\n",
      " #   Column                  Non-Null Count  Dtype  \n",
      "---  ------                  --------------  -----  \n",
      " 0   id                      35365 non-null  int64  \n",
      " 1   loan_amnt               35365 non-null  int64  \n",
      " 2   term                    35365 non-null  int64  \n",
      " 3   int_rate                35365 non-null  float64\n",
      " 4   installment             35365 non-null  float64\n",
      " 5   sub_grade               35365 non-null  int32  \n",
      " 6   emp_length              35365 non-null  int64  \n",
      " 7   home_ownership          35365 non-null  object \n",
      " 8   annual_inc              35365 non-null  float64\n",
      " 9   verification_status     35365 non-null  object \n",
      " 10  issue_d                 35365 non-null  int32  \n",
      " 11  loan_status             35365 non-null  int64  \n",
      " 12  purpose                 35365 non-null  object \n",
      " 13  dti                     35365 non-null  float64\n",
      " 14  delinq_2yrs             35365 non-null  int64  \n",
      " 15  inq_last_6mths          35365 non-null  int64  \n",
      " 16  open_acc                35365 non-null  int64  \n",
      " 17  revol_bal               35365 non-null  int64  \n",
      " 18  revol_util              35365 non-null  float64\n",
      " 19  total_acc               35365 non-null  int64  \n",
      " 20  pub_rec_bankruptcies    35365 non-null  float64\n",
      " 21  fed_reserve_region      35365 non-null  object \n",
      " 22  last_credit_pull_d_int  35365 non-null  int64  \n",
      "dtypes: float64(6), int32(2), int64(11), object(4)\n",
      "memory usage: 5.9+ MB\n"
     ]
    }
   ],
   "source": [
    "dfl2.info()"
   ]
  },
  {
   "cell_type": "code",
   "execution_count": 96,
   "id": "cec5293f",
   "metadata": {},
   "outputs": [
    {
     "data": {
      "text/plain": [
       "0    30423\n",
       "1     4942\n",
       "Name: loan_status, dtype: int64"
      ]
     },
     "execution_count": 96,
     "metadata": {},
     "output_type": "execute_result"
    }
   ],
   "source": [
    "dfl2.loan_status.value_counts()"
   ]
  },
  {
   "cell_type": "code",
   "execution_count": 97,
   "id": "bc3e07d8",
   "metadata": {},
   "outputs": [
    {
     "data": {
      "text/plain": [
       "['home_ownership', 'verification_status', 'purpose', 'fed_reserve_region']"
      ]
     },
     "execution_count": 97,
     "metadata": {},
     "output_type": "execute_result"
    }
   ],
   "source": [
    "object_cols = []\n",
    "for col in dfl2.columns:\n",
    "    if dfl2[col].dtype == 'O':\n",
    "        object_cols.append(col)\n",
    "object_cols"
   ]
  },
  {
   "cell_type": "code",
   "execution_count": 98,
   "id": "1e867ef5",
   "metadata": {},
   "outputs": [],
   "source": [
    "df_categ = dfl2.loc[:, object_cols]\n",
    "df_numeric = dfl2.drop(object_cols, axis=1)\n"
   ]
  },
  {
   "cell_type": "code",
   "execution_count": 99,
   "id": "8f79960a",
   "metadata": {},
   "outputs": [],
   "source": [
    "df_numeric = df_numeric.drop('id', axis=1)"
   ]
  },
  {
   "cell_type": "code",
   "execution_count": 100,
   "id": "8d8d6a05",
   "metadata": {},
   "outputs": [
    {
     "data": {
      "text/html": [
       "<div>\n",
       "<style scoped>\n",
       "    .dataframe tbody tr th:only-of-type {\n",
       "        vertical-align: middle;\n",
       "    }\n",
       "\n",
       "    .dataframe tbody tr th {\n",
       "        vertical-align: top;\n",
       "    }\n",
       "\n",
       "    .dataframe thead th {\n",
       "        text-align: right;\n",
       "    }\n",
       "</style>\n",
       "<table border=\"1\" class=\"dataframe\">\n",
       "  <thead>\n",
       "    <tr style=\"text-align: right;\">\n",
       "      <th></th>\n",
       "      <th>loan_amnt</th>\n",
       "      <th>term</th>\n",
       "      <th>int_rate</th>\n",
       "      <th>installment</th>\n",
       "      <th>sub_grade</th>\n",
       "      <th>emp_length</th>\n",
       "      <th>annual_inc</th>\n",
       "      <th>issue_d</th>\n",
       "      <th>loan_status</th>\n",
       "      <th>dti</th>\n",
       "      <th>delinq_2yrs</th>\n",
       "      <th>inq_last_6mths</th>\n",
       "      <th>open_acc</th>\n",
       "      <th>revol_bal</th>\n",
       "      <th>revol_util</th>\n",
       "      <th>total_acc</th>\n",
       "      <th>pub_rec_bankruptcies</th>\n",
       "      <th>last_credit_pull_d_int</th>\n",
       "    </tr>\n",
       "  </thead>\n",
       "  <tbody>\n",
       "    <tr>\n",
       "      <th>0</th>\n",
       "      <td>2500</td>\n",
       "      <td>60</td>\n",
       "      <td>15.27</td>\n",
       "      <td>59.83</td>\n",
       "      <td>27</td>\n",
       "      <td>0</td>\n",
       "      <td>30000.00</td>\n",
       "      <td>1</td>\n",
       "      <td>1</td>\n",
       "      <td>1.00</td>\n",
       "      <td>0</td>\n",
       "      <td>5</td>\n",
       "      <td>3</td>\n",
       "      <td>1687</td>\n",
       "      <td>0.09</td>\n",
       "      <td>4</td>\n",
       "      <td>0.0</td>\n",
       "      <td>201309</td>\n",
       "    </tr>\n",
       "    <tr>\n",
       "      <th>1</th>\n",
       "      <td>10000</td>\n",
       "      <td>36</td>\n",
       "      <td>13.49</td>\n",
       "      <td>339.31</td>\n",
       "      <td>21</td>\n",
       "      <td>10</td>\n",
       "      <td>49200.00</td>\n",
       "      <td>1</td>\n",
       "      <td>0</td>\n",
       "      <td>20.00</td>\n",
       "      <td>0</td>\n",
       "      <td>1</td>\n",
       "      <td>10</td>\n",
       "      <td>5598</td>\n",
       "      <td>0.21</td>\n",
       "      <td>37</td>\n",
       "      <td>0.0</td>\n",
       "      <td>201604</td>\n",
       "    </tr>\n",
       "    <tr>\n",
       "      <th>2</th>\n",
       "      <td>5000</td>\n",
       "      <td>36</td>\n",
       "      <td>7.90</td>\n",
       "      <td>156.46</td>\n",
       "      <td>7</td>\n",
       "      <td>3</td>\n",
       "      <td>36000.00</td>\n",
       "      <td>1</td>\n",
       "      <td>0</td>\n",
       "      <td>11.20</td>\n",
       "      <td>0</td>\n",
       "      <td>3</td>\n",
       "      <td>9</td>\n",
       "      <td>7963</td>\n",
       "      <td>0.28</td>\n",
       "      <td>12</td>\n",
       "      <td>0.0</td>\n",
       "      <td>201601</td>\n",
       "    </tr>\n",
       "    <tr>\n",
       "      <th>3</th>\n",
       "      <td>7000</td>\n",
       "      <td>60</td>\n",
       "      <td>15.96</td>\n",
       "      <td>170.08</td>\n",
       "      <td>29</td>\n",
       "      <td>8</td>\n",
       "      <td>47004.00</td>\n",
       "      <td>1</td>\n",
       "      <td>0</td>\n",
       "      <td>23.51</td>\n",
       "      <td>0</td>\n",
       "      <td>1</td>\n",
       "      <td>7</td>\n",
       "      <td>17726</td>\n",
       "      <td>0.86</td>\n",
       "      <td>11</td>\n",
       "      <td>0.0</td>\n",
       "      <td>201605</td>\n",
       "    </tr>\n",
       "    <tr>\n",
       "      <th>4</th>\n",
       "      <td>3000</td>\n",
       "      <td>36</td>\n",
       "      <td>18.64</td>\n",
       "      <td>109.43</td>\n",
       "      <td>41</td>\n",
       "      <td>9</td>\n",
       "      <td>48000.00</td>\n",
       "      <td>1</td>\n",
       "      <td>0</td>\n",
       "      <td>5.35</td>\n",
       "      <td>0</td>\n",
       "      <td>2</td>\n",
       "      <td>4</td>\n",
       "      <td>8221</td>\n",
       "      <td>0.88</td>\n",
       "      <td>4</td>\n",
       "      <td>0.0</td>\n",
       "      <td>201412</td>\n",
       "    </tr>\n",
       "    <tr>\n",
       "      <th>...</th>\n",
       "      <td>...</td>\n",
       "      <td>...</td>\n",
       "      <td>...</td>\n",
       "      <td>...</td>\n",
       "      <td>...</td>\n",
       "      <td>...</td>\n",
       "      <td>...</td>\n",
       "      <td>...</td>\n",
       "      <td>...</td>\n",
       "      <td>...</td>\n",
       "      <td>...</td>\n",
       "      <td>...</td>\n",
       "      <td>...</td>\n",
       "      <td>...</td>\n",
       "      <td>...</td>\n",
       "      <td>...</td>\n",
       "      <td>...</td>\n",
       "      <td>...</td>\n",
       "    </tr>\n",
       "    <tr>\n",
       "      <th>35360</th>\n",
       "      <td>7500</td>\n",
       "      <td>36</td>\n",
       "      <td>9.83</td>\n",
       "      <td>241.41</td>\n",
       "      <td>15</td>\n",
       "      <td>7</td>\n",
       "      <td>96000.00</td>\n",
       "      <td>48</td>\n",
       "      <td>0</td>\n",
       "      <td>2.69</td>\n",
       "      <td>0</td>\n",
       "      <td>0</td>\n",
       "      <td>4</td>\n",
       "      <td>1944</td>\n",
       "      <td>0.47</td>\n",
       "      <td>11</td>\n",
       "      <td>1.0</td>\n",
       "      <td>201605</td>\n",
       "    </tr>\n",
       "    <tr>\n",
       "      <th>35361</th>\n",
       "      <td>12000</td>\n",
       "      <td>36</td>\n",
       "      <td>9.01</td>\n",
       "      <td>381.66</td>\n",
       "      <td>13</td>\n",
       "      <td>6</td>\n",
       "      <td>100671.39</td>\n",
       "      <td>49</td>\n",
       "      <td>0</td>\n",
       "      <td>6.64</td>\n",
       "      <td>0</td>\n",
       "      <td>0</td>\n",
       "      <td>16</td>\n",
       "      <td>7606</td>\n",
       "      <td>0.19</td>\n",
       "      <td>39</td>\n",
       "      <td>1.0</td>\n",
       "      <td>201510</td>\n",
       "    </tr>\n",
       "    <tr>\n",
       "      <th>35362</th>\n",
       "      <td>12375</td>\n",
       "      <td>36</td>\n",
       "      <td>10.91</td>\n",
       "      <td>404.62</td>\n",
       "      <td>25</td>\n",
       "      <td>2</td>\n",
       "      <td>80000.00</td>\n",
       "      <td>49</td>\n",
       "      <td>0</td>\n",
       "      <td>9.23</td>\n",
       "      <td>0</td>\n",
       "      <td>0</td>\n",
       "      <td>4</td>\n",
       "      <td>13126</td>\n",
       "      <td>0.96</td>\n",
       "      <td>4</td>\n",
       "      <td>1.0</td>\n",
       "      <td>201405</td>\n",
       "    </tr>\n",
       "    <tr>\n",
       "      <th>35363</th>\n",
       "      <td>4800</td>\n",
       "      <td>36</td>\n",
       "      <td>10.28</td>\n",
       "      <td>155.52</td>\n",
       "      <td>21</td>\n",
       "      <td>1</td>\n",
       "      <td>35000.00</td>\n",
       "      <td>50</td>\n",
       "      <td>0</td>\n",
       "      <td>7.51</td>\n",
       "      <td>0</td>\n",
       "      <td>0</td>\n",
       "      <td>11</td>\n",
       "      <td>5836</td>\n",
       "      <td>0.69</td>\n",
       "      <td>12</td>\n",
       "      <td>1.0</td>\n",
       "      <td>200808</td>\n",
       "    </tr>\n",
       "    <tr>\n",
       "      <th>35364</th>\n",
       "      <td>9000</td>\n",
       "      <td>36</td>\n",
       "      <td>12.49</td>\n",
       "      <td>301.04</td>\n",
       "      <td>35</td>\n",
       "      <td>8</td>\n",
       "      <td>39000.00</td>\n",
       "      <td>51</td>\n",
       "      <td>1</td>\n",
       "      <td>5.08</td>\n",
       "      <td>0</td>\n",
       "      <td>3</td>\n",
       "      <td>9</td>\n",
       "      <td>26233</td>\n",
       "      <td>0.63</td>\n",
       "      <td>37</td>\n",
       "      <td>1.0</td>\n",
       "      <td>201605</td>\n",
       "    </tr>\n",
       "  </tbody>\n",
       "</table>\n",
       "<p>35365 rows × 18 columns</p>\n",
       "</div>"
      ],
      "text/plain": [
       "       loan_amnt  term  int_rate  installment  sub_grade  emp_length  \\\n",
       "0           2500    60     15.27        59.83         27           0   \n",
       "1          10000    36     13.49       339.31         21          10   \n",
       "2           5000    36      7.90       156.46          7           3   \n",
       "3           7000    60     15.96       170.08         29           8   \n",
       "4           3000    36     18.64       109.43         41           9   \n",
       "...          ...   ...       ...          ...        ...         ...   \n",
       "35360       7500    36      9.83       241.41         15           7   \n",
       "35361      12000    36      9.01       381.66         13           6   \n",
       "35362      12375    36     10.91       404.62         25           2   \n",
       "35363       4800    36     10.28       155.52         21           1   \n",
       "35364       9000    36     12.49       301.04         35           8   \n",
       "\n",
       "       annual_inc  issue_d  loan_status    dti  delinq_2yrs  inq_last_6mths  \\\n",
       "0        30000.00        1            1   1.00            0               5   \n",
       "1        49200.00        1            0  20.00            0               1   \n",
       "2        36000.00        1            0  11.20            0               3   \n",
       "3        47004.00        1            0  23.51            0               1   \n",
       "4        48000.00        1            0   5.35            0               2   \n",
       "...           ...      ...          ...    ...          ...             ...   \n",
       "35360    96000.00       48            0   2.69            0               0   \n",
       "35361   100671.39       49            0   6.64            0               0   \n",
       "35362    80000.00       49            0   9.23            0               0   \n",
       "35363    35000.00       50            0   7.51            0               0   \n",
       "35364    39000.00       51            1   5.08            0               3   \n",
       "\n",
       "       open_acc  revol_bal  revol_util  total_acc  pub_rec_bankruptcies  \\\n",
       "0             3       1687        0.09          4                   0.0   \n",
       "1            10       5598        0.21         37                   0.0   \n",
       "2             9       7963        0.28         12                   0.0   \n",
       "3             7      17726        0.86         11                   0.0   \n",
       "4             4       8221        0.88          4                   0.0   \n",
       "...         ...        ...         ...        ...                   ...   \n",
       "35360         4       1944        0.47         11                   1.0   \n",
       "35361        16       7606        0.19         39                   1.0   \n",
       "35362         4      13126        0.96          4                   1.0   \n",
       "35363        11       5836        0.69         12                   1.0   \n",
       "35364         9      26233        0.63         37                   1.0   \n",
       "\n",
       "       last_credit_pull_d_int  \n",
       "0                      201309  \n",
       "1                      201604  \n",
       "2                      201601  \n",
       "3                      201605  \n",
       "4                      201412  \n",
       "...                       ...  \n",
       "35360                  201605  \n",
       "35361                  201510  \n",
       "35362                  201405  \n",
       "35363                  200808  \n",
       "35364                  201605  \n",
       "\n",
       "[35365 rows x 18 columns]"
      ]
     },
     "execution_count": 100,
     "metadata": {},
     "output_type": "execute_result"
    }
   ],
   "source": [
    "df_numeric"
   ]
  },
  {
   "cell_type": "code",
   "execution_count": 101,
   "id": "abe928a3",
   "metadata": {},
   "outputs": [],
   "source": [
    "df_categ_one_hot = pd.get_dummies(df_categ)"
   ]
  },
  {
   "cell_type": "code",
   "execution_count": 102,
   "id": "db620460",
   "metadata": {},
   "outputs": [],
   "source": [
    "df_final = pd.concat([df_numeric, df_categ_one_hot], axis=1)"
   ]
  },
  {
   "cell_type": "code",
   "execution_count": 158,
   "id": "b77043eb",
   "metadata": {},
   "outputs": [],
   "source": [
    "df_final.to_csv('loan_data/ml_read_loan_data.csv', index=False)"
   ]
  },
  {
   "cell_type": "code",
   "execution_count": 103,
   "id": "98bf1cfa",
   "metadata": {},
   "outputs": [
    {
     "data": {
      "text/plain": [
       "50"
      ]
     },
     "execution_count": 103,
     "metadata": {},
     "output_type": "execute_result"
    }
   ],
   "source": [
    "len(df_final.columns)"
   ]
  },
  {
   "cell_type": "code",
   "execution_count": 104,
   "id": "c5ed3adf",
   "metadata": {},
   "outputs": [],
   "source": [
    "# Data Science Libs\n",
    "import matplotlib.pyplot as plt\n",
    "import numpy as np\n",
    "import pandas as pd\n",
    "import seaborn as sns\n",
    "\n",
    "# model preprocessing & metrics\n",
    "from sklearn.model_selection import train_test_split\n",
    "from sklearn.preprocessing import StandardScaler, MinMaxScaler\n",
    "from sklearn.metrics import confusion_matrix, classification_report, roc_curve, auc\n",
    "\n",
    "# algorithm\n",
    "from sklearn.linear_model import LogisticRegression\n",
    "from sklearn.neighbors import KNeighborsClassifier\n",
    "from sklearn.tree import DecisionTreeClassifier\n",
    "from sklearn.ensemble import RandomForestClassifier\n",
    "from sklearn.ensemble import AdaBoostClassifier\n",
    "from xgboost import XGBClassifier\n",
    "from lightgbm import LGBMClassifier"
   ]
  },
  {
   "cell_type": "code",
   "execution_count": 105,
   "id": "ecdb8503",
   "metadata": {},
   "outputs": [],
   "source": [
    "def evaluateModel(model, X_train, X_test, y_train, y_test):\n",
    "    model.fit(X_train, y_train) # fit\n",
    "    \n",
    "    train_preds = model.predict(X_train) # predict\n",
    "    test_preds = model.predict(X_test)\n",
    "    test_proba = model.predict_proba(X_test)\n",
    "    \n",
    "    output_train = f\"\"\"\n",
    "    METRICS FOR THE TRAINING SET:\n",
    "    ----------------------------\n",
    "    {confusion_matrix(y_train, train_preds)}\n",
    "\n",
    "    {classification_report(y_train, train_preds)}\n",
    "    \"\"\"\n",
    "    print(output_train)\n",
    "\n",
    "    #################################################\n",
    "\n",
    "    output_test = f\"\"\"\n",
    "    METRICS FOR THE TESTING SET:\n",
    "    ----------------------------\n",
    "    {confusion_matrix(y_test, test_preds)}\n",
    "\n",
    "    {classification_report(y_test, test_preds)}\n",
    "    \"\"\"\n",
    "    print(output_test)\n",
    "    print()\n",
    "    \n",
    "    #################################################\n",
    "    \n",
    "    fpr_knn, tpr_knn, thresholds_knn = roc_curve(y_test, test_proba[:,1])\n",
    "\n",
    "    roc_auc_knn = auc(fpr_knn, tpr_knn)\n",
    "    print(f\"AUC for the Model Test Set: {roc_auc_knn}\")\n",
    "\n",
    "    # make plot\n",
    "    plt.figure(figsize=(10,6))\n",
    "    plt.plot(fpr_knn, tpr_knn, color='darkorange')\n",
    "    plt.plot([0, 1], [0, 1], color='navy', linestyle='--')\n",
    "    plt.xlim([0.0, 1.0])\n",
    "    plt.ylim([0.0, 1.05])\n",
    "    plt.xlabel('False Positive Rate')\n",
    "    plt.ylabel('True Positive Rate')\n",
    "    plt.title('ROC Curve')\n",
    "    plt.show()\n",
    "    \n",
    "    print(\"Brier Score:\")\n",
    "    print(sum((y_test - test_proba[:,1])**2))"
   ]
  },
  {
   "cell_type": "code",
   "execution_count": 106,
   "id": "1b26abb5",
   "metadata": {},
   "outputs": [],
   "source": [
    "from sklearn.model_selection import train_test_split\n",
    "\n",
    "X = df_final.drop('loan_status', axis=1)\n",
    "y = df_final.loc[:, [\"loan_status\"]].values.ravel()"
   ]
  },
  {
   "cell_type": "code",
   "execution_count": 107,
   "id": "552e2fb8",
   "metadata": {},
   "outputs": [],
   "source": [
    "from imblearn.over_sampling import SMOTE\n",
    "seed = 100\n",
    "k = 3\n",
    "\n",
    "sm = SMOTE(sampling_strategy='auto', k_neighbors=k, random_state=seed)\n",
    "X_smote, y_smote = sm.fit_resample(X, y)"
   ]
  },
  {
   "cell_type": "code",
   "execution_count": 108,
   "id": "a7adbf2f",
   "metadata": {},
   "outputs": [
    {
     "name": "stdout",
     "output_type": "stream",
     "text": [
      "0.75 : 0.25\n"
     ]
    }
   ],
   "source": [
    "# Split the preprocessed data into a training and testing dataset\n",
    "#  YOUR CODE GOES HERE\n",
    "\n",
    "X_train, X_test, y_train, y_test = train_test_split(X_smote, y_smote, test_size=.25, random_state=22) # use stratify for classification models\n",
    "print(f\"{round(len(X_train)/len(X_smote), 3)} : {round(len(X_test)/len(X_smote), 3)}\")"
   ]
  },
  {
   "cell_type": "code",
   "execution_count": 109,
   "id": "6ed483fc",
   "metadata": {},
   "outputs": [
    {
     "name": "stdout",
     "output_type": "stream",
     "text": [
      "\n",
      "    METRICS FOR THE TRAINING SET:\n",
      "    ----------------------------\n",
      "    [[30423     0]\n",
      " [    1 30422]]\n",
      "\n",
      "                  precision    recall  f1-score   support\n",
      "\n",
      "           0       1.00      1.00      1.00     30423\n",
      "           1       1.00      1.00      1.00     30423\n",
      "\n",
      "    accuracy                           1.00     60846\n",
      "   macro avg       1.00      1.00      1.00     60846\n",
      "weighted avg       1.00      1.00      1.00     60846\n",
      "\n",
      "    \n",
      "\n",
      "    METRICS FOR THE TESTING SET:\n",
      "    ----------------------------\n",
      "    [[7621    0]\n",
      " [   0 7591]]\n",
      "\n",
      "                  precision    recall  f1-score   support\n",
      "\n",
      "           0       1.00      1.00      1.00      7621\n",
      "           1       1.00      1.00      1.00      7591\n",
      "\n",
      "    accuracy                           1.00     15212\n",
      "   macro avg       1.00      1.00      1.00     15212\n",
      "weighted avg       1.00      1.00      1.00     15212\n",
      "\n",
      "    \n",
      "\n",
      "AUC for the Model Test Set: 1.0\n"
     ]
    },
    {
     "data": {
      "image/png": "[encoded data removed]",
      "text/plain": [
       "<Figure size 720x432 with 1 Axes>"
      ]
     },
     "metadata": {
      "needs_background": "light"
     },
     "output_type": "display_data"
    },
    {
     "name": "stdout",
     "output_type": "stream",
     "text": [
      "Brier Score:\n",
      "138.6112000000062\n"
     ]
    }
   ],
   "source": [
    "rf = RandomForestClassifier(random_state=42, n_estimators=100)\n",
    "evaluateModel(rf, X_smote, X_test, y_smote, y_test)"
   ]
  },
  {
   "cell_type": "code",
   "execution_count": 136,
   "id": "034392d8",
   "metadata": {},
   "outputs": [
    {
     "data": {
      "text/plain": [
       "0                           (0.11057980727851481, term)\n",
       "1                       (0.06764231458233043, int_rate)\n",
       "2          (0.0474010012311593, last_credit_pull_d_int)\n",
       "3                      (0.04554884183480788, sub_grade)\n",
       "4                     (0.03868523631836471, annual_inc)\n",
       "5     (0.03863065557261305, verification_status_Not ...\n",
       "6     (0.036904739801541554, verification_status_Ver...\n",
       "7                     (0.03538776301786393, revol_util)\n",
       "8     (0.03515278402149406, verification_status_Sour...\n",
       "9           (0.033679409489846435, home_ownership_RENT)\n",
       "10                    (0.032921954753445955, revol_bal)\n",
       "11                   (0.03228961508400644, installment)\n",
       "12       (0.03130300948967319, home_ownership_MORTGAGE)\n",
       "13                           (0.03028994054006221, dti)\n",
       "14                    (0.029760346553520178, loan_amnt)\n",
       "15                      (0.029347691480211043, issue_d)\n",
       "16          (0.025500762757303855, purpose_credit_card)\n",
       "17                    (0.024723092461648194, total_acc)\n",
       "18                    (0.02303177452511139, emp_length)\n",
       "19    (0.02270044881378352, purpose_debt_consolidation)\n",
       "20                       (0.0207654725395253, open_acc)\n",
       "21         (0.01830278528117273, fed_reserve_region_12)\n",
       "22           (0.017621847444284435, home_ownership_OWN)\n",
       "23         (0.015570422831148931, fed_reserve_region_2)\n",
       "24         (0.015155205213763996, fed_reserve_region_5)\n",
       "25        (0.012719081200127129, fed_reserve_region_11)\n",
       "26          (0.01197666292445362, fed_reserve_region_6)\n",
       "27               (0.011537320224906018, inq_last_6mths)\n",
       "28         (0.011465814512104792, fed_reserve_region_3)\n",
       "29                (0.010523029711812333, purpose_other)\n",
       "30     (0.010451921471856584, purpose_home_improvement)\n",
       "31         (0.009031591778214741, fed_reserve_region_1)\n",
       "32         (0.008689470573077956, fed_reserve_region_7)\n",
       "33       (0.008092326908365562, purpose_major_purchase)\n",
       "34         (0.007610413959255492, pub_rec_bankruptcies)\n",
       "35                  (0.005582616250217482, purpose_car)\n",
       "36        (0.004885883239442341, fed_reserve_region_10)\n",
       "37                   (0.00469983157717185, delinq_2yrs)\n",
       "38              (0.004058673087006416, purpose_wedding)\n",
       "39         (0.003812807224643276, fed_reserve_region_4)\n",
       "40       (0.003423847038595438, purpose_small_business)\n",
       "41        (0.0029988083245636676, fed_reserve_region_8)\n",
       "42         (0.002171047205106652, fed_reserve_region_9)\n",
       "43             (0.0019126547845209133, purpose_medical)\n",
       "44              (0.0018349250113651547, purpose_moving)\n",
       "45         (0.0010729752390770978, purpose_educational)\n",
       "46                (0.001054115526157242, purpose_house)\n",
       "47            (0.0008773956737469954, purpose_vacation)\n",
       "48        (0.0006198636370136493, home_ownership_OTHER)\n",
       "dtype: object"
      ]
     },
     "execution_count": 136,
     "metadata": {},
     "output_type": "execute_result"
    }
   ],
   "source": [
    "features = df_final.drop('loan_status', axis=1)\n",
    "pd.Series(list(zip(rf.feature_importances_, features))).sort_values(ascending=False).reset_index(drop=True)"
   ]
  },
  {
   "cell_type": "code",
   "execution_count": 130,
   "id": "5e6de03c",
   "metadata": {},
   "outputs": [
    {
     "name": "stdout",
     "output_type": "stream",
     "text": [
      "\n",
      "    METRICS FOR THE TRAINING SET:\n",
      "    ----------------------------\n",
      "    [[30043   380]\n",
      " [ 4091 26332]]\n",
      "\n",
      "                  precision    recall  f1-score   support\n",
      "\n",
      "           0       0.88      0.99      0.93     30423\n",
      "           1       0.99      0.87      0.92     30423\n",
      "\n",
      "    accuracy                           0.93     60846\n",
      "   macro avg       0.93      0.93      0.93     60846\n",
      "weighted avg       0.93      0.93      0.93     60846\n",
      "\n",
      "    \n",
      "\n",
      "    METRICS FOR THE TESTING SET:\n",
      "    ----------------------------\n",
      "    [[7517  104]\n",
      " [ 992 6599]]\n",
      "\n",
      "                  precision    recall  f1-score   support\n",
      "\n",
      "           0       0.88      0.99      0.93      7621\n",
      "           1       0.98      0.87      0.92      7591\n",
      "\n",
      "    accuracy                           0.93     15212\n",
      "   macro avg       0.93      0.93      0.93     15212\n",
      "weighted avg       0.93      0.93      0.93     15212\n",
      "\n",
      "    \n",
      "\n",
      "AUC for the Model Test Set: 0.9779081993917098\n"
     ]
    },
    {
     "data": {
      "image/png": "[encoded data removed]",
      "text/plain": [
       "<Figure size 720x432 with 1 Axes>"
      ]
     },
     "metadata": {
      "needs_background": "light"
     },
     "output_type": "display_data"
    },
    {
     "name": "stdout",
     "output_type": "stream",
     "text": [
      "Brier Score:\n",
      "804.0872676853163\n"
     ]
    }
   ],
   "source": [
    "lgb = LGBMClassifier(random_state=42)\n",
    "evaluateModel(lgb, X_smote, X_test, y_smote, y_test)"
   ]
  },
  {
   "cell_type": "code",
   "execution_count": 109,
   "id": "657932ad",
   "metadata": {},
   "outputs": [],
   "source": [
    "import tensorflow as tf"
   ]
  },
  {
   "cell_type": "code",
   "execution_count": 131,
   "id": "7bb37d6e",
   "metadata": {},
   "outputs": [
    {
     "data": {
      "text/plain": [
       "0    30423\n",
       "1    30423\n",
       "dtype: int64"
      ]
     },
     "execution_count": 131,
     "metadata": {},
     "output_type": "execute_result"
    }
   ],
   "source": [
    "pd.DataFrame(y_smote).value_counts()"
   ]
  },
  {
   "cell_type": "code",
   "execution_count": 132,
   "id": "c3f5974d",
   "metadata": {},
   "outputs": [
    {
     "name": "stdout",
     "output_type": "stream",
     "text": [
      "Model: \"sequential_3\"\n",
      "_________________________________________________________________\n",
      " Layer (type)                Output Shape              Param #   \n",
      "=================================================================\n",
      " dense_9 (Dense)             (None, 6)                 300       \n",
      "                                                                 \n",
      " dense_10 (Dense)            (None, 4)                 28        \n",
      "                                                                 \n",
      " dense_11 (Dense)            (None, 1)                 5         \n",
      "                                                                 \n",
      "=================================================================\n",
      "Total params: 333\n",
      "Trainable params: 333\n",
      "Non-trainable params: 0\n",
      "_________________________________________________________________\n"
     ]
    }
   ],
   "source": [
    "# Define the model - deep neural net, i.e., the number of input features and hidden nodes for each layer.\n",
    "#  YOUR CODE GOES HERE\n",
    "\n",
    "nn2 = tf.keras.models.Sequential()\n",
    "\n",
    "# First hidden layer\n",
    "#  YOUR CODE GOES HERE\n",
    "\n",
    "nn2.add(tf.keras.layers.Dense(units=6, activation=\"relu\", input_shape=[49]))\n",
    "\n",
    "# Second hidden layer\n",
    "#  YOUR CODE GOES HERE\n",
    "\n",
    "nn2.add(tf.keras.layers.Dense(units=4, activation=\"relu\"))\n",
    "\n",
    "\n",
    "# Output layer\n",
    "#  YOUR CODE GOES HERE\n",
    "\n",
    "nn2.add(tf.keras.layers.Dense(units=1, activation=\"sigmoid\"))\n",
    "\n",
    "# Check the structure of the model\n",
    "nn2.summary()"
   ]
  },
  {
   "cell_type": "code",
   "execution_count": 133,
   "id": "2e07a20b",
   "metadata": {},
   "outputs": [
    {
     "name": "stdout",
     "output_type": "stream",
     "text": [
      "Epoch 1/30\n",
      "23/23 [==============================] - 3s 9ms/step - loss: 3418.1458 - accuracy: 0.4943\n",
      "Epoch 2/30\n",
      "23/23 [==============================] - 0s 9ms/step - loss: 13.1638 - accuracy: 0.5127\n",
      "Epoch 3/30\n",
      "23/23 [==============================] - 0s 6ms/step - loss: 7.8034 - accuracy: 0.5017\n",
      "Epoch 4/30\n",
      "23/23 [==============================] - 0s 8ms/step - loss: 3.3481 - accuracy: 0.5036\n",
      "Epoch 5/30\n",
      "23/23 [==============================] - 0s 6ms/step - loss: 1.6941 - accuracy: 0.5358\n",
      "Epoch 6/30\n",
      "23/23 [==============================] - 0s 7ms/step - loss: 0.8452 - accuracy: 0.5181\n",
      "Epoch 7/30\n",
      "23/23 [==============================] - 0s 7ms/step - loss: 0.7351 - accuracy: 0.5003\n",
      "Epoch 8/30\n",
      "23/23 [==============================] - 0s 7ms/step - loss: 0.7145 - accuracy: 0.5003\n",
      "Epoch 9/30\n",
      "23/23 [==============================] - 0s 7ms/step - loss: 0.7069 - accuracy: 0.5003\n",
      "Epoch 10/30\n",
      "23/23 [==============================] - 0s 9ms/step - loss: 0.7039 - accuracy: 0.5003\n",
      "Epoch 11/30\n",
      "23/23 [==============================] - 0s 7ms/step - loss: 0.7020 - accuracy: 0.5003\n",
      "Epoch 12/30\n",
      "23/23 [==============================] - 0s 7ms/step - loss: 0.7003 - accuracy: 0.5003\n",
      "Epoch 13/30\n",
      "23/23 [==============================] - 0s 6ms/step - loss: 0.6989 - accuracy: 0.5003\n",
      "Epoch 14/30\n",
      "23/23 [==============================] - 0s 7ms/step - loss: 0.6967 - accuracy: 0.4998\n",
      "Epoch 15/30\n",
      "23/23 [==============================] - 0s 9ms/step - loss: 0.6954 - accuracy: 0.4997\n",
      "Epoch 16/30\n",
      "23/23 [==============================] - 0s 9ms/step - loss: 0.6949 - accuracy: 0.4939\n",
      "Epoch 17/30\n",
      "23/23 [==============================] - 0s 8ms/step - loss: 0.6949 - accuracy: 0.4960\n",
      "Epoch 18/30\n",
      "23/23 [==============================] - 0s 7ms/step - loss: 0.6947 - accuracy: 0.4997\n",
      "Epoch 19/30\n",
      "23/23 [==============================] - 0s 7ms/step - loss: 0.6945 - accuracy: 0.4940\n",
      "Epoch 20/30\n",
      "23/23 [==============================] - 0s 7ms/step - loss: 0.6944 - accuracy: 0.5005\n",
      "Epoch 21/30\n",
      "23/23 [==============================] - 0s 9ms/step - loss: 0.6942 - accuracy: 0.4990\n",
      "Epoch 22/30\n",
      "23/23 [==============================] - 0s 7ms/step - loss: 0.6941 - accuracy: 0.5003\n",
      "Epoch 23/30\n",
      "23/23 [==============================] - 0s 8ms/step - loss: 0.6940 - accuracy: 0.5003\n",
      "Epoch 24/30\n",
      "23/23 [==============================] - 0s 7ms/step - loss: 0.6938 - accuracy: 0.5003\n",
      "Epoch 25/30\n",
      "23/23 [==============================] - 0s 7ms/step - loss: 0.6936 - accuracy: 0.4987\n",
      "Epoch 26/30\n",
      "23/23 [==============================] - 0s 7ms/step - loss: 0.6935 - accuracy: 0.4941\n",
      "Epoch 27/30\n",
      "23/23 [==============================] - 0s 9ms/step - loss: 0.6933 - accuracy: 0.5003\n",
      "Epoch 28/30\n",
      "23/23 [==============================] - 0s 8ms/step - loss: 0.6931 - accuracy: 0.5003\n",
      "Epoch 29/30\n",
      "23/23 [==============================] - 0s 7ms/step - loss: 0.6931 - accuracy: 0.4985\n",
      "Epoch 30/30\n",
      "23/23 [==============================] - 0s 7ms/step - loss: 0.6931 - accuracy: 0.4991\n"
     ]
    }
   ],
   "source": [
    "opt = tf.keras.optimizers.Adam(learning_rate=0.02)\n",
    "nn2.compile(loss=\"binary_crossentropy\", optimizer=opt, metrics=[\"accuracy\"])\n",
    "fit_model2 = nn2.fit(X_train, y_train, epochs=30, batch_size = 2048)"
   ]
  },
  {
   "cell_type": "code",
   "execution_count": 134,
   "id": "a0e031e4",
   "metadata": {},
   "outputs": [
    {
     "name": "stdout",
     "output_type": "stream",
     "text": [
      "476/476 - 2s - loss: 0.6931 - accuracy: 0.4990 - 2s/epoch - 4ms/step\n",
      "Loss: 0.6931465864181519, Accuracy: 0.4990139305591583\n"
     ]
    }
   ],
   "source": [
    "model_loss, model_accuracy = nn2.evaluate(X_test,y_test,verbose=2)\n",
    "print(f\"Loss: {model_loss}, Accuracy: {model_accuracy}\")"
   ]
  },
  {
   "cell_type": "code",
   "execution_count": 121,
   "id": "c03af6cc",
   "metadata": {},
   "outputs": [
    {
     "name": "stdout",
     "output_type": "stream",
     "text": [
      "222/222 - 1s - loss: 22.1972 - accuracy: 0.8585 - 507ms/epoch - 2ms/step\n",
      "Loss: 22.197221755981445, Accuracy: 0.858475923538208\n",
      "222/222 [==============================] - 1s 2ms/step\n"
     ]
    },
    {
     "name": "stderr",
     "output_type": "stream",
     "text": [
      "C:\\Users\\sajid\\anaconda3\\lib\\site-packages\\sklearn\\metrics\\_classification.py:1318: UndefinedMetricWarning: Precision and F-score are ill-defined and being set to 0.0 in labels with no predicted samples. Use `zero_division` parameter to control this behavior.\n",
      "  _warn_prf(average, modifier, msg_start, len(result))\n",
      "C:\\Users\\sajid\\anaconda3\\lib\\site-packages\\sklearn\\metrics\\_classification.py:1318: UndefinedMetricWarning: Precision and F-score are ill-defined and being set to 0.0 in labels with no predicted samples. Use `zero_division` parameter to control this behavior.\n",
      "  _warn_prf(average, modifier, msg_start, len(result))\n",
      "C:\\Users\\sajid\\anaconda3\\lib\\site-packages\\sklearn\\metrics\\_classification.py:1318: UndefinedMetricWarning: Precision and F-score are ill-defined and being set to 0.0 in labels with no predicted samples. Use `zero_division` parameter to control this behavior.\n",
      "  _warn_prf(average, modifier, msg_start, len(result))\n"
     ]
    },
    {
     "name": "stdout",
     "output_type": "stream",
     "text": [
      "\n",
      "METRICS FOR THE TESTING SET:\n",
      "----------------------------\n",
      "[[6072    0]\n",
      " [1001    0]]\n",
      "\n",
      "              precision    recall  f1-score   support\n",
      "\n",
      "           0       0.86      1.00      0.92      6072\n",
      "           1       0.00      0.00      0.00      1001\n",
      "\n",
      "    accuracy                           0.86      7073\n",
      "   macro avg       0.43      0.50      0.46      7073\n",
      "weighted avg       0.74      0.86      0.79      7073\n",
      "\n",
      "\n",
      "\n",
      "AUC for the Model Test Set: 0.5041735273948712\n"
     ]
    },
    {
     "data": {
      "image/png": "[encoded data removed]",
      "text/plain": [
       "<Figure size 720x432 with 1 Axes>"
      ]
     },
     "metadata": {
      "needs_background": "light"
     },
     "output_type": "display_data"
    },
    {
     "name": "stdout",
     "output_type": "stream",
     "text": [
      "Brier Score:\n",
      "1001.0\n"
     ]
    }
   ],
   "source": [
    "model_loss, model_accuracy = nn2.evaluate(X_test,y_test,verbose=2)\n",
    "print(f\"Loss: {model_loss}, Accuracy: {model_accuracy}\")\n",
    "\n",
    "test_proba = [x[0] for x in nn2.predict(X_test)]\n",
    "test_preds = [round(x) for x in test_proba]\n",
    "#test_preds_nn2 = test_preds.copy()\n",
    "#test_proba = nn2.predict_proba(X_test)\n",
    "\n",
    "output_test = f\"\"\"\n",
    "METRICS FOR THE TESTING SET:\n",
    "----------------------------\n",
    "{confusion_matrix(y_test, test_preds)}\n",
    "\n",
    "{classification_report(y_test, test_preds)}\n",
    "\"\"\"\n",
    "print(output_test)\n",
    "print()\n",
    "# print(test_preds)\n",
    "\n",
    "#################################################\n",
    "\n",
    "fpr_knn, tpr_knn, thresholds_knn = roc_curve(y_test, test_proba)\n",
    "\n",
    "roc_auc_knn = auc(fpr_knn, tpr_knn)\n",
    "print(f\"AUC for the Model Test Set: {roc_auc_knn}\")\n",
    "\n",
    "# make plot\n",
    "plt.figure(figsize=(10,6))\n",
    "plt.plot(fpr_knn, tpr_knn, color='darkorange')\n",
    "plt.plot([0, 1], [0, 1], color='navy', linestyle='--')\n",
    "plt.xlim([0.0, 1.0])\n",
    "plt.ylim([0.0, 1.05])\n",
    "plt.xlabel('False Positive Rate')\n",
    "plt.ylabel('True Positive Rate')\n",
    "plt.title('ROC Curve')\n",
    "plt.show()\n",
    "\n",
    "print(\"Brier Score:\")\n",
    "print(sum((y_test - test_proba)**2))"
   ]
  },
  {
   "cell_type": "code",
   "execution_count": 122,
   "id": "351b01e0",
   "metadata": {},
   "outputs": [
    {
     "name": "stdout",
     "output_type": "stream",
     "text": [
      "Epoch 1/30\n",
      "24/24 [==============================] - 2s 5ms/step - loss: 319.7632 - accuracy: 0.4992\n",
      "Epoch 2/30\n",
      "24/24 [==============================] - 0s 6ms/step - loss: 23.3710 - accuracy: 0.5200\n",
      "Epoch 3/30\n",
      "24/24 [==============================] - 0s 8ms/step - loss: 3.3081 - accuracy: 0.5222\n",
      "Epoch 4/30\n",
      "24/24 [==============================] - 0s 8ms/step - loss: 0.9743 - accuracy: 0.4960\n",
      "Epoch 5/30\n",
      "24/24 [==============================] - 0s 5ms/step - loss: 0.7865 - accuracy: 0.5006\n",
      "Epoch 6/30\n",
      "24/24 [==============================] - 0s 6ms/step - loss: 0.7198 - accuracy: 0.5036\n",
      "Epoch 7/30\n",
      "24/24 [==============================] - 0s 6ms/step - loss: 0.7065 - accuracy: 0.5253\n",
      "Epoch 8/30\n",
      "24/24 [==============================] - 0s 5ms/step - loss: 0.6887 - accuracy: 0.5433\n",
      "Epoch 9/30\n",
      "24/24 [==============================] - 0s 7ms/step - loss: 0.6899 - accuracy: 0.5392\n",
      "Epoch 10/30\n",
      "24/24 [==============================] - 0s 5ms/step - loss: 0.6918 - accuracy: 0.5397\n",
      "Epoch 11/30\n",
      "24/24 [==============================] - 0s 6ms/step - loss: 0.7038 - accuracy: 0.5264\n",
      "Epoch 12/30\n",
      "24/24 [==============================] - 0s 6ms/step - loss: 0.6922 - accuracy: 0.5408\n",
      "Epoch 13/30\n",
      "24/24 [==============================] - 0s 6ms/step - loss: 0.6892 - accuracy: 0.5415\n",
      "Epoch 14/30\n",
      "24/24 [==============================] - 0s 5ms/step - loss: 0.7010 - accuracy: 0.5400\n",
      "Epoch 15/30\n",
      "24/24 [==============================] - 0s 5ms/step - loss: 0.7392 - accuracy: 0.5282\n",
      "Epoch 16/30\n",
      "24/24 [==============================] - 0s 6ms/step - loss: 0.7249 - accuracy: 0.5304\n",
      "Epoch 17/30\n",
      "24/24 [==============================] - 0s 7ms/step - loss: 0.7365 - accuracy: 0.5357\n",
      "Epoch 18/30\n",
      "24/24 [==============================] - 0s 6ms/step - loss: 0.7106 - accuracy: 0.5329\n",
      "Epoch 19/30\n",
      "24/24 [==============================] - 0s 8ms/step - loss: 0.7054 - accuracy: 0.5365\n",
      "Epoch 20/30\n",
      "24/24 [==============================] - 0s 6ms/step - loss: 0.6868 - accuracy: 0.5515\n",
      "Epoch 21/30\n",
      "24/24 [==============================] - 0s 6ms/step - loss: 0.7081 - accuracy: 0.5367\n",
      "Epoch 22/30\n",
      "24/24 [==============================] - 0s 6ms/step - loss: 0.6976 - accuracy: 0.5429\n",
      "Epoch 23/30\n",
      "24/24 [==============================] - 0s 7ms/step - loss: 0.6922 - accuracy: 0.5532\n",
      "Epoch 24/30\n",
      "24/24 [==============================] - 0s 6ms/step - loss: 0.6783 - accuracy: 0.5742\n",
      "Epoch 25/30\n",
      "24/24 [==============================] - 0s 5ms/step - loss: 0.6913 - accuracy: 0.5638\n",
      "Epoch 26/30\n",
      "24/24 [==============================] - 0s 6ms/step - loss: 0.7336 - accuracy: 0.5369\n",
      "Epoch 27/30\n",
      "24/24 [==============================] - 0s 5ms/step - loss: 0.7044 - accuracy: 0.5322\n",
      "Epoch 28/30\n",
      "24/24 [==============================] - 0s 6ms/step - loss: 0.6921 - accuracy: 0.5407\n",
      "Epoch 29/30\n",
      "24/24 [==============================] - 0s 5ms/step - loss: 0.6874 - accuracy: 0.5481\n",
      "Epoch 30/30\n",
      "24/24 [==============================] - 0s 7ms/step - loss: 0.6856 - accuracy: 0.5498\n"
     ]
    }
   ],
   "source": [
    "opt = tf.keras.optimizers.Adam(learning_rate=0.02)\n",
    "nn2.compile(loss=\"binary_crossentropy\", optimizer=opt, metrics=[\"accuracy\"])\n",
    "fit_model2_smote = nn2.fit(X_train_smote, y_train_smote, epochs=30, batch_size = 2048)"
   ]
  },
  {
   "cell_type": "code",
   "execution_count": 123,
   "id": "6f76fc7e",
   "metadata": {},
   "outputs": [
    {
     "name": "stdout",
     "output_type": "stream",
     "text": [
      "222/222 - 1s - loss: 0.6997 - accuracy: 0.4864 - 805ms/epoch - 4ms/step\n",
      "Loss: 0.6996572017669678, Accuracy: 0.48635655641555786\n",
      "222/222 [==============================] - 1s 2ms/step\n",
      "\n",
      "METRICS FOR THE TESTING SET:\n",
      "----------------------------\n",
      "[[2746 3326]\n",
      " [ 307  694]]\n",
      "\n",
      "              precision    recall  f1-score   support\n",
      "\n",
      "           0       0.90      0.45      0.60      6072\n",
      "           1       0.17      0.69      0.28      1001\n",
      "\n",
      "    accuracy                           0.49      7073\n",
      "   macro avg       0.54      0.57      0.44      7073\n",
      "weighted avg       0.80      0.49      0.56      7073\n",
      "\n",
      "\n",
      "\n",
      "AUC for the Model Test Set: 0.6044112343519458\n"
     ]
    },
    {
     "data": {
      "image/png": "[encoded data removed]",
      "text/plain": [
       "<Figure size 720x432 with 1 Axes>"
      ]
     },
     "metadata": {
      "needs_background": "light"
     },
     "output_type": "display_data"
    },
    {
     "name": "stdout",
     "output_type": "stream",
     "text": [
      "Brier Score:\n",
      "1791.4763065226596\n"
     ]
    }
   ],
   "source": [
    "model_loss, model_accuracy = nn2.evaluate(X_test,y_test,verbose=2)\n",
    "print(f\"Loss: {model_loss}, Accuracy: {model_accuracy}\")\n",
    "\n",
    "test_proba = [x[0] for x in nn2.predict(X_test)]\n",
    "test_preds = [round(x) for x in test_proba]\n",
    "#test_preds_nn2 = test_preds.copy()\n",
    "#test_proba = nn2.predict_proba(X_test)\n",
    "\n",
    "output_test = f\"\"\"\n",
    "METRICS FOR THE TESTING SET:\n",
    "----------------------------\n",
    "{confusion_matrix(y_test, test_preds)}\n",
    "\n",
    "{classification_report(y_test, test_preds)}\n",
    "\"\"\"\n",
    "print(output_test)\n",
    "print()\n",
    "# print(test_preds)\n",
    "\n",
    "#################################################\n",
    "\n",
    "fpr_knn, tpr_knn, thresholds_knn = roc_curve(y_test, test_proba)\n",
    "\n",
    "roc_auc_knn = auc(fpr_knn, tpr_knn)\n",
    "print(f\"AUC for the Model Test Set: {roc_auc_knn}\")\n",
    "\n",
    "# make plot\n",
    "plt.figure(figsize=(10,6))\n",
    "plt.plot(fpr_knn, tpr_knn, color='darkorange')\n",
    "plt.plot([0, 1], [0, 1], color='navy', linestyle='--')\n",
    "plt.xlim([0.0, 1.0])\n",
    "plt.ylim([0.0, 1.05])\n",
    "plt.xlabel('False Positive Rate')\n",
    "plt.ylabel('True Positive Rate')\n",
    "plt.title('ROC Curve')\n",
    "plt.show()\n",
    "\n",
    "print(\"Brier Score:\")\n",
    "print(sum((y_test - test_proba)**2))"
   ]
  },
  {
   "cell_type": "code",
   "execution_count": 124,
   "id": "d0820c8c",
   "metadata": {},
   "outputs": [
    {
     "data": {
      "text/html": [
       "<div>\n",
       "<style scoped>\n",
       "    .dataframe tbody tr th:only-of-type {\n",
       "        vertical-align: middle;\n",
       "    }\n",
       "\n",
       "    .dataframe tbody tr th {\n",
       "        vertical-align: top;\n",
       "    }\n",
       "\n",
       "    .dataframe thead th {\n",
       "        text-align: right;\n",
       "    }\n",
       "</style>\n",
       "<table border=\"1\" class=\"dataframe\">\n",
       "  <thead>\n",
       "    <tr style=\"text-align: right;\">\n",
       "      <th></th>\n",
       "      <th>id</th>\n",
       "      <th>loan_amnt</th>\n",
       "      <th>term</th>\n",
       "      <th>int_rate</th>\n",
       "      <th>installment</th>\n",
       "      <th>sub_grade</th>\n",
       "      <th>emp_length</th>\n",
       "      <th>annual_inc</th>\n",
       "      <th>issue_d</th>\n",
       "      <th>dti</th>\n",
       "      <th>delinq_2yrs</th>\n",
       "      <th>inq_last_6mths</th>\n",
       "      <th>open_acc</th>\n",
       "      <th>revol_bal</th>\n",
       "      <th>revol_util</th>\n",
       "      <th>total_acc</th>\n",
       "      <th>pub_rec_bankruptcies</th>\n",
       "      <th>last_credit_pull_d_int</th>\n",
       "    </tr>\n",
       "    <tr>\n",
       "      <th>loan_status</th>\n",
       "      <th></th>\n",
       "      <th></th>\n",
       "      <th></th>\n",
       "      <th></th>\n",
       "      <th></th>\n",
       "      <th></th>\n",
       "      <th></th>\n",
       "      <th></th>\n",
       "      <th></th>\n",
       "      <th></th>\n",
       "      <th></th>\n",
       "      <th></th>\n",
       "      <th></th>\n",
       "      <th></th>\n",
       "      <th></th>\n",
       "      <th></th>\n",
       "      <th></th>\n",
       "      <th></th>\n",
       "    </tr>\n",
       "  </thead>\n",
       "  <tbody>\n",
       "    <tr>\n",
       "      <th>0</th>\n",
       "      <td>680330.609144</td>\n",
       "      <td>10945.992341</td>\n",
       "      <td>41.346218</td>\n",
       "      <td>11.667236</td>\n",
       "      <td>321.645997</td>\n",
       "      <td>19.604740</td>\n",
       "      <td>4.955626</td>\n",
       "      <td>70084.351961</td>\n",
       "      <td>13.750551</td>\n",
       "      <td>13.281170</td>\n",
       "      <td>0.143280</td>\n",
       "      <td>0.837853</td>\n",
       "      <td>9.336029</td>\n",
       "      <td>13317.321599</td>\n",
       "      <td>0.479988</td>\n",
       "      <td>22.287578</td>\n",
       "      <td>0.037965</td>\n",
       "      <td>201437.830753</td>\n",
       "    </tr>\n",
       "    <tr>\n",
       "      <th>1</th>\n",
       "      <td>709277.727843</td>\n",
       "      <td>12285.506880</td>\n",
       "      <td>46.747066</td>\n",
       "      <td>13.930376</td>\n",
       "      <td>338.814334</td>\n",
       "      <td>27.595306</td>\n",
       "      <td>5.156617</td>\n",
       "      <td>63024.144616</td>\n",
       "      <td>12.592675</td>\n",
       "      <td>14.161042</td>\n",
       "      <td>0.165115</td>\n",
       "      <td>1.045730</td>\n",
       "      <td>9.307770</td>\n",
       "      <td>13681.540065</td>\n",
       "      <td>0.561603</td>\n",
       "      <td>21.728652</td>\n",
       "      <td>0.063132</td>\n",
       "      <td>201419.482800</td>\n",
       "    </tr>\n",
       "  </tbody>\n",
       "</table>\n",
       "</div>"
      ],
      "text/plain": [
       "                        id     loan_amnt       term   int_rate  installment  \\\n",
       "loan_status                                                                   \n",
       "0            680330.609144  10945.992341  41.346218  11.667236   321.645997   \n",
       "1            709277.727843  12285.506880  46.747066  13.930376   338.814334   \n",
       "\n",
       "             sub_grade  emp_length    annual_inc    issue_d        dti  \\\n",
       "loan_status                                                              \n",
       "0            19.604740    4.955626  70084.351961  13.750551  13.281170   \n",
       "1            27.595306    5.156617  63024.144616  12.592675  14.161042   \n",
       "\n",
       "             delinq_2yrs  inq_last_6mths  open_acc     revol_bal  revol_util  \\\n",
       "loan_status                                                                    \n",
       "0               0.143280        0.837853  9.336029  13317.321599    0.479988   \n",
       "1               0.165115        1.045730  9.307770  13681.540065    0.561603   \n",
       "\n",
       "             total_acc  pub_rec_bankruptcies  last_credit_pull_d_int  \n",
       "loan_status                                                           \n",
       "0            22.287578              0.037965           201437.830753  \n",
       "1            21.728652              0.063132           201419.482800  "
      ]
     },
     "execution_count": 124,
     "metadata": {},
     "output_type": "execute_result"
    }
   ],
   "source": [
    "dfl2.groupby(\"loan_status\").mean()"
   ]
  }
 ],
 "metadata": {
  "kernelspec": {
   "display_name": "Python 3 (ipykernel)",
   "language": "python",
   "name": "python3"
  },
  "language_info": {
   "codemirror_mode": {
    "name": "ipython",
    "version": 3
   },
   "file_extension": ".py",
   "mimetype": "text/x-python",
   "name": "python",
   "nbconvert_exporter": "python",
   "pygments_lexer": "ipython3",
   "version": "3.9.12"
  }
 },
 "nbformat": 4,
 "nbformat_minor": 5
}
