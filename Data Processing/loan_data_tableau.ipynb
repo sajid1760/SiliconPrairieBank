{
 "cells": [
  {
   "cell_type": "code",
   "execution_count": 1,
   "id": "c00cb2ce",
   "metadata": {},
   "outputs": [
    {
     "data": {
      "text/html": [
       "<style>.container { width:100% !important; }</style>"
      ],
      "text/plain": [
       "<IPython.core.display.HTML object>"
      ]
     },
     "metadata": {},
     "output_type": "display_data"
    }
   ],
   "source": [
    "from IPython.display import display, HTML\n",
    "display(HTML(\"<style>.container { width:100% !important; }</style>\"))"
   ]
  },
  {
   "cell_type": "code",
   "execution_count": 2,
   "id": "81f1bc6c",
   "metadata": {},
   "outputs": [],
   "source": [
    "import pandas as pd\n",
    "import numpy as np\n",
    "import sklearn as sk"
   ]
  },
  {
   "cell_type": "code",
   "execution_count": 3,
   "id": "4ff252e5",
   "metadata": {},
   "outputs": [],
   "source": [
    "df = pd.read_csv('loan_data/loan_data_tableau.csv')"
   ]
  },
  {
   "cell_type": "code",
   "execution_count": 4,
   "id": "dd42931c",
   "metadata": {},
   "outputs": [
    {
     "data": {
      "text/html": [
       "<div>\n",
       "<style scoped>\n",
       "    .dataframe tbody tr th:only-of-type {\n",
       "        vertical-align: middle;\n",
       "    }\n",
       "\n",
       "    .dataframe tbody tr th {\n",
       "        vertical-align: top;\n",
       "    }\n",
       "\n",
       "    .dataframe thead th {\n",
       "        text-align: right;\n",
       "    }\n",
       "</style>\n",
       "<table border=\"1\" class=\"dataframe\">\n",
       "  <thead>\n",
       "    <tr style=\"text-align: right;\">\n",
       "      <th></th>\n",
       "      <th>id</th>\n",
       "      <th>loan_amnt</th>\n",
       "      <th>term</th>\n",
       "      <th>int_rate</th>\n",
       "      <th>installment</th>\n",
       "      <th>sub_grade</th>\n",
       "      <th>emp_length</th>\n",
       "      <th>home_ownership</th>\n",
       "      <th>annual_inc</th>\n",
       "      <th>verification_status</th>\n",
       "      <th>issue_d</th>\n",
       "      <th>loan_status</th>\n",
       "      <th>purpose</th>\n",
       "      <th>dti</th>\n",
       "      <th>delinq_2yrs</th>\n",
       "      <th>inq_last_6mths</th>\n",
       "      <th>open_acc</th>\n",
       "      <th>revol_bal</th>\n",
       "      <th>revol_util</th>\n",
       "      <th>total_acc</th>\n",
       "      <th>pub_rec_bankruptcies</th>\n",
       "      <th>fed_reserve_region</th>\n",
       "      <th>last_credit_pull_datetime</th>\n",
       "      <th>grade</th>\n",
       "      <th>addr_state</th>\n",
       "    </tr>\n",
       "  </thead>\n",
       "  <tbody>\n",
       "    <tr>\n",
       "      <th>0</th>\n",
       "      <td>1077430</td>\n",
       "      <td>2500</td>\n",
       "      <td>60</td>\n",
       "      <td>15.27</td>\n",
       "      <td>59.83</td>\n",
       "      <td>C4</td>\n",
       "      <td>0</td>\n",
       "      <td>RENT</td>\n",
       "      <td>30000.0</td>\n",
       "      <td>Source Verified</td>\n",
       "      <td>Dec-11</td>\n",
       "      <td>Charged Off</td>\n",
       "      <td>car</td>\n",
       "      <td>1.00</td>\n",
       "      <td>0</td>\n",
       "      <td>5</td>\n",
       "      <td>3</td>\n",
       "      <td>1687</td>\n",
       "      <td>0.09</td>\n",
       "      <td>4</td>\n",
       "      <td>0.0</td>\n",
       "      <td>6</td>\n",
       "      <td>2013-09-01</td>\n",
       "      <td>C</td>\n",
       "      <td>GA</td>\n",
       "    </tr>\n",
       "    <tr>\n",
       "      <th>1</th>\n",
       "      <td>1076863</td>\n",
       "      <td>10000</td>\n",
       "      <td>36</td>\n",
       "      <td>13.49</td>\n",
       "      <td>339.31</td>\n",
       "      <td>C1</td>\n",
       "      <td>10</td>\n",
       "      <td>RENT</td>\n",
       "      <td>49200.0</td>\n",
       "      <td>Source Verified</td>\n",
       "      <td>Dec-11</td>\n",
       "      <td>Fully Paid</td>\n",
       "      <td>other</td>\n",
       "      <td>20.00</td>\n",
       "      <td>0</td>\n",
       "      <td>1</td>\n",
       "      <td>10</td>\n",
       "      <td>5598</td>\n",
       "      <td>0.21</td>\n",
       "      <td>37</td>\n",
       "      <td>0.0</td>\n",
       "      <td>12</td>\n",
       "      <td>2016-04-01</td>\n",
       "      <td>C</td>\n",
       "      <td>CA</td>\n",
       "    </tr>\n",
       "    <tr>\n",
       "      <th>2</th>\n",
       "      <td>1075269</td>\n",
       "      <td>5000</td>\n",
       "      <td>36</td>\n",
       "      <td>7.90</td>\n",
       "      <td>156.46</td>\n",
       "      <td>A4</td>\n",
       "      <td>3</td>\n",
       "      <td>RENT</td>\n",
       "      <td>36000.0</td>\n",
       "      <td>Source Verified</td>\n",
       "      <td>Dec-11</td>\n",
       "      <td>Fully Paid</td>\n",
       "      <td>wedding</td>\n",
       "      <td>11.20</td>\n",
       "      <td>0</td>\n",
       "      <td>3</td>\n",
       "      <td>9</td>\n",
       "      <td>7963</td>\n",
       "      <td>0.28</td>\n",
       "      <td>12</td>\n",
       "      <td>0.0</td>\n",
       "      <td>12</td>\n",
       "      <td>2016-01-01</td>\n",
       "      <td>A</td>\n",
       "      <td>AZ</td>\n",
       "    </tr>\n",
       "    <tr>\n",
       "      <th>3</th>\n",
       "      <td>1069639</td>\n",
       "      <td>7000</td>\n",
       "      <td>60</td>\n",
       "      <td>15.96</td>\n",
       "      <td>170.08</td>\n",
       "      <td>C5</td>\n",
       "      <td>8</td>\n",
       "      <td>RENT</td>\n",
       "      <td>47004.0</td>\n",
       "      <td>Not Verified</td>\n",
       "      <td>Dec-11</td>\n",
       "      <td>Fully Paid</td>\n",
       "      <td>debt_consolidation</td>\n",
       "      <td>23.51</td>\n",
       "      <td>0</td>\n",
       "      <td>1</td>\n",
       "      <td>7</td>\n",
       "      <td>17726</td>\n",
       "      <td>0.86</td>\n",
       "      <td>11</td>\n",
       "      <td>0.0</td>\n",
       "      <td>5</td>\n",
       "      <td>2016-05-01</td>\n",
       "      <td>C</td>\n",
       "      <td>NC</td>\n",
       "    </tr>\n",
       "    <tr>\n",
       "      <th>4</th>\n",
       "      <td>1072053</td>\n",
       "      <td>3000</td>\n",
       "      <td>36</td>\n",
       "      <td>18.64</td>\n",
       "      <td>109.43</td>\n",
       "      <td>E1</td>\n",
       "      <td>9</td>\n",
       "      <td>RENT</td>\n",
       "      <td>48000.0</td>\n",
       "      <td>Source Verified</td>\n",
       "      <td>Dec-11</td>\n",
       "      <td>Fully Paid</td>\n",
       "      <td>car</td>\n",
       "      <td>5.35</td>\n",
       "      <td>0</td>\n",
       "      <td>2</td>\n",
       "      <td>4</td>\n",
       "      <td>8221</td>\n",
       "      <td>0.88</td>\n",
       "      <td>4</td>\n",
       "      <td>0.0</td>\n",
       "      <td>12</td>\n",
       "      <td>2014-12-01</td>\n",
       "      <td>E</td>\n",
       "      <td>CA</td>\n",
       "    </tr>\n",
       "  </tbody>\n",
       "</table>\n",
       "</div>"
      ],
      "text/plain": [
       "        id  loan_amnt  term  int_rate  installment sub_grade  emp_length  \\\n",
       "0  1077430       2500    60     15.27        59.83        C4           0   \n",
       "1  1076863      10000    36     13.49       339.31        C1          10   \n",
       "2  1075269       5000    36      7.90       156.46        A4           3   \n",
       "3  1069639       7000    60     15.96       170.08        C5           8   \n",
       "4  1072053       3000    36     18.64       109.43        E1           9   \n",
       "\n",
       "  home_ownership  annual_inc verification_status issue_d  loan_status  \\\n",
       "0           RENT     30000.0     Source Verified  Dec-11  Charged Off   \n",
       "1           RENT     49200.0     Source Verified  Dec-11   Fully Paid   \n",
       "2           RENT     36000.0     Source Verified  Dec-11   Fully Paid   \n",
       "3           RENT     47004.0        Not Verified  Dec-11   Fully Paid   \n",
       "4           RENT     48000.0     Source Verified  Dec-11   Fully Paid   \n",
       "\n",
       "              purpose    dti  delinq_2yrs  inq_last_6mths  open_acc  \\\n",
       "0                 car   1.00            0               5         3   \n",
       "1               other  20.00            0               1        10   \n",
       "2             wedding  11.20            0               3         9   \n",
       "3  debt_consolidation  23.51            0               1         7   \n",
       "4                 car   5.35            0               2         4   \n",
       "\n",
       "   revol_bal  revol_util  total_acc  pub_rec_bankruptcies  fed_reserve_region  \\\n",
       "0       1687        0.09          4                   0.0                   6   \n",
       "1       5598        0.21         37                   0.0                  12   \n",
       "2       7963        0.28         12                   0.0                  12   \n",
       "3      17726        0.86         11                   0.0                   5   \n",
       "4       8221        0.88          4                   0.0                  12   \n",
       "\n",
       "  last_credit_pull_datetime grade addr_state  \n",
       "0                2013-09-01     C         GA  \n",
       "1                2016-04-01     C         CA  \n",
       "2                2016-01-01     A         AZ  \n",
       "3                2016-05-01     C         NC  \n",
       "4                2014-12-01     E         CA  "
      ]
     },
     "execution_count": 4,
     "metadata": {},
     "output_type": "execute_result"
    }
   ],
   "source": [
    "pd.options.display.max_columns = None\n",
    "df.head(5)"
   ]
  },
  {
   "cell_type": "code",
   "execution_count": 5,
   "id": "75eb8e90",
   "metadata": {},
   "outputs": [],
   "source": [
    "df = df.drop('verification_status', axis=1)"
   ]
  },
  {
   "cell_type": "code",
   "execution_count": 36,
   "id": "04ee945c",
   "metadata": {},
   "outputs": [
    {
     "data": {
      "text/plain": [
       "Index(['Applicant Id', 'loan Amount', 'Loan Term', 'Interest Rate',\n",
       "       'Installment', 'Subgrade', 'Employment Length (Years)',\n",
       "       'Home Ownership', 'Annual Income', 'Date of Issue', 'Loan Status',\n",
       "       'Purpose', 'Debt to Income Ratio',\n",
       "       'Number of Delinquencies Over Past Two Years',\n",
       "       'Number of Credit Inquiries Past 6 Months',\n",
       "       'Number of Open Credit Lines', 'Total Credit',\n",
       "       'Ratio of Total Credit Utilized', 'Total Number of Credit Lines',\n",
       "       'Number of Recent Bankruptcies', 'Federal Reserve Region',\n",
       "       'Date of Last Credit Pull', 'Grade', 'State of Address'],\n",
       "      dtype='object')"
      ]
     },
     "execution_count": 36,
     "metadata": {},
     "output_type": "execute_result"
    }
   ],
   "source": [
    "df.columns"
   ]
  },
  {
   "cell_type": "code",
   "execution_count": 6,
   "id": "33e2b28c",
   "metadata": {},
   "outputs": [],
   "source": [
    "cols =['Applicant Id', 'loan Amount', 'Loan Term', 'Interest Rate', 'Installment', 'Subgrade',\n",
    "       'Employment Length (Years)', 'Home Ownership', 'Annual Income',\n",
    "       'Date of Issue', 'Loan Status', 'Purpose', 'Debt to Income Ratio', 'Number of Delinquencies Over Past Two Years',\n",
    "       'Number of Credit Inquiries Past 6 Months', 'Number of Open Credit Lines', 'Total Credit', 'Ratio of Total Credit Utilized', 'Total Number of Credit Lines',\n",
    "       'Number of Recent Bankruptcies', 'Federal Reserve Region',\n",
    "       'Date of Last Credit Pull', 'Grade', 'State of Address']"
   ]
  },
  {
   "cell_type": "code",
   "execution_count": 7,
   "id": "8187a892",
   "metadata": {},
   "outputs": [],
   "source": [
    "df.columns = cols"
   ]
  },
  {
   "cell_type": "code",
   "execution_count": 8,
   "id": "f713caf3",
   "metadata": {},
   "outputs": [],
   "source": [
    "month_dict = {'Jan': 1, 'Feb': 2, 'Mar': 3, 'Apr': 4, 'May': 5, 'Jun': 6, 'Jul': 7, 'Aug': 8, 'Sep': 9, 'Oct': 10, \n",
    "             'Nov': 11, 'Dec': 12}"
   ]
  },
  {
   "cell_type": "code",
   "execution_count": 9,
   "id": "b6b4a1a3",
   "metadata": {},
   "outputs": [],
   "source": [
    "issue_d_list = list(df['Date of Issue'])"
   ]
  },
  {
   "cell_type": "code",
   "execution_count": 10,
   "id": "e505111c",
   "metadata": {},
   "outputs": [],
   "source": [
    "issue_d_dict = {}\n",
    "\n",
    "sep_date = issue_d_list[0].split('-')\n",
    "month = sep_date[0]\n",
    "year = sep_date[1]\n",
    "\n",
    "issue_d_dict['year'] = ['20'+year]\n",
    "issue_d_dict['month'] = [month_dict[month]]\n",
    "\n",
    "for i in np.arange(1, len(issue_d_list)):\n",
    "    sep_date = issue_d_list[i].split('-')\n",
    "    month = sep_date[0]\n",
    "    year = sep_date[1]\n",
    "    \n",
    "    issue_d_dict['year'].append('20'+year)\n",
    "    issue_d_dict['month'].append(month_dict[month])"
   ]
  },
  {
   "cell_type": "code",
   "execution_count": 11,
   "id": "d9412b4f",
   "metadata": {},
   "outputs": [],
   "source": [
    "dfissue_dates = pd.DataFrame(issue_d_dict)\n",
    "dfissue_dates['day'] = '1'"
   ]
  },
  {
   "cell_type": "code",
   "execution_count": 12,
   "id": "ba90450b",
   "metadata": {},
   "outputs": [],
   "source": [
    "df['Date of Issue'] = pd.to_datetime(dfissue_dates)"
   ]
  },
  {
   "cell_type": "code",
   "execution_count": 13,
   "id": "9295e221",
   "metadata": {},
   "outputs": [],
   "source": [
    "df['Number of Recent Bankruptcies'] = df['Number of Recent Bankruptcies'].astype('int')"
   ]
  },
  {
   "cell_type": "code",
   "execution_count": 54,
   "id": "5afc561a",
   "metadata": {},
   "outputs": [],
   "source": [
    "df.to_csv('loan_data/loan_data_tableau_final.csv', index=False)"
   ]
  },
  {
   "cell_type": "code",
   "execution_count": 14,
   "id": "198a8ca6",
   "metadata": {},
   "outputs": [
    {
     "data": {
      "text/html": [
       "<div>\n",
       "<style scoped>\n",
       "    .dataframe tbody tr th:only-of-type {\n",
       "        vertical-align: middle;\n",
       "    }\n",
       "\n",
       "    .dataframe tbody tr th {\n",
       "        vertical-align: top;\n",
       "    }\n",
       "\n",
       "    .dataframe thead th {\n",
       "        text-align: right;\n",
       "    }\n",
       "</style>\n",
       "<table border=\"1\" class=\"dataframe\">\n",
       "  <thead>\n",
       "    <tr style=\"text-align: right;\">\n",
       "      <th></th>\n",
       "      <th>Applicant Id</th>\n",
       "      <th>loan Amount</th>\n",
       "      <th>Loan Term</th>\n",
       "      <th>Interest Rate</th>\n",
       "      <th>Installment</th>\n",
       "      <th>Subgrade</th>\n",
       "      <th>Employment Length (Years)</th>\n",
       "      <th>Home Ownership</th>\n",
       "      <th>Annual Income</th>\n",
       "      <th>Date of Issue</th>\n",
       "      <th>Loan Status</th>\n",
       "      <th>Purpose</th>\n",
       "      <th>Debt to Income Ratio</th>\n",
       "      <th>Number of Delinquencies Over Past Two Years</th>\n",
       "      <th>Number of Credit Inquiries Past 6 Months</th>\n",
       "      <th>Number of Open Credit Lines</th>\n",
       "      <th>Total Credit</th>\n",
       "      <th>Ratio of Total Credit Utilized</th>\n",
       "      <th>Total Number of Credit Lines</th>\n",
       "      <th>Number of Recent Bankruptcies</th>\n",
       "      <th>Federal Reserve Region</th>\n",
       "      <th>Date of Last Credit Pull</th>\n",
       "      <th>Grade</th>\n",
       "      <th>State of Address</th>\n",
       "    </tr>\n",
       "  </thead>\n",
       "  <tbody>\n",
       "    <tr>\n",
       "      <th>0</th>\n",
       "      <td>1077430</td>\n",
       "      <td>2500</td>\n",
       "      <td>60</td>\n",
       "      <td>15.27</td>\n",
       "      <td>59.83</td>\n",
       "      <td>C4</td>\n",
       "      <td>0</td>\n",
       "      <td>RENT</td>\n",
       "      <td>30000.0</td>\n",
       "      <td>2011-12-01</td>\n",
       "      <td>Charged Off</td>\n",
       "      <td>car</td>\n",
       "      <td>1.00</td>\n",
       "      <td>0</td>\n",
       "      <td>5</td>\n",
       "      <td>3</td>\n",
       "      <td>1687</td>\n",
       "      <td>0.09</td>\n",
       "      <td>4</td>\n",
       "      <td>0</td>\n",
       "      <td>6</td>\n",
       "      <td>2013-09-01</td>\n",
       "      <td>C</td>\n",
       "      <td>GA</td>\n",
       "    </tr>\n",
       "    <tr>\n",
       "      <th>1</th>\n",
       "      <td>1076863</td>\n",
       "      <td>10000</td>\n",
       "      <td>36</td>\n",
       "      <td>13.49</td>\n",
       "      <td>339.31</td>\n",
       "      <td>C1</td>\n",
       "      <td>10</td>\n",
       "      <td>RENT</td>\n",
       "      <td>49200.0</td>\n",
       "      <td>2011-12-01</td>\n",
       "      <td>Fully Paid</td>\n",
       "      <td>other</td>\n",
       "      <td>20.00</td>\n",
       "      <td>0</td>\n",
       "      <td>1</td>\n",
       "      <td>10</td>\n",
       "      <td>5598</td>\n",
       "      <td>0.21</td>\n",
       "      <td>37</td>\n",
       "      <td>0</td>\n",
       "      <td>12</td>\n",
       "      <td>2016-04-01</td>\n",
       "      <td>C</td>\n",
       "      <td>CA</td>\n",
       "    </tr>\n",
       "    <tr>\n",
       "      <th>2</th>\n",
       "      <td>1075269</td>\n",
       "      <td>5000</td>\n",
       "      <td>36</td>\n",
       "      <td>7.90</td>\n",
       "      <td>156.46</td>\n",
       "      <td>A4</td>\n",
       "      <td>3</td>\n",
       "      <td>RENT</td>\n",
       "      <td>36000.0</td>\n",
       "      <td>2011-12-01</td>\n",
       "      <td>Fully Paid</td>\n",
       "      <td>wedding</td>\n",
       "      <td>11.20</td>\n",
       "      <td>0</td>\n",
       "      <td>3</td>\n",
       "      <td>9</td>\n",
       "      <td>7963</td>\n",
       "      <td>0.28</td>\n",
       "      <td>12</td>\n",
       "      <td>0</td>\n",
       "      <td>12</td>\n",
       "      <td>2016-01-01</td>\n",
       "      <td>A</td>\n",
       "      <td>AZ</td>\n",
       "    </tr>\n",
       "    <tr>\n",
       "      <th>3</th>\n",
       "      <td>1069639</td>\n",
       "      <td>7000</td>\n",
       "      <td>60</td>\n",
       "      <td>15.96</td>\n",
       "      <td>170.08</td>\n",
       "      <td>C5</td>\n",
       "      <td>8</td>\n",
       "      <td>RENT</td>\n",
       "      <td>47004.0</td>\n",
       "      <td>2011-12-01</td>\n",
       "      <td>Fully Paid</td>\n",
       "      <td>debt_consolidation</td>\n",
       "      <td>23.51</td>\n",
       "      <td>0</td>\n",
       "      <td>1</td>\n",
       "      <td>7</td>\n",
       "      <td>17726</td>\n",
       "      <td>0.86</td>\n",
       "      <td>11</td>\n",
       "      <td>0</td>\n",
       "      <td>5</td>\n",
       "      <td>2016-05-01</td>\n",
       "      <td>C</td>\n",
       "      <td>NC</td>\n",
       "    </tr>\n",
       "    <tr>\n",
       "      <th>4</th>\n",
       "      <td>1072053</td>\n",
       "      <td>3000</td>\n",
       "      <td>36</td>\n",
       "      <td>18.64</td>\n",
       "      <td>109.43</td>\n",
       "      <td>E1</td>\n",
       "      <td>9</td>\n",
       "      <td>RENT</td>\n",
       "      <td>48000.0</td>\n",
       "      <td>2011-12-01</td>\n",
       "      <td>Fully Paid</td>\n",
       "      <td>car</td>\n",
       "      <td>5.35</td>\n",
       "      <td>0</td>\n",
       "      <td>2</td>\n",
       "      <td>4</td>\n",
       "      <td>8221</td>\n",
       "      <td>0.88</td>\n",
       "      <td>4</td>\n",
       "      <td>0</td>\n",
       "      <td>12</td>\n",
       "      <td>2014-12-01</td>\n",
       "      <td>E</td>\n",
       "      <td>CA</td>\n",
       "    </tr>\n",
       "  </tbody>\n",
       "</table>\n",
       "</div>"
      ],
      "text/plain": [
       "   Applicant Id  loan Amount  Loan Term  Interest Rate  Installment Subgrade  \\\n",
       "0       1077430         2500         60          15.27        59.83       C4   \n",
       "1       1076863        10000         36          13.49       339.31       C1   \n",
       "2       1075269         5000         36           7.90       156.46       A4   \n",
       "3       1069639         7000         60          15.96       170.08       C5   \n",
       "4       1072053         3000         36          18.64       109.43       E1   \n",
       "\n",
       "   Employment Length (Years) Home Ownership  Annual Income Date of Issue  \\\n",
       "0                          0           RENT        30000.0    2011-12-01   \n",
       "1                         10           RENT        49200.0    2011-12-01   \n",
       "2                          3           RENT        36000.0    2011-12-01   \n",
       "3                          8           RENT        47004.0    2011-12-01   \n",
       "4                          9           RENT        48000.0    2011-12-01   \n",
       "\n",
       "   Loan Status             Purpose  Debt to Income Ratio  \\\n",
       "0  Charged Off                 car                  1.00   \n",
       "1   Fully Paid               other                 20.00   \n",
       "2   Fully Paid             wedding                 11.20   \n",
       "3   Fully Paid  debt_consolidation                 23.51   \n",
       "4   Fully Paid                 car                  5.35   \n",
       "\n",
       "   Number of Delinquencies Over Past Two Years  \\\n",
       "0                                            0   \n",
       "1                                            0   \n",
       "2                                            0   \n",
       "3                                            0   \n",
       "4                                            0   \n",
       "\n",
       "   Number of Credit Inquiries Past 6 Months  Number of Open Credit Lines  \\\n",
       "0                                         5                            3   \n",
       "1                                         1                           10   \n",
       "2                                         3                            9   \n",
       "3                                         1                            7   \n",
       "4                                         2                            4   \n",
       "\n",
       "   Total Credit  Ratio of Total Credit Utilized  Total Number of Credit Lines  \\\n",
       "0          1687                            0.09                             4   \n",
       "1          5598                            0.21                            37   \n",
       "2          7963                            0.28                            12   \n",
       "3         17726                            0.86                            11   \n",
       "4          8221                            0.88                             4   \n",
       "\n",
       "   Number of Recent Bankruptcies  Federal Reserve Region  \\\n",
       "0                              0                       6   \n",
       "1                              0                      12   \n",
       "2                              0                      12   \n",
       "3                              0                       5   \n",
       "4                              0                      12   \n",
       "\n",
       "  Date of Last Credit Pull Grade State of Address  \n",
       "0               2013-09-01     C               GA  \n",
       "1               2016-04-01     C               CA  \n",
       "2               2016-01-01     A               AZ  \n",
       "3               2016-05-01     C               NC  \n",
       "4               2014-12-01     E               CA  "
      ]
     },
     "execution_count": 14,
     "metadata": {},
     "output_type": "execute_result"
    }
   ],
   "source": [
    "df.head()"
   ]
  },
  {
   "cell_type": "code",
   "execution_count": 20,
   "id": "e5c6f9e7",
   "metadata": {},
   "outputs": [
    {
     "data": {
      "text/plain": [
       "Fully Paid     30423\n",
       "Charged Off     4942\n",
       "Name: Loan Status, dtype: int64"
      ]
     },
     "execution_count": 20,
     "metadata": {},
     "output_type": "execute_result"
    }
   ],
   "source": [
    "df[\"Loan Status\"].value_counts()"
   ]
  },
  {
   "cell_type": "code",
   "execution_count": 17,
   "id": "46361af3",
   "metadata": {},
   "outputs": [],
   "source": [
    "df2 = df.groupby([\"State of Address\", \"Loan Status\"]).count()[\"Applicant Id\"]"
   ]
  },
  {
   "cell_type": "code",
   "execution_count": 19,
   "id": "33151012",
   "metadata": {},
   "outputs": [
    {
     "data": {
      "text/html": [
       "<div>\n",
       "<style scoped>\n",
       "    .dataframe tbody tr th:only-of-type {\n",
       "        vertical-align: middle;\n",
       "    }\n",
       "\n",
       "    .dataframe tbody tr th {\n",
       "        vertical-align: top;\n",
       "    }\n",
       "\n",
       "    .dataframe thead th {\n",
       "        text-align: right;\n",
       "    }\n",
       "</style>\n",
       "<table border=\"1\" class=\"dataframe\">\n",
       "  <thead>\n",
       "    <tr style=\"text-align: right;\">\n",
       "      <th></th>\n",
       "      <th>State of Address</th>\n",
       "      <th>Loan Status</th>\n",
       "      <th>Applicant Id</th>\n",
       "    </tr>\n",
       "  </thead>\n",
       "  <tbody>\n",
       "    <tr>\n",
       "      <th>0</th>\n",
       "      <td>AK</td>\n",
       "      <td>Charged Off</td>\n",
       "      <td>15</td>\n",
       "    </tr>\n",
       "    <tr>\n",
       "      <th>1</th>\n",
       "      <td>AK</td>\n",
       "      <td>Fully Paid</td>\n",
       "      <td>58</td>\n",
       "    </tr>\n",
       "    <tr>\n",
       "      <th>2</th>\n",
       "      <td>AL</td>\n",
       "      <td>Charged Off</td>\n",
       "      <td>47</td>\n",
       "    </tr>\n",
       "    <tr>\n",
       "      <th>3</th>\n",
       "      <td>AL</td>\n",
       "      <td>Fully Paid</td>\n",
       "      <td>350</td>\n",
       "    </tr>\n",
       "    <tr>\n",
       "      <th>4</th>\n",
       "      <td>AR</td>\n",
       "      <td>Charged Off</td>\n",
       "      <td>25</td>\n",
       "    </tr>\n",
       "  </tbody>\n",
       "</table>\n",
       "</div>"
      ],
      "text/plain": [
       "  State of Address  Loan Status  Applicant Id\n",
       "0               AK  Charged Off            15\n",
       "1               AK   Fully Paid            58\n",
       "2               AL  Charged Off            47\n",
       "3               AL   Fully Paid           350\n",
       "4               AR  Charged Off            25"
      ]
     },
     "execution_count": 19,
     "metadata": {},
     "output_type": "execute_result"
    }
   ],
   "source": [
    "df2.head().reset_index()"
   ]
  },
  {
   "cell_type": "code",
   "execution_count": 32,
   "id": "68d75a7c",
   "metadata": {},
   "outputs": [],
   "source": [
    "states = df[\"State of Address\"].unique().tolist()"
   ]
  },
  {
   "cell_type": "code",
   "execution_count": 50,
   "id": "1fcb1c3d",
   "metadata": {},
   "outputs": [
    {
     "data": {
      "text/plain": [
       "45"
      ]
     },
     "execution_count": 50,
     "metadata": {},
     "output_type": "execute_result"
    }
   ],
   "source": [
    "len(co)"
   ]
  },
  {
   "cell_type": "code",
   "execution_count": 30,
   "id": "86609965",
   "metadata": {},
   "outputs": [],
   "source": [
    "tot = df.groupby([\"State of Address\"]).count()[\"Applicant Id\"].values.tolist()"
   ]
  },
  {
   "cell_type": "code",
   "execution_count": 29,
   "id": "47ca09b6",
   "metadata": {},
   "outputs": [],
   "source": [
    "fp = df.loc[df[\"Loan Status\"] == \"Fully Paid\"].groupby([\"State of Address\"]).count()[\"Applicant Id\"].values.tolist()"
   ]
  },
  {
   "cell_type": "code",
   "execution_count": 28,
   "id": "ecd1fa7d",
   "metadata": {},
   "outputs": [],
   "source": [
    "co = df.loc[df[\"Loan Status\"] == \"Charged Off\"].groupby([\"State of Address\"]).count()[\"Applicant Id\"].values.tolist()"
   ]
  },
  {
   "cell_type": "code",
   "execution_count": 51,
   "id": "4c21c859",
   "metadata": {},
   "outputs": [],
   "source": [
    "state_dict = {'State': states, 'Total Applicants': tot, 'Total Fully Paid Off': fp}"
   ]
  },
  {
   "cell_type": "code",
   "execution_count": 52,
   "id": "6a7824ff",
   "metadata": {},
   "outputs": [],
   "source": [
    "dfstates = pd.DataFrame(state_dict)"
   ]
  },
  {
   "cell_type": "code",
   "execution_count": 54,
   "id": "38310b41",
   "metadata": {},
   "outputs": [
    {
     "data": {
      "text/html": [
       "<div>\n",
       "<style scoped>\n",
       "    .dataframe tbody tr th:only-of-type {\n",
       "        vertical-align: middle;\n",
       "    }\n",
       "\n",
       "    .dataframe tbody tr th {\n",
       "        vertical-align: top;\n",
       "    }\n",
       "\n",
       "    .dataframe thead th {\n",
       "        text-align: right;\n",
       "    }\n",
       "</style>\n",
       "<table border=\"1\" class=\"dataframe\">\n",
       "  <thead>\n",
       "    <tr style=\"text-align: right;\">\n",
       "      <th></th>\n",
       "      <th>State</th>\n",
       "      <th>Total Applicants</th>\n",
       "      <th>Total Fully Paid Off</th>\n",
       "    </tr>\n",
       "  </thead>\n",
       "  <tbody>\n",
       "    <tr>\n",
       "      <th>0</th>\n",
       "      <td>GA</td>\n",
       "      <td>73</td>\n",
       "      <td>58</td>\n",
       "    </tr>\n",
       "    <tr>\n",
       "      <th>1</th>\n",
       "      <td>CA</td>\n",
       "      <td>397</td>\n",
       "      <td>350</td>\n",
       "    </tr>\n",
       "    <tr>\n",
       "      <th>2</th>\n",
       "      <td>AZ</td>\n",
       "      <td>216</td>\n",
       "      <td>191</td>\n",
       "    </tr>\n",
       "    <tr>\n",
       "      <th>3</th>\n",
       "      <td>NC</td>\n",
       "      <td>758</td>\n",
       "      <td>652</td>\n",
       "    </tr>\n",
       "    <tr>\n",
       "      <th>4</th>\n",
       "      <td>TX</td>\n",
       "      <td>6396</td>\n",
       "      <td>5420</td>\n",
       "    </tr>\n",
       "  </tbody>\n",
       "</table>\n",
       "</div>"
      ],
      "text/plain": [
       "  State  Total Applicants  Total Fully Paid Off\n",
       "0    GA                73                    58\n",
       "1    CA               397                   350\n",
       "2    AZ               216                   191\n",
       "3    NC               758                   652\n",
       "4    TX              6396                  5420"
      ]
     },
     "execution_count": 54,
     "metadata": {},
     "output_type": "execute_result"
    }
   ],
   "source": [
    "dfstates.head()"
   ]
  },
  {
   "cell_type": "code",
   "execution_count": 61,
   "id": "b2c6b598",
   "metadata": {},
   "outputs": [],
   "source": [
    "dfstates[\"Total Charged Off\"] = dfstates[\"Total Applicants\"] - dfstates[\"Total Fully Paid Off\"]"
   ]
  },
  {
   "cell_type": "code",
   "execution_count": 62,
   "id": "86b3e70e",
   "metadata": {},
   "outputs": [],
   "source": [
    "dfstates[\"Percent Paid Off\"] = (dfstates[\"Total Fully Paid Off\"]/dfstates[\"Total Applicants\"])*100"
   ]
  },
  {
   "cell_type": "code",
   "execution_count": 64,
   "id": "ead1ebba",
   "metadata": {},
   "outputs": [],
   "source": [
    "dfstates[\"Percent Paid Off\"] = dfstates[\"Percent Paid Off\"].round(2)"
   ]
  },
  {
   "cell_type": "code",
   "execution_count": 65,
   "id": "afcf0e7c",
   "metadata": {},
   "outputs": [],
   "source": [
    "dfstates.to_csv(\"loan_data_states.csv\", index=False)"
   ]
  }
 ],
 "metadata": {
  "kernelspec": {
   "display_name": "Python 3 (ipykernel)",
   "language": "python",
   "name": "python3"
  },
  "language_info": {
   "codemirror_mode": {
    "name": "ipython",
    "version": 3
   },
   "file_extension": ".py",
   "mimetype": "text/x-python",
   "name": "python",
   "nbconvert_exporter": "python",
   "pygments_lexer": "ipython3",
   "version": "3.9.12"
  }
 },
 "nbformat": 4,
 "nbformat_minor": 5
}
