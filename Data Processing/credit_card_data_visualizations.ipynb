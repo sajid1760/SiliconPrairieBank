{
 "cells": [
  {
   "cell_type": "code",
   "execution_count": 1,
   "id": "a2cb6371",
   "metadata": {},
   "outputs": [
    {
     "data": {
      "text/html": [
       "<style>.container { width:100% !important; }</style>"
      ],
      "text/plain": [
       "<IPython.core.display.HTML object>"
      ]
     },
     "metadata": {},
     "output_type": "display_data"
    }
   ],
   "source": [
    "from IPython.display import display, HTML\n",
    "display(HTML(\"<style>.container { width:100% !important; }</style>\"))"
   ]
  },
  {
   "cell_type": "code",
   "execution_count": 2,
   "id": "e618ca82",
   "metadata": {},
   "outputs": [],
   "source": [
    "import pandas as pd\n",
    "import numpy as np\n",
    "import matplotlib.pyplot as plt\n",
    "import seaborn as sns"
   ]
  },
  {
   "cell_type": "code",
   "execution_count": 3,
   "id": "9614538f",
   "metadata": {},
   "outputs": [
    {
     "data": {
      "text/html": [
       "<div>\n",
       "<style scoped>\n",
       "    .dataframe tbody tr th:only-of-type {\n",
       "        vertical-align: middle;\n",
       "    }\n",
       "\n",
       "    .dataframe tbody tr th {\n",
       "        vertical-align: top;\n",
       "    }\n",
       "\n",
       "    .dataframe thead th {\n",
       "        text-align: right;\n",
       "    }\n",
       "</style>\n",
       "<table border=\"1\" class=\"dataframe\">\n",
       "  <thead>\n",
       "    <tr style=\"text-align: right;\">\n",
       "      <th></th>\n",
       "      <th>ID</th>\n",
       "      <th>Gender</th>\n",
       "      <th>Own_car</th>\n",
       "      <th>Own_property</th>\n",
       "      <th>Work_phone</th>\n",
       "      <th>Phone</th>\n",
       "      <th>Email</th>\n",
       "      <th>Unemployed</th>\n",
       "      <th>Num_children</th>\n",
       "      <th>Num_family</th>\n",
       "      <th>Account_length</th>\n",
       "      <th>Total_income</th>\n",
       "      <th>Age</th>\n",
       "      <th>Years_employed</th>\n",
       "      <th>Income_type</th>\n",
       "      <th>Education_type</th>\n",
       "      <th>Family_status</th>\n",
       "      <th>Housing_type</th>\n",
       "      <th>Occupation_type</th>\n",
       "      <th>Target</th>\n",
       "    </tr>\n",
       "  </thead>\n",
       "  <tbody>\n",
       "    <tr>\n",
       "      <th>0</th>\n",
       "      <td>5008804</td>\n",
       "      <td>1</td>\n",
       "      <td>1</td>\n",
       "      <td>1</td>\n",
       "      <td>1</td>\n",
       "      <td>0</td>\n",
       "      <td>0</td>\n",
       "      <td>0</td>\n",
       "      <td>0</td>\n",
       "      <td>2</td>\n",
       "      <td>15</td>\n",
       "      <td>427500.0</td>\n",
       "      <td>32.868574</td>\n",
       "      <td>12.435574</td>\n",
       "      <td>Working</td>\n",
       "      <td>Higher education</td>\n",
       "      <td>Civil marriage</td>\n",
       "      <td>Rented apartment</td>\n",
       "      <td>Other</td>\n",
       "      <td>1</td>\n",
       "    </tr>\n",
       "    <tr>\n",
       "      <th>1</th>\n",
       "      <td>5008806</td>\n",
       "      <td>1</td>\n",
       "      <td>1</td>\n",
       "      <td>1</td>\n",
       "      <td>0</td>\n",
       "      <td>0</td>\n",
       "      <td>0</td>\n",
       "      <td>0</td>\n",
       "      <td>0</td>\n",
       "      <td>2</td>\n",
       "      <td>29</td>\n",
       "      <td>112500.0</td>\n",
       "      <td>58.793815</td>\n",
       "      <td>3.104787</td>\n",
       "      <td>Working</td>\n",
       "      <td>Secondary / secondary special</td>\n",
       "      <td>Married</td>\n",
       "      <td>House / apartment</td>\n",
       "      <td>Security staff</td>\n",
       "      <td>0</td>\n",
       "    </tr>\n",
       "    <tr>\n",
       "      <th>2</th>\n",
       "      <td>5008808</td>\n",
       "      <td>0</td>\n",
       "      <td>0</td>\n",
       "      <td>1</td>\n",
       "      <td>0</td>\n",
       "      <td>1</td>\n",
       "      <td>1</td>\n",
       "      <td>0</td>\n",
       "      <td>0</td>\n",
       "      <td>1</td>\n",
       "      <td>4</td>\n",
       "      <td>270000.0</td>\n",
       "      <td>52.321403</td>\n",
       "      <td>8.353354</td>\n",
       "      <td>Commercial associate</td>\n",
       "      <td>Secondary / secondary special</td>\n",
       "      <td>Single / not married</td>\n",
       "      <td>House / apartment</td>\n",
       "      <td>Sales staff</td>\n",
       "      <td>0</td>\n",
       "    </tr>\n",
       "    <tr>\n",
       "      <th>3</th>\n",
       "      <td>5008812</td>\n",
       "      <td>0</td>\n",
       "      <td>0</td>\n",
       "      <td>1</td>\n",
       "      <td>0</td>\n",
       "      <td>0</td>\n",
       "      <td>0</td>\n",
       "      <td>1</td>\n",
       "      <td>0</td>\n",
       "      <td>1</td>\n",
       "      <td>20</td>\n",
       "      <td>283500.0</td>\n",
       "      <td>61.504343</td>\n",
       "      <td>0.000000</td>\n",
       "      <td>Pensioner</td>\n",
       "      <td>Higher education</td>\n",
       "      <td>Separated</td>\n",
       "      <td>House / apartment</td>\n",
       "      <td>Other</td>\n",
       "      <td>0</td>\n",
       "    </tr>\n",
       "    <tr>\n",
       "      <th>4</th>\n",
       "      <td>5008815</td>\n",
       "      <td>1</td>\n",
       "      <td>1</td>\n",
       "      <td>1</td>\n",
       "      <td>1</td>\n",
       "      <td>1</td>\n",
       "      <td>1</td>\n",
       "      <td>0</td>\n",
       "      <td>0</td>\n",
       "      <td>2</td>\n",
       "      <td>5</td>\n",
       "      <td>270000.0</td>\n",
       "      <td>46.193967</td>\n",
       "      <td>2.105450</td>\n",
       "      <td>Working</td>\n",
       "      <td>Higher education</td>\n",
       "      <td>Married</td>\n",
       "      <td>House / apartment</td>\n",
       "      <td>Accountants</td>\n",
       "      <td>0</td>\n",
       "    </tr>\n",
       "  </tbody>\n",
       "</table>\n",
       "</div>"
      ],
      "text/plain": [
       "        ID  Gender  Own_car  Own_property  Work_phone  Phone  Email  \\\n",
       "0  5008804       1        1             1           1      0      0   \n",
       "1  5008806       1        1             1           0      0      0   \n",
       "2  5008808       0        0             1           0      1      1   \n",
       "3  5008812       0        0             1           0      0      0   \n",
       "4  5008815       1        1             1           1      1      1   \n",
       "\n",
       "   Unemployed  Num_children  Num_family  Account_length  Total_income  \\\n",
       "0           0             0           2              15      427500.0   \n",
       "1           0             0           2              29      112500.0   \n",
       "2           0             0           1               4      270000.0   \n",
       "3           1             0           1              20      283500.0   \n",
       "4           0             0           2               5      270000.0   \n",
       "\n",
       "         Age  Years_employed           Income_type  \\\n",
       "0  32.868574       12.435574               Working   \n",
       "1  58.793815        3.104787               Working   \n",
       "2  52.321403        8.353354  Commercial associate   \n",
       "3  61.504343        0.000000             Pensioner   \n",
       "4  46.193967        2.105450               Working   \n",
       "\n",
       "                  Education_type         Family_status       Housing_type  \\\n",
       "0               Higher education        Civil marriage   Rented apartment   \n",
       "1  Secondary / secondary special               Married  House / apartment   \n",
       "2  Secondary / secondary special  Single / not married  House / apartment   \n",
       "3               Higher education             Separated  House / apartment   \n",
       "4               Higher education               Married  House / apartment   \n",
       "\n",
       "  Occupation_type  Target  \n",
       "0           Other       1  \n",
       "1  Security staff       0  \n",
       "2     Sales staff       0  \n",
       "3           Other       0  \n",
       "4     Accountants       0  "
      ]
     },
     "execution_count": 3,
     "metadata": {},
     "output_type": "execute_result"
    }
   ],
   "source": [
    "dfcc = pd.read_csv(\"credit_card/clean_data.csv\")\n",
    "dfcc.head()"
   ]
  },
  {
   "cell_type": "code",
   "execution_count": 70,
   "id": "46be81ec",
   "metadata": {},
   "outputs": [
    {
     "data": {
      "text/plain": [
       "array(['Working', 'Commercial associate', 'Pensioner', 'State servant',\n",
       "       'Student'], dtype=object)"
      ]
     },
     "execution_count": 70,
     "metadata": {},
     "output_type": "execute_result"
    }
   ],
   "source": [
    "dfcc.Income_type.unique()"
   ]
  },
  {
   "cell_type": "code",
   "execution_count": 72,
   "id": "55112f91",
   "metadata": {},
   "outputs": [
    {
     "data": {
      "text/plain": [
       "Other                    2994\n",
       "Laborers                 1724\n",
       "Sales staff               959\n",
       "Core staff                877\n",
       "Managers                  782\n",
       "Drivers                   623\n",
       "High skill tech staff     357\n",
       "Accountants               300\n",
       "Medicine staff            291\n",
       "Cooking staff             193\n",
       "Security staff            182\n",
       "Cleaning staff            146\n",
       "Private service staff      86\n",
       "Low-skill Laborers         53\n",
       "Secretaries                46\n",
       "Waiters/barmen staff       40\n",
       "HR staff                   22\n",
       "IT staff                   18\n",
       "Realty agents              16\n",
       "Name: Occupation_type, dtype: int64"
      ]
     },
     "execution_count": 72,
     "metadata": {},
     "output_type": "execute_result"
    }
   ],
   "source": [
    "dfcc.Occupation_type.value_counts()"
   ]
  },
  {
   "cell_type": "code",
   "execution_count": 74,
   "id": "d4d4f5fb",
   "metadata": {},
   "outputs": [
    {
     "data": {
      "text/plain": [
       "Secondary / secondary special    6761\n",
       "Higher education                 2457\n",
       "Incomplete higher                 371\n",
       "Lower secondary                   114\n",
       "Academic degree                     6\n",
       "Name: Education_type, dtype: int64"
      ]
     },
     "execution_count": 74,
     "metadata": {},
     "output_type": "execute_result"
    }
   ],
   "source": [
    "dfcc.Education_type.value_counts()"
   ]
  },
  {
   "cell_type": "code",
   "execution_count": 75,
   "id": "339a0b2a",
   "metadata": {},
   "outputs": [
    {
     "data": {
      "text/plain": [
       "Married                 6530\n",
       "Single / not married    1359\n",
       "Civil marriage           836\n",
       "Separated                574\n",
       "Widow                    410\n",
       "Name: Family_status, dtype: int64"
      ]
     },
     "execution_count": 75,
     "metadata": {},
     "output_type": "execute_result"
    }
   ],
   "source": [
    "dfcc.Family_status.value_counts()"
   ]
  },
  {
   "cell_type": "code",
   "execution_count": 4,
   "id": "fcde11c8",
   "metadata": {},
   "outputs": [],
   "source": [
    "# corrs = dfcc.corr()\n",
    "# plt.figure(figsize=(16,12))\n",
    "# sns.heatmap(corrs)\n",
    "# plt.show()"
   ]
  },
  {
   "cell_type": "markdown",
   "id": "c3fc739d",
   "metadata": {},
   "source": [
    "0                 (0.08389257832139187, Account_length)\n",
    "1                         (0.08190587720531241, Gender)\n",
    "2                   (0.07894768409769266, Own_property)\n",
    "3                            (0.07717982918147838, Age)\n",
    "4          (0.06819669546047047, Family_status_Married)\n",
    "5                        (0.06368670911525186, Own_car)\n",
    "6                     (0.06359163175938189, Num_family)\n",
    "7                   (0.06285671403621051, Total_income)\n",
    "8                 (0.06272912767259418, Years_employed)\n",
    "9     (0.057175119135012144, Income_type_Commercial ...\n",
    "10           (0.05101626411946244, Income_type_Working)\n",
    "11    (0.040789054477717204, Education_type_Higher e...\n",
    "12                  (0.03632689859050923, Num_children)\n",
    "13    (0.034086740740729496, Education_type_Secondar...\n",
    "14    (0.03134015299642026, Family_status_Single / n...\n",
    "15    (0.016230995355738596, Housing_type_House / ap...\n",
    "16        (0.015162941262870799, Income_type_Pensioner)\n",
    "17    (0.013814450115978098, Family_status_Civil mar...\n",
    "18     (0.01068931686477455, Income_type_State servant)\n",
    "19       (0.01043617633553381, Family_status_Separated)\n",
    "20                   (0.008439181204533314, Unemployed)\n",
    "21    (0.007568449431020841, Education_type_Incomple...\n",
    "22           (0.00732115997343425, Family_status_Widow)\n",
    "23    (0.005504828435960183, Housing_type_With parents)\n",
    "24    (0.0045409019547406546, Housing_type_Municipal...\n",
    "25    (0.0026844979352010838, Housing_type_Rented ap...\n",
    "26    (0.001963454401813781, Education_type_Lower se...\n",
    "27    (0.001092850604491624, Housing_type_Office apa...\n",
    "28    (0.00035419027007210606, Housing_type_Co-op ap...\n",
    "29    (0.0002729986382955164, Education_type_Academi...\n",
    "30        (0.00020253030590593548, Income_type_Student)\n",
    "dtype: object"
   ]
  },
  {
   "cell_type": "code",
   "execution_count": 35,
   "id": "4dcab777",
   "metadata": {},
   "outputs": [
    {
     "data": {
      "text/html": [
       "<div>\n",
       "<style scoped>\n",
       "    .dataframe tbody tr th:only-of-type {\n",
       "        vertical-align: middle;\n",
       "    }\n",
       "\n",
       "    .dataframe tbody tr th {\n",
       "        vertical-align: top;\n",
       "    }\n",
       "\n",
       "    .dataframe thead th {\n",
       "        text-align: right;\n",
       "    }\n",
       "</style>\n",
       "<table border=\"1\" class=\"dataframe\">\n",
       "  <thead>\n",
       "    <tr style=\"text-align: right;\">\n",
       "      <th></th>\n",
       "      <th>ID</th>\n",
       "      <th>Own_car</th>\n",
       "      <th>Own_property</th>\n",
       "      <th>Work_phone</th>\n",
       "      <th>Phone</th>\n",
       "      <th>Email</th>\n",
       "      <th>Unemployed</th>\n",
       "      <th>Num_children</th>\n",
       "      <th>Num_family</th>\n",
       "      <th>Account_length</th>\n",
       "      <th>Total_income</th>\n",
       "      <th>Age</th>\n",
       "      <th>Years_employed</th>\n",
       "      <th>Target</th>\n",
       "    </tr>\n",
       "    <tr>\n",
       "      <th>Gender</th>\n",
       "      <th></th>\n",
       "      <th></th>\n",
       "      <th></th>\n",
       "      <th></th>\n",
       "      <th></th>\n",
       "      <th></th>\n",
       "      <th></th>\n",
       "      <th></th>\n",
       "      <th></th>\n",
       "      <th></th>\n",
       "      <th></th>\n",
       "      <th></th>\n",
       "      <th></th>\n",
       "      <th></th>\n",
       "    </tr>\n",
       "  </thead>\n",
       "  <tbody>\n",
       "    <tr>\n",
       "      <th>0</th>\n",
       "      <td>5.075674e+06</td>\n",
       "      <td>0.24229</td>\n",
       "      <td>0.690811</td>\n",
       "      <td>0.199589</td>\n",
       "      <td>0.294006</td>\n",
       "      <td>0.086193</td>\n",
       "      <td>0.221572</td>\n",
       "      <td>0.392377</td>\n",
       "      <td>2.129053</td>\n",
       "      <td>27.372766</td>\n",
       "      <td>166644.609204</td>\n",
       "      <td>45.257156</td>\n",
       "      <td>5.795746</td>\n",
       "      <td>0.128420</td>\n",
       "    </tr>\n",
       "    <tr>\n",
       "      <th>1</th>\n",
       "      <td>5.076909e+06</td>\n",
       "      <td>0.60189</td>\n",
       "      <td>0.635558</td>\n",
       "      <td>0.250738</td>\n",
       "      <td>0.275842</td>\n",
       "      <td>0.090077</td>\n",
       "      <td>0.087123</td>\n",
       "      <td>0.479622</td>\n",
       "      <td>2.282634</td>\n",
       "      <td>27.078263</td>\n",
       "      <td>208461.511223</td>\n",
       "      <td>41.033303</td>\n",
       "      <td>5.420072</td>\n",
       "      <td>0.139102</td>\n",
       "    </tr>\n",
       "  </tbody>\n",
       "</table>\n",
       "</div>"
      ],
      "text/plain": [
       "                  ID  Own_car  Own_property  Work_phone     Phone     Email  \\\n",
       "Gender                                                                        \n",
       "0       5.075674e+06  0.24229      0.690811    0.199589  0.294006  0.086193   \n",
       "1       5.076909e+06  0.60189      0.635558    0.250738  0.275842  0.090077   \n",
       "\n",
       "        Unemployed  Num_children  Num_family  Account_length   Total_income  \\\n",
       "Gender                                                                        \n",
       "0         0.221572      0.392377    2.129053       27.372766  166644.609204   \n",
       "1         0.087123      0.479622    2.282634       27.078263  208461.511223   \n",
       "\n",
       "              Age  Years_employed    Target  \n",
       "Gender                                       \n",
       "0       45.257156        5.795746  0.128420  \n",
       "1       41.033303        5.420072  0.139102  "
      ]
     },
     "execution_count": 35,
     "metadata": {},
     "output_type": "execute_result"
    }
   ],
   "source": [
    "dfcc.groupby('Gender').mean()"
   ]
  },
  {
   "cell_type": "code",
   "execution_count": 19,
   "id": "4f217b07",
   "metadata": {},
   "outputs": [
    {
     "data": {
      "image/png": "[encoded data removed]",
      "text/plain": [
       "<Figure size 720x504 with 1 Axes>"
      ]
     },
     "metadata": {
      "needs_background": "light"
     },
     "output_type": "display_data"
    }
   ],
   "source": [
    "fig = plt.figure(figsize =(10, 7))\n",
    " \n",
    "# Creating plot\n",
    "plt.boxplot(dfcc.loc[dfcc.Target == 1, 'Account_length'])\n",
    "\n",
    "#plt.boxplot(dfcc.loc[dfcc.Target == 0, 'Account_length'])\n",
    " \n",
    "# show plot\n",
    "plt.show()"
   ]
  },
  {
   "cell_type": "code",
   "execution_count": null,
   "id": "94f6ee73",
   "metadata": {},
   "outputs": [],
   "source": [
    "ac1 = pd.DataFrame(dfcc.loc[dfcc.Target == 1, 'Account_length']).reset_index(drop=True)\n",
    "\n",
    "ac0 = pd.DataFrame(dfcc.loc[dfcc.Target == 0, 'Account_length']).reset_index(drop=True)\n"
   ]
  },
  {
   "cell_type": "code",
   "execution_count": 29,
   "id": "4f64723b",
   "metadata": {},
   "outputs": [],
   "source": [
    "box = ac1.merge(ac0, on='ind').drop('ind', axis=1)"
   ]
  },
  {
   "cell_type": "code",
   "execution_count": 30,
   "id": "2fa37a28",
   "metadata": {},
   "outputs": [
    {
     "data": {
      "text/html": [
       "<div>\n",
       "<style scoped>\n",
       "    .dataframe tbody tr th:only-of-type {\n",
       "        vertical-align: middle;\n",
       "    }\n",
       "\n",
       "    .dataframe tbody tr th {\n",
       "        vertical-align: top;\n",
       "    }\n",
       "\n",
       "    .dataframe thead th {\n",
       "        text-align: right;\n",
       "    }\n",
       "</style>\n",
       "<table border=\"1\" class=\"dataframe\">\n",
       "  <thead>\n",
       "    <tr style=\"text-align: right;\">\n",
       "      <th></th>\n",
       "      <th>Account_length_x</th>\n",
       "      <th>Account_length_y</th>\n",
       "    </tr>\n",
       "  </thead>\n",
       "  <tbody>\n",
       "    <tr>\n",
       "      <th>0</th>\n",
       "      <td>15</td>\n",
       "      <td>29</td>\n",
       "    </tr>\n",
       "    <tr>\n",
       "      <th>1</th>\n",
       "      <td>25</td>\n",
       "      <td>4</td>\n",
       "    </tr>\n",
       "    <tr>\n",
       "      <th>2</th>\n",
       "      <td>31</td>\n",
       "      <td>20</td>\n",
       "    </tr>\n",
       "    <tr>\n",
       "      <th>3</th>\n",
       "      <td>10</td>\n",
       "      <td>5</td>\n",
       "    </tr>\n",
       "    <tr>\n",
       "      <th>4</th>\n",
       "      <td>43</td>\n",
       "      <td>17</td>\n",
       "    </tr>\n",
       "    <tr>\n",
       "      <th>...</th>\n",
       "      <td>...</td>\n",
       "      <td>...</td>\n",
       "    </tr>\n",
       "    <tr>\n",
       "      <th>1278</th>\n",
       "      <td>20</td>\n",
       "      <td>11</td>\n",
       "    </tr>\n",
       "    <tr>\n",
       "      <th>1279</th>\n",
       "      <td>19</td>\n",
       "      <td>11</td>\n",
       "    </tr>\n",
       "    <tr>\n",
       "      <th>1280</th>\n",
       "      <td>21</td>\n",
       "      <td>59</td>\n",
       "    </tr>\n",
       "    <tr>\n",
       "      <th>1281</th>\n",
       "      <td>32</td>\n",
       "      <td>21</td>\n",
       "    </tr>\n",
       "    <tr>\n",
       "      <th>1282</th>\n",
       "      <td>13</td>\n",
       "      <td>9</td>\n",
       "    </tr>\n",
       "  </tbody>\n",
       "</table>\n",
       "<p>1283 rows × 2 columns</p>\n",
       "</div>"
      ],
      "text/plain": [
       "      Account_length_x  Account_length_y\n",
       "0                   15                29\n",
       "1                   25                 4\n",
       "2                   31                20\n",
       "3                   10                 5\n",
       "4                   43                17\n",
       "...                ...               ...\n",
       "1278                20                11\n",
       "1279                19                11\n",
       "1280                21                59\n",
       "1281                32                21\n",
       "1282                13                 9\n",
       "\n",
       "[1283 rows x 2 columns]"
      ]
     },
     "execution_count": 30,
     "metadata": {},
     "output_type": "execute_result"
    }
   ],
   "source": [
    "box"
   ]
  },
  {
   "cell_type": "code",
   "execution_count": 32,
   "id": "b45c6253",
   "metadata": {},
   "outputs": [
    {
     "data": {
      "text/plain": [
       "<AxesSubplot:>"
      ]
     },
     "execution_count": 32,
     "metadata": {},
     "output_type": "execute_result"
    },
    {
     "data": {
      "image/png": "[encoded data removed]",
      "text/plain": [
       "<Figure size 720x504 with 1 Axes>"
      ]
     },
     "metadata": {
      "needs_background": "light"
     },
     "output_type": "display_data"
    }
   ],
   "source": [
    "fig = plt.figure(figsize =(10, 7))\n",
    " \n",
    "# Creating plot\n",
    "\n",
    "box.boxplot(column=['Account_length_x', 'Account_length_y'], grid=True, figsize=(10, 6))\n",
    "\n",
    "# show plot\n",
    "#plt.show()"
   ]
  },
  {
   "cell_type": "code",
   "execution_count": 27,
   "id": "2b54ddb9",
   "metadata": {},
   "outputs": [],
   "source": [
    "ac1['ind'] = ac1.index\n",
    "ac0['ind'] = ac0.index"
   ]
  },
  {
   "cell_type": "code",
   "execution_count": 7,
   "id": "e78007a8",
   "metadata": {},
   "outputs": [
    {
     "data": {
      "text/html": [
       "<div>\n",
       "<style scoped>\n",
       "    .dataframe tbody tr th:only-of-type {\n",
       "        vertical-align: middle;\n",
       "    }\n",
       "\n",
       "    .dataframe tbody tr th {\n",
       "        vertical-align: top;\n",
       "    }\n",
       "\n",
       "    .dataframe thead th {\n",
       "        text-align: right;\n",
       "    }\n",
       "</style>\n",
       "<table border=\"1\" class=\"dataframe\">\n",
       "  <thead>\n",
       "    <tr style=\"text-align: right;\">\n",
       "      <th></th>\n",
       "      <th>ID</th>\n",
       "      <th>Gender</th>\n",
       "      <th>Own_car</th>\n",
       "      <th>Own_property</th>\n",
       "      <th>Work_phone</th>\n",
       "      <th>Phone</th>\n",
       "      <th>Email</th>\n",
       "      <th>Unemployed</th>\n",
       "      <th>Num_children</th>\n",
       "      <th>Num_family</th>\n",
       "      <th>Account_length</th>\n",
       "      <th>Total_income</th>\n",
       "      <th>Age</th>\n",
       "      <th>Years_employed</th>\n",
       "      <th>Income_type</th>\n",
       "      <th>Education_type</th>\n",
       "      <th>Family_status</th>\n",
       "      <th>Housing_type</th>\n",
       "      <th>Occupation_type</th>\n",
       "      <th>Target</th>\n",
       "    </tr>\n",
       "  </thead>\n",
       "  <tbody>\n",
       "    <tr>\n",
       "      <th>0</th>\n",
       "      <td>5008804</td>\n",
       "      <td>1</td>\n",
       "      <td>1</td>\n",
       "      <td>1</td>\n",
       "      <td>1</td>\n",
       "      <td>0</td>\n",
       "      <td>0</td>\n",
       "      <td>0</td>\n",
       "      <td>0</td>\n",
       "      <td>2</td>\n",
       "      <td>15</td>\n",
       "      <td>427500.0</td>\n",
       "      <td>32.868574</td>\n",
       "      <td>12.435574</td>\n",
       "      <td>Working</td>\n",
       "      <td>Higher education</td>\n",
       "      <td>Civil marriage</td>\n",
       "      <td>Rented apartment</td>\n",
       "      <td>Other</td>\n",
       "      <td>1</td>\n",
       "    </tr>\n",
       "    <tr>\n",
       "      <th>1</th>\n",
       "      <td>5008806</td>\n",
       "      <td>1</td>\n",
       "      <td>1</td>\n",
       "      <td>1</td>\n",
       "      <td>0</td>\n",
       "      <td>0</td>\n",
       "      <td>0</td>\n",
       "      <td>0</td>\n",
       "      <td>0</td>\n",
       "      <td>2</td>\n",
       "      <td>29</td>\n",
       "      <td>112500.0</td>\n",
       "      <td>58.793815</td>\n",
       "      <td>3.104787</td>\n",
       "      <td>Working</td>\n",
       "      <td>Secondary / secondary special</td>\n",
       "      <td>Married</td>\n",
       "      <td>House / apartment</td>\n",
       "      <td>Security staff</td>\n",
       "      <td>0</td>\n",
       "    </tr>\n",
       "    <tr>\n",
       "      <th>2</th>\n",
       "      <td>5008808</td>\n",
       "      <td>0</td>\n",
       "      <td>0</td>\n",
       "      <td>1</td>\n",
       "      <td>0</td>\n",
       "      <td>1</td>\n",
       "      <td>1</td>\n",
       "      <td>0</td>\n",
       "      <td>0</td>\n",
       "      <td>1</td>\n",
       "      <td>4</td>\n",
       "      <td>270000.0</td>\n",
       "      <td>52.321403</td>\n",
       "      <td>8.353354</td>\n",
       "      <td>Commercial associate</td>\n",
       "      <td>Secondary / secondary special</td>\n",
       "      <td>Single / not married</td>\n",
       "      <td>House / apartment</td>\n",
       "      <td>Sales staff</td>\n",
       "      <td>0</td>\n",
       "    </tr>\n",
       "    <tr>\n",
       "      <th>3</th>\n",
       "      <td>5008812</td>\n",
       "      <td>0</td>\n",
       "      <td>0</td>\n",
       "      <td>1</td>\n",
       "      <td>0</td>\n",
       "      <td>0</td>\n",
       "      <td>0</td>\n",
       "      <td>1</td>\n",
       "      <td>0</td>\n",
       "      <td>1</td>\n",
       "      <td>20</td>\n",
       "      <td>283500.0</td>\n",
       "      <td>61.504343</td>\n",
       "      <td>0.000000</td>\n",
       "      <td>Pensioner</td>\n",
       "      <td>Higher education</td>\n",
       "      <td>Separated</td>\n",
       "      <td>House / apartment</td>\n",
       "      <td>Other</td>\n",
       "      <td>0</td>\n",
       "    </tr>\n",
       "    <tr>\n",
       "      <th>4</th>\n",
       "      <td>5008815</td>\n",
       "      <td>1</td>\n",
       "      <td>1</td>\n",
       "      <td>1</td>\n",
       "      <td>1</td>\n",
       "      <td>1</td>\n",
       "      <td>1</td>\n",
       "      <td>0</td>\n",
       "      <td>0</td>\n",
       "      <td>2</td>\n",
       "      <td>5</td>\n",
       "      <td>270000.0</td>\n",
       "      <td>46.193967</td>\n",
       "      <td>2.105450</td>\n",
       "      <td>Working</td>\n",
       "      <td>Higher education</td>\n",
       "      <td>Married</td>\n",
       "      <td>House / apartment</td>\n",
       "      <td>Accountants</td>\n",
       "      <td>0</td>\n",
       "    </tr>\n",
       "  </tbody>\n",
       "</table>\n",
       "</div>"
      ],
      "text/plain": [
       "        ID  Gender  Own_car  Own_property  Work_phone  Phone  Email  \\\n",
       "0  5008804       1        1             1           1      0      0   \n",
       "1  5008806       1        1             1           0      0      0   \n",
       "2  5008808       0        0             1           0      1      1   \n",
       "3  5008812       0        0             1           0      0      0   \n",
       "4  5008815       1        1             1           1      1      1   \n",
       "\n",
       "   Unemployed  Num_children  Num_family  Account_length  Total_income  \\\n",
       "0           0             0           2              15      427500.0   \n",
       "1           0             0           2              29      112500.0   \n",
       "2           0             0           1               4      270000.0   \n",
       "3           1             0           1              20      283500.0   \n",
       "4           0             0           2               5      270000.0   \n",
       "\n",
       "         Age  Years_employed           Income_type  \\\n",
       "0  32.868574       12.435574               Working   \n",
       "1  58.793815        3.104787               Working   \n",
       "2  52.321403        8.353354  Commercial associate   \n",
       "3  61.504343        0.000000             Pensioner   \n",
       "4  46.193967        2.105450               Working   \n",
       "\n",
       "                  Education_type         Family_status       Housing_type  \\\n",
       "0               Higher education        Civil marriage   Rented apartment   \n",
       "1  Secondary / secondary special               Married  House / apartment   \n",
       "2  Secondary / secondary special  Single / not married  House / apartment   \n",
       "3               Higher education             Separated  House / apartment   \n",
       "4               Higher education               Married  House / apartment   \n",
       "\n",
       "  Occupation_type  Target  \n",
       "0           Other       1  \n",
       "1  Security staff       0  \n",
       "2     Sales staff       0  \n",
       "3           Other       0  \n",
       "4     Accountants       0  "
      ]
     },
     "execution_count": 7,
     "metadata": {},
     "output_type": "execute_result"
    }
   ],
   "source": [
    "dfcct.head()"
   ]
  },
  {
   "cell_type": "code",
   "execution_count": 6,
   "id": "41c789a4",
   "metadata": {},
   "outputs": [],
   "source": [
    "dfcct = dfcc.copy()"
   ]
  },
  {
   "cell_type": "code",
   "execution_count": 8,
   "id": "494d4060",
   "metadata": {},
   "outputs": [],
   "source": [
    "dfcct.Gender = dfcct.Gender.replace(1, 'Male')\n",
    "dfcct.Gender = dfcct.Gender.replace(0, 'Female')"
   ]
  },
  {
   "cell_type": "code",
   "execution_count": 9,
   "id": "8570674f",
   "metadata": {},
   "outputs": [],
   "source": [
    "dfcct.Own_car = dfcct.Own_car.replace(1, 'Car')\n",
    "dfcct.Own_car = dfcct.Own_car.replace(0, 'No Car')"
   ]
  },
  {
   "cell_type": "code",
   "execution_count": 10,
   "id": "4064531e",
   "metadata": {},
   "outputs": [],
   "source": [
    "dfcct.Own_property = dfcct.Own_property.replace(1, 'Owns Property')\n",
    "dfcct.Own_property = dfcct.Own_property.replace(0, 'Rents Property')"
   ]
  },
  {
   "cell_type": "code",
   "execution_count": 11,
   "id": "18513f66",
   "metadata": {},
   "outputs": [],
   "source": [
    "dfcct.Unemployed = dfcct.Unemployed.replace(1, 'Unemployed')\n",
    "dfcct.Unemployed = dfcct.Unemployed.replace(0, 'Employed')"
   ]
  },
  {
   "cell_type": "code",
   "execution_count": 12,
   "id": "7a4621fc",
   "metadata": {},
   "outputs": [],
   "source": [
    "dfcct.Target = dfcct.Target.replace(1, 'Denied')\n",
    "dfcct.Target = dfcct.Target.replace(0, 'Approved')"
   ]
  },
  {
   "cell_type": "code",
   "execution_count": 13,
   "id": "d41b43c2",
   "metadata": {},
   "outputs": [
    {
     "data": {
      "text/plain": [
       "Index(['ID', 'Gender', 'Own_car', 'Own_property', 'Work_phone', 'Phone',\n",
       "       'Email', 'Unemployed', 'Num_children', 'Num_family', 'Account_length',\n",
       "       'Total_income', 'Age', 'Years_employed', 'Income_type',\n",
       "       'Education_type', 'Family_status', 'Housing_type', 'Occupation_type',\n",
       "       'Target'],\n",
       "      dtype='object')"
      ]
     },
     "execution_count": 13,
     "metadata": {},
     "output_type": "execute_result"
    }
   ],
   "source": [
    "dfcct.columns"
   ]
  },
  {
   "cell_type": "code",
   "execution_count": 18,
   "id": "30ffac29",
   "metadata": {},
   "outputs": [],
   "source": [
    "dfcct.columns = ['Applicant ID', 'Gender', 'Car Ownership', 'Property Ownership', 'Employment Status', 'Number of Children', 'Family Size', 'Lenth of Time Owned Credit Card (months)',\n",
    "       'Total Income (Yuan)', 'Age (Years)', 'Years Employed', 'Income Type',\n",
    "       'Education Type', 'Family Status', 'Housing Type', 'Occupation Type',\n",
    "       'Approval']"
   ]
  },
  {
   "cell_type": "code",
   "execution_count": 17,
   "id": "0d512933",
   "metadata": {},
   "outputs": [],
   "source": [
    "dfcct = dfcct.drop(['Work_phone', 'Phone',\n",
    "       'Email'], axis=1)"
   ]
  },
  {
   "cell_type": "code",
   "execution_count": 69,
   "id": "1d7e580d",
   "metadata": {},
   "outputs": [],
   "source": [
    "dfcct.to_csv('credit_card/credit_card_tableau.csv', index=False)"
   ]
  }
 ],
 "metadata": {
  "kernelspec": {
   "display_name": "Python 3 (ipykernel)",
   "language": "python",
   "name": "python3"
  },
  "language_info": {
   "codemirror_mode": {
    "name": "ipython",
    "version": 3
   },
   "file_extension": ".py",
   "mimetype": "text/x-python",
   "name": "python",
   "nbconvert_exporter": "python",
   "pygments_lexer": "ipython3",
   "version": "3.9.12"
  }
 },
 "nbformat": 4,
 "nbformat_minor": 5
}
