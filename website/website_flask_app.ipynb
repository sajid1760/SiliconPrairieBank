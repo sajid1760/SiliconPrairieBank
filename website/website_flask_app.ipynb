{
 "cells": [
  {
   "cell_type": "code",
   "execution_count": 1,
   "id": "424985fe",
   "metadata": {},
   "outputs": [
    {
     "data": {
      "text/html": [
       "<style>.container { width:100% !important; }</style>"
      ],
      "text/plain": [
       "<IPython.core.display.HTML object>"
      ]
     },
     "metadata": {},
     "output_type": "display_data"
    }
   ],
   "source": [
    "from IPython.display import display, HTML\n",
    "display(HTML(\"<style>.container { width:100% !important; }</style>\"))"
   ]
  },
  {
   "cell_type": "code",
   "execution_count": 2,
   "id": "1fa4ca38",
   "metadata": {},
   "outputs": [
    {
     "name": "stdout",
     "output_type": "stream",
     "text": [
      " * Serving Flask app \"__main__\" (lazy loading)\n",
      " * Environment: production\n",
      "\u001b[31m   WARNING: This is a development server. Do not use it in a production deployment.\u001b[0m\n",
      "\u001b[2m   Use a production WSGI server instead.\u001b[0m\n",
      " * Debug mode: on\n"
     ]
    },
    {
     "name": "stderr",
     "output_type": "stream",
     "text": [
      " * Restarting with watchdog (windowsapi)\n"
     ]
    },
    {
     "ename": "SystemExit",
     "evalue": "1",
     "output_type": "error",
     "traceback": [
      "An exception has occurred, use %tb to see the full traceback.\n",
      "\u001b[1;31mSystemExit\u001b[0m\u001b[1;31m:\u001b[0m 1\n"
     ]
    },
    {
     "name": "stderr",
     "output_type": "stream",
     "text": [
      "C:\\Users\\sajid\\anaconda3\\lib\\site-packages\\IPython\\core\\interactiveshell.py:3377: UserWarning: To exit: use 'exit', 'quit', or Ctrl-D.\n",
      "  warn(\"To exit: use 'exit', 'quit', or Ctrl-D.\", stacklevel=1)\n"
     ]
    }
   ],
   "source": [
    "from flask import Flask, render_template, jsonify, send_from_directory, request\n",
    "import json\n",
    "import pandas as pd\n",
    "import numpy as np\n",
    "import os\n",
    "import pickle\n",
    "from modelHelper import ModelHelper\n",
    "import json\n",
    "\n",
    "app = Flask(__name__)\n",
    "app.config['SEND_FILE_MAX_AGE_DEFAULT'] = 0\n",
    "modelHelper = ModelHelper()\n",
    "\n",
    "@app.route(\"/\")\n",
    "def home():\n",
    "    return render_template(\"home.html\")\n",
    "\n",
    "@app.route(\"/about\")\n",
    "def about():\n",
    "    return render_template(\"about.html\")\n",
    "\n",
    "@app.route(\"/data\")\n",
    "def data():\n",
    "    return render_template(\"data.html\")\n",
    "\n",
    "@app.route(\"/references\")\n",
    "def references():\n",
    "    return render_template(\"references.html\")\n",
    "\n",
    "@app.route(\"/credit_card\")\n",
    "def credit_card():\n",
    "    return render_template(\"credit_card.html\")\n",
    "\n",
    "@app.route(\"/loan\")\n",
    "def loan():\n",
    "    return render_template(\"loan.html\")\n",
    "\n",
    "@app.route(\"/makePredictions\", methods=[\"POST\"])\n",
    "def makePrediction():\n",
    "    content = request.json[\"data\"]\n",
    "    print(content)\n",
    "    data = json.load(content)\n",
    "    print(type(data))\n",
    "    #pred = modelHelper.makePredictions(content)\n",
    "    return(jsonify({\"ok\": True, \"prediction\": \"1\"}))\n",
    "\n",
    "\n",
    "\n",
    "\n",
    "#####################################################################\n",
    "@app.after_request\n",
    "def add_header(r):\n",
    "    \"\"\"\n",
    "    Add headers to both force latest IE rendering engine or Chrome Frame,\n",
    "    and also to cache the rendered page for 10 minutes.\n",
    "    \"\"\"\n",
    "    r.headers['X-UA-Compatible'] = 'IE=Edge,chrome=1'\n",
    "    r.headers[\"Cache-Control\"] = \"no-cache, no-store, must-revalidate, public, max-age=0\"\n",
    "    r.headers[\"Pragma\"] = \"no-cache\"\n",
    "    r.headers[\"Expires\"] = \"0\"\n",
    "    return r\n",
    "\n",
    "#main\n",
    "if __name__ == \"__main__\":\n",
    "    app.run(debug=True)"
   ]
  }
 ],
 "metadata": {
  "kernelspec": {
   "display_name": "Python [conda env:root] *",
   "language": "python",
   "name": "conda-root-py"
  },
  "language_info": {
   "codemirror_mode": {
    "name": "ipython",
    "version": 3
   },
   "file_extension": ".py",
   "mimetype": "text/x-python",
   "name": "python",
   "nbconvert_exporter": "python",
   "pygments_lexer": "ipython3",
   "version": "3.9.12"
  }
 },
 "nbformat": 4,
 "nbformat_minor": 5
}
